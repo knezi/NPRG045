{
 "cells": [
  {
   "cell_type": "markdown",
   "metadata": {},
   "source": [
    "# Prep set"
   ]
  },
  {
   "cell_type": "code",
   "execution_count": 1,
   "metadata": {},
   "outputs": [],
   "source": [
    "import pandas as pd\n",
    "import ast\n",
    "import json\n",
    "import subprocess as sb\n",
    "import numpy as np"
   ]
  },
  {
   "cell_type": "code",
   "execution_count": 2,
   "metadata": {},
   "outputs": [
    {
     "name": "stdout",
     "output_type": "stream",
     "text": [
      "10000\n",
      "20000\n",
      "30000\n",
      "40000\n",
      "50000\n",
      "60000\n",
      "70000\n",
      "80000\n",
      "90000\n",
      "100000\n",
      "110000\n",
      "120000\n",
      "130000\n",
      "140000\n",
      "150000\n",
      "160000\n",
      "170000\n",
      "180000\n",
      "190000\n",
      "200000\n"
     ]
    }
   ],
   "source": [
    "data=\"data.json\"\n",
    "with open(data, 'r') as r:\n",
    "    i=0\n",
    "    lines=[]\n",
    "    for x in r:\n",
    "        lines.append(pd.DataFrame([json.loads(x)]))\n",
    "        i+=1\n",
    "        if i%10000==0:\n",
    "            print(i)\n",
    "    res=pd.concat(lines)"
   ]
  },
  {
   "cell_type": "code",
   "execution_count": null,
   "metadata": {},
   "outputs": [],
   "source": []
  },
  {
   "cell_type": "code",
   "execution_count": 3,
   "metadata": {},
   "outputs": [],
   "source": [
    "res['business_review_count']=res['business_id'].map(lambda x: x['review_count'])"
   ]
  },
  {
   "cell_type": "code",
   "execution_count": 4,
   "metadata": {},
   "outputs": [],
   "source": [
    "res['attributes_count']=res['business_id'].map(lambda x: len(x['attributes']))"
   ]
  },
  {
   "cell_type": "code",
   "execution_count": 5,
   "metadata": {
    "scrolled": false
   },
   "outputs": [
    {
     "name": "stdout",
     "output_type": "stream",
     "text": [
      "0\n",
      "24\n"
     ]
    }
   ],
   "source": [
    "row=(dict(res[['attributes_count']].reset_index().iterrows())[0])\n",
    "for x in row:\n",
    "    print(x)"
   ]
  },
  {
   "cell_type": "code",
   "execution_count": 6,
   "metadata": {},
   "outputs": [
    {
     "data": {
      "text/plain": [
       "24"
      ]
     },
     "execution_count": 6,
     "metadata": {},
     "output_type": "execute_result"
    }
   ],
   "source": [
    "row[1]"
   ]
  },
  {
   "cell_type": "code",
   "execution_count": 7,
   "metadata": {
    "scrolled": false
   },
   "outputs": [],
   "source": [
    "res.index=pd.RangeIndex(len(res))"
   ]
  },
  {
   "cell_type": "code",
   "execution_count": 8,
   "metadata": {},
   "outputs": [
    {
     "data": {
      "text/plain": [
       "business_id              206705\n",
       "cool                     206705\n",
       "date                     206705\n",
       "funny                    206705\n",
       "incorrect_words          206705\n",
       "review_id                206705\n",
       "stars                    206705\n",
       "text                     206705\n",
       "useful                   206705\n",
       "user_id                  206705\n",
       "words                    206705\n",
       "business_review_count    206705\n",
       "attributes_count         206705\n",
       "dtype: int64"
      ]
     },
     "execution_count": 8,
     "metadata": {},
     "output_type": "execute_result"
    }
   ],
   "source": [
    "res.count()"
   ]
  },
  {
   "cell_type": "code",
   "execution_count": 9,
   "metadata": {},
   "outputs": [
    {
     "data": {
      "text/html": [
       "<div>\n",
       "<style scoped>\n",
       "    .dataframe tbody tr th:only-of-type {\n",
       "        vertical-align: middle;\n",
       "    }\n",
       "\n",
       "    .dataframe tbody tr th {\n",
       "        vertical-align: top;\n",
       "    }\n",
       "\n",
       "    .dataframe thead th {\n",
       "        text-align: right;\n",
       "    }\n",
       "</style>\n",
       "<table border=\"1\" class=\"dataframe\">\n",
       "  <thead>\n",
       "    <tr style=\"text-align: right;\">\n",
       "      <th></th>\n",
       "      <th>business_id</th>\n",
       "      <th>date</th>\n",
       "      <th>funny</th>\n",
       "      <th>incorrect_words</th>\n",
       "      <th>review_id</th>\n",
       "      <th>stars</th>\n",
       "      <th>text</th>\n",
       "      <th>useful</th>\n",
       "      <th>user_id</th>\n",
       "      <th>words</th>\n",
       "      <th>business_review_count</th>\n",
       "      <th>attributes_count</th>\n",
       "    </tr>\n",
       "    <tr>\n",
       "      <th>cool</th>\n",
       "      <th></th>\n",
       "      <th></th>\n",
       "      <th></th>\n",
       "      <th></th>\n",
       "      <th></th>\n",
       "      <th></th>\n",
       "      <th></th>\n",
       "      <th></th>\n",
       "      <th></th>\n",
       "      <th></th>\n",
       "      <th></th>\n",
       "      <th></th>\n",
       "    </tr>\n",
       "  </thead>\n",
       "  <tbody>\n",
       "    <tr>\n",
       "      <th>0</th>\n",
       "      <td>137645</td>\n",
       "      <td>137645</td>\n",
       "      <td>137645</td>\n",
       "      <td>137645</td>\n",
       "      <td>137645</td>\n",
       "      <td>137645</td>\n",
       "      <td>137645</td>\n",
       "      <td>137645</td>\n",
       "      <td>137645</td>\n",
       "      <td>137645</td>\n",
       "      <td>137645</td>\n",
       "      <td>137645</td>\n",
       "    </tr>\n",
       "    <tr>\n",
       "      <th>1</th>\n",
       "      <td>40566</td>\n",
       "      <td>40566</td>\n",
       "      <td>40566</td>\n",
       "      <td>40566</td>\n",
       "      <td>40566</td>\n",
       "      <td>40566</td>\n",
       "      <td>40566</td>\n",
       "      <td>40566</td>\n",
       "      <td>40566</td>\n",
       "      <td>40566</td>\n",
       "      <td>40566</td>\n",
       "      <td>40566</td>\n",
       "    </tr>\n",
       "    <tr>\n",
       "      <th>2</th>\n",
       "      <td>13957</td>\n",
       "      <td>13957</td>\n",
       "      <td>13957</td>\n",
       "      <td>13957</td>\n",
       "      <td>13957</td>\n",
       "      <td>13957</td>\n",
       "      <td>13957</td>\n",
       "      <td>13957</td>\n",
       "      <td>13957</td>\n",
       "      <td>13957</td>\n",
       "      <td>13957</td>\n",
       "      <td>13957</td>\n",
       "    </tr>\n",
       "    <tr>\n",
       "      <th>3</th>\n",
       "      <td>6022</td>\n",
       "      <td>6022</td>\n",
       "      <td>6022</td>\n",
       "      <td>6022</td>\n",
       "      <td>6022</td>\n",
       "      <td>6022</td>\n",
       "      <td>6022</td>\n",
       "      <td>6022</td>\n",
       "      <td>6022</td>\n",
       "      <td>6022</td>\n",
       "      <td>6022</td>\n",
       "      <td>6022</td>\n",
       "    </tr>\n",
       "    <tr>\n",
       "      <th>4</th>\n",
       "      <td>2919</td>\n",
       "      <td>2919</td>\n",
       "      <td>2919</td>\n",
       "      <td>2919</td>\n",
       "      <td>2919</td>\n",
       "      <td>2919</td>\n",
       "      <td>2919</td>\n",
       "      <td>2919</td>\n",
       "      <td>2919</td>\n",
       "      <td>2919</td>\n",
       "      <td>2919</td>\n",
       "      <td>2919</td>\n",
       "    </tr>\n",
       "    <tr>\n",
       "      <th>...</th>\n",
       "      <td>...</td>\n",
       "      <td>...</td>\n",
       "      <td>...</td>\n",
       "      <td>...</td>\n",
       "      <td>...</td>\n",
       "      <td>...</td>\n",
       "      <td>...</td>\n",
       "      <td>...</td>\n",
       "      <td>...</td>\n",
       "      <td>...</td>\n",
       "      <td>...</td>\n",
       "      <td>...</td>\n",
       "    </tr>\n",
       "    <tr>\n",
       "      <th>167</th>\n",
       "      <td>1</td>\n",
       "      <td>1</td>\n",
       "      <td>1</td>\n",
       "      <td>1</td>\n",
       "      <td>1</td>\n",
       "      <td>1</td>\n",
       "      <td>1</td>\n",
       "      <td>1</td>\n",
       "      <td>1</td>\n",
       "      <td>1</td>\n",
       "      <td>1</td>\n",
       "      <td>1</td>\n",
       "    </tr>\n",
       "    <tr>\n",
       "      <th>170</th>\n",
       "      <td>1</td>\n",
       "      <td>1</td>\n",
       "      <td>1</td>\n",
       "      <td>1</td>\n",
       "      <td>1</td>\n",
       "      <td>1</td>\n",
       "      <td>1</td>\n",
       "      <td>1</td>\n",
       "      <td>1</td>\n",
       "      <td>1</td>\n",
       "      <td>1</td>\n",
       "      <td>1</td>\n",
       "    </tr>\n",
       "    <tr>\n",
       "      <th>172</th>\n",
       "      <td>1</td>\n",
       "      <td>1</td>\n",
       "      <td>1</td>\n",
       "      <td>1</td>\n",
       "      <td>1</td>\n",
       "      <td>1</td>\n",
       "      <td>1</td>\n",
       "      <td>1</td>\n",
       "      <td>1</td>\n",
       "      <td>1</td>\n",
       "      <td>1</td>\n",
       "      <td>1</td>\n",
       "    </tr>\n",
       "    <tr>\n",
       "      <th>173</th>\n",
       "      <td>1</td>\n",
       "      <td>1</td>\n",
       "      <td>1</td>\n",
       "      <td>1</td>\n",
       "      <td>1</td>\n",
       "      <td>1</td>\n",
       "      <td>1</td>\n",
       "      <td>1</td>\n",
       "      <td>1</td>\n",
       "      <td>1</td>\n",
       "      <td>1</td>\n",
       "      <td>1</td>\n",
       "    </tr>\n",
       "    <tr>\n",
       "      <th>245</th>\n",
       "      <td>1</td>\n",
       "      <td>1</td>\n",
       "      <td>1</td>\n",
       "      <td>1</td>\n",
       "      <td>1</td>\n",
       "      <td>1</td>\n",
       "      <td>1</td>\n",
       "      <td>1</td>\n",
       "      <td>1</td>\n",
       "      <td>1</td>\n",
       "      <td>1</td>\n",
       "      <td>1</td>\n",
       "    </tr>\n",
       "  </tbody>\n",
       "</table>\n",
       "<p>65 rows × 12 columns</p>\n",
       "</div>"
      ],
      "text/plain": [
       "      business_id    date   funny  incorrect_words  review_id   stars    text  \\\n",
       "cool                                                                            \n",
       "0          137645  137645  137645           137645     137645  137645  137645   \n",
       "1           40566   40566   40566            40566      40566   40566   40566   \n",
       "2           13957   13957   13957            13957      13957   13957   13957   \n",
       "3            6022    6022    6022             6022       6022    6022    6022   \n",
       "4            2919    2919    2919             2919       2919    2919    2919   \n",
       "...           ...     ...     ...              ...        ...     ...     ...   \n",
       "167             1       1       1                1          1       1       1   \n",
       "170             1       1       1                1          1       1       1   \n",
       "172             1       1       1                1          1       1       1   \n",
       "173             1       1       1                1          1       1       1   \n",
       "245             1       1       1                1          1       1       1   \n",
       "\n",
       "      useful  user_id   words  business_review_count  attributes_count  \n",
       "cool                                                                    \n",
       "0     137645   137645  137645                 137645            137645  \n",
       "1      40566    40566   40566                  40566             40566  \n",
       "2      13957    13957   13957                  13957             13957  \n",
       "3       6022     6022    6022                   6022              6022  \n",
       "4       2919     2919    2919                   2919              2919  \n",
       "...      ...      ...     ...                    ...               ...  \n",
       "167        1        1       1                      1                 1  \n",
       "170        1        1       1                      1                 1  \n",
       "172        1        1       1                      1                 1  \n",
       "173        1        1       1                      1                 1  \n",
       "245        1        1       1                      1                 1  \n",
       "\n",
       "[65 rows x 12 columns]"
      ]
     },
     "execution_count": 9,
     "metadata": {},
     "output_type": "execute_result"
    }
   ],
   "source": [
    "pd.set_option('display.max_rows', 10)\n",
    "res.groupby('cool').count()"
   ]
  },
  {
   "cell_type": "code",
   "execution_count": 10,
   "metadata": {},
   "outputs": [
    {
     "data": {
      "text/html": [
       "<div>\n",
       "<style scoped>\n",
       "    .dataframe tbody tr th:only-of-type {\n",
       "        vertical-align: middle;\n",
       "    }\n",
       "\n",
       "    .dataframe tbody tr th {\n",
       "        vertical-align: top;\n",
       "    }\n",
       "\n",
       "    .dataframe thead th {\n",
       "        text-align: right;\n",
       "    }\n",
       "</style>\n",
       "<table border=\"1\" class=\"dataframe\">\n",
       "  <thead>\n",
       "    <tr style=\"text-align: right;\">\n",
       "      <th></th>\n",
       "      <th>business_id</th>\n",
       "      <th>cool</th>\n",
       "      <th>date</th>\n",
       "      <th>funny</th>\n",
       "      <th>incorrect_words</th>\n",
       "      <th>review_id</th>\n",
       "      <th>stars</th>\n",
       "      <th>text</th>\n",
       "      <th>user_id</th>\n",
       "      <th>words</th>\n",
       "      <th>business_review_count</th>\n",
       "      <th>attributes_count</th>\n",
       "    </tr>\n",
       "    <tr>\n",
       "      <th>useful</th>\n",
       "      <th></th>\n",
       "      <th></th>\n",
       "      <th></th>\n",
       "      <th></th>\n",
       "      <th></th>\n",
       "      <th></th>\n",
       "      <th></th>\n",
       "      <th></th>\n",
       "      <th></th>\n",
       "      <th></th>\n",
       "      <th></th>\n",
       "      <th></th>\n",
       "    </tr>\n",
       "  </thead>\n",
       "  <tbody>\n",
       "    <tr>\n",
       "      <th>0</th>\n",
       "      <td>78021</td>\n",
       "      <td>78021</td>\n",
       "      <td>78021</td>\n",
       "      <td>78021</td>\n",
       "      <td>78021</td>\n",
       "      <td>78021</td>\n",
       "      <td>78021</td>\n",
       "      <td>78021</td>\n",
       "      <td>78021</td>\n",
       "      <td>78021</td>\n",
       "      <td>78021</td>\n",
       "      <td>78021</td>\n",
       "    </tr>\n",
       "    <tr>\n",
       "      <th>1</th>\n",
       "      <td>51087</td>\n",
       "      <td>51087</td>\n",
       "      <td>51087</td>\n",
       "      <td>51087</td>\n",
       "      <td>51087</td>\n",
       "      <td>51087</td>\n",
       "      <td>51087</td>\n",
       "      <td>51087</td>\n",
       "      <td>51087</td>\n",
       "      <td>51087</td>\n",
       "      <td>51087</td>\n",
       "      <td>51087</td>\n",
       "    </tr>\n",
       "    <tr>\n",
       "      <th>2</th>\n",
       "      <td>28837</td>\n",
       "      <td>28837</td>\n",
       "      <td>28837</td>\n",
       "      <td>28837</td>\n",
       "      <td>28837</td>\n",
       "      <td>28837</td>\n",
       "      <td>28837</td>\n",
       "      <td>28837</td>\n",
       "      <td>28837</td>\n",
       "      <td>28837</td>\n",
       "      <td>28837</td>\n",
       "      <td>28837</td>\n",
       "    </tr>\n",
       "    <tr>\n",
       "      <th>3</th>\n",
       "      <td>16355</td>\n",
       "      <td>16355</td>\n",
       "      <td>16355</td>\n",
       "      <td>16355</td>\n",
       "      <td>16355</td>\n",
       "      <td>16355</td>\n",
       "      <td>16355</td>\n",
       "      <td>16355</td>\n",
       "      <td>16355</td>\n",
       "      <td>16355</td>\n",
       "      <td>16355</td>\n",
       "      <td>16355</td>\n",
       "    </tr>\n",
       "    <tr>\n",
       "      <th>4</th>\n",
       "      <td>9858</td>\n",
       "      <td>9858</td>\n",
       "      <td>9858</td>\n",
       "      <td>9858</td>\n",
       "      <td>9858</td>\n",
       "      <td>9858</td>\n",
       "      <td>9858</td>\n",
       "      <td>9858</td>\n",
       "      <td>9858</td>\n",
       "      <td>9858</td>\n",
       "      <td>9858</td>\n",
       "      <td>9858</td>\n",
       "    </tr>\n",
       "    <tr>\n",
       "      <th>...</th>\n",
       "      <td>...</td>\n",
       "      <td>...</td>\n",
       "      <td>...</td>\n",
       "      <td>...</td>\n",
       "      <td>...</td>\n",
       "      <td>...</td>\n",
       "      <td>...</td>\n",
       "      <td>...</td>\n",
       "      <td>...</td>\n",
       "      <td>...</td>\n",
       "      <td>...</td>\n",
       "      <td>...</td>\n",
       "    </tr>\n",
       "    <tr>\n",
       "      <th>168</th>\n",
       "      <td>1</td>\n",
       "      <td>1</td>\n",
       "      <td>1</td>\n",
       "      <td>1</td>\n",
       "      <td>1</td>\n",
       "      <td>1</td>\n",
       "      <td>1</td>\n",
       "      <td>1</td>\n",
       "      <td>1</td>\n",
       "      <td>1</td>\n",
       "      <td>1</td>\n",
       "      <td>1</td>\n",
       "    </tr>\n",
       "    <tr>\n",
       "      <th>170</th>\n",
       "      <td>1</td>\n",
       "      <td>1</td>\n",
       "      <td>1</td>\n",
       "      <td>1</td>\n",
       "      <td>1</td>\n",
       "      <td>1</td>\n",
       "      <td>1</td>\n",
       "      <td>1</td>\n",
       "      <td>1</td>\n",
       "      <td>1</td>\n",
       "      <td>1</td>\n",
       "      <td>1</td>\n",
       "    </tr>\n",
       "    <tr>\n",
       "      <th>173</th>\n",
       "      <td>1</td>\n",
       "      <td>1</td>\n",
       "      <td>1</td>\n",
       "      <td>1</td>\n",
       "      <td>1</td>\n",
       "      <td>1</td>\n",
       "      <td>1</td>\n",
       "      <td>1</td>\n",
       "      <td>1</td>\n",
       "      <td>1</td>\n",
       "      <td>1</td>\n",
       "      <td>1</td>\n",
       "    </tr>\n",
       "    <tr>\n",
       "      <th>175</th>\n",
       "      <td>1</td>\n",
       "      <td>1</td>\n",
       "      <td>1</td>\n",
       "      <td>1</td>\n",
       "      <td>1</td>\n",
       "      <td>1</td>\n",
       "      <td>1</td>\n",
       "      <td>1</td>\n",
       "      <td>1</td>\n",
       "      <td>1</td>\n",
       "      <td>1</td>\n",
       "      <td>1</td>\n",
       "    </tr>\n",
       "    <tr>\n",
       "      <th>2133</th>\n",
       "      <td>1</td>\n",
       "      <td>1</td>\n",
       "      <td>1</td>\n",
       "      <td>1</td>\n",
       "      <td>1</td>\n",
       "      <td>1</td>\n",
       "      <td>1</td>\n",
       "      <td>1</td>\n",
       "      <td>1</td>\n",
       "      <td>1</td>\n",
       "      <td>1</td>\n",
       "      <td>1</td>\n",
       "    </tr>\n",
       "  </tbody>\n",
       "</table>\n",
       "<p>91 rows × 12 columns</p>\n",
       "</div>"
      ],
      "text/plain": [
       "        business_id   cool   date  funny  incorrect_words  review_id  stars  \\\n",
       "useful                                                                        \n",
       "0             78021  78021  78021  78021            78021      78021  78021   \n",
       "1             51087  51087  51087  51087            51087      51087  51087   \n",
       "2             28837  28837  28837  28837            28837      28837  28837   \n",
       "3             16355  16355  16355  16355            16355      16355  16355   \n",
       "4              9858   9858   9858   9858             9858       9858   9858   \n",
       "...             ...    ...    ...    ...              ...        ...    ...   \n",
       "168               1      1      1      1                1          1      1   \n",
       "170               1      1      1      1                1          1      1   \n",
       "173               1      1      1      1                1          1      1   \n",
       "175               1      1      1      1                1          1      1   \n",
       "2133              1      1      1      1                1          1      1   \n",
       "\n",
       "         text  user_id  words  business_review_count  attributes_count  \n",
       "useful                                                                  \n",
       "0       78021    78021  78021                  78021             78021  \n",
       "1       51087    51087  51087                  51087             51087  \n",
       "2       28837    28837  28837                  28837             28837  \n",
       "3       16355    16355  16355                  16355             16355  \n",
       "4        9858     9858   9858                   9858              9858  \n",
       "...       ...      ...    ...                    ...               ...  \n",
       "168         1        1      1                      1                 1  \n",
       "170         1        1      1                      1                 1  \n",
       "173         1        1      1                      1                 1  \n",
       "175         1        1      1                      1                 1  \n",
       "2133        1        1      1                      1                 1  \n",
       "\n",
       "[91 rows x 12 columns]"
      ]
     },
     "execution_count": 10,
     "metadata": {},
     "output_type": "execute_result"
    }
   ],
   "source": [
    "res.groupby('useful').count()"
   ]
  },
  {
   "cell_type": "code",
   "execution_count": 11,
   "metadata": {},
   "outputs": [
    {
     "data": {
      "text/html": [
       "<div>\n",
       "<style scoped>\n",
       "    .dataframe tbody tr th:only-of-type {\n",
       "        vertical-align: middle;\n",
       "    }\n",
       "\n",
       "    .dataframe tbody tr th {\n",
       "        vertical-align: top;\n",
       "    }\n",
       "\n",
       "    .dataframe thead th {\n",
       "        text-align: right;\n",
       "    }\n",
       "</style>\n",
       "<table border=\"1\" class=\"dataframe\">\n",
       "  <thead>\n",
       "    <tr style=\"text-align: right;\">\n",
       "      <th></th>\n",
       "      <th>business_id</th>\n",
       "      <th>cool</th>\n",
       "      <th>date</th>\n",
       "      <th>incorrect_words</th>\n",
       "      <th>review_id</th>\n",
       "      <th>stars</th>\n",
       "      <th>text</th>\n",
       "      <th>useful</th>\n",
       "      <th>user_id</th>\n",
       "      <th>words</th>\n",
       "      <th>business_review_count</th>\n",
       "      <th>attributes_count</th>\n",
       "    </tr>\n",
       "    <tr>\n",
       "      <th>funny</th>\n",
       "      <th></th>\n",
       "      <th></th>\n",
       "      <th></th>\n",
       "      <th></th>\n",
       "      <th></th>\n",
       "      <th></th>\n",
       "      <th></th>\n",
       "      <th></th>\n",
       "      <th></th>\n",
       "      <th></th>\n",
       "      <th></th>\n",
       "      <th></th>\n",
       "    </tr>\n",
       "  </thead>\n",
       "  <tbody>\n",
       "    <tr>\n",
       "      <th>0</th>\n",
       "      <td>146281</td>\n",
       "      <td>146281</td>\n",
       "      <td>146281</td>\n",
       "      <td>146281</td>\n",
       "      <td>146281</td>\n",
       "      <td>146281</td>\n",
       "      <td>146281</td>\n",
       "      <td>146281</td>\n",
       "      <td>146281</td>\n",
       "      <td>146281</td>\n",
       "      <td>146281</td>\n",
       "      <td>146281</td>\n",
       "    </tr>\n",
       "    <tr>\n",
       "      <th>1</th>\n",
       "      <td>33556</td>\n",
       "      <td>33556</td>\n",
       "      <td>33556</td>\n",
       "      <td>33556</td>\n",
       "      <td>33556</td>\n",
       "      <td>33556</td>\n",
       "      <td>33556</td>\n",
       "      <td>33556</td>\n",
       "      <td>33556</td>\n",
       "      <td>33556</td>\n",
       "      <td>33556</td>\n",
       "      <td>33556</td>\n",
       "    </tr>\n",
       "    <tr>\n",
       "      <th>2</th>\n",
       "      <td>11938</td>\n",
       "      <td>11938</td>\n",
       "      <td>11938</td>\n",
       "      <td>11938</td>\n",
       "      <td>11938</td>\n",
       "      <td>11938</td>\n",
       "      <td>11938</td>\n",
       "      <td>11938</td>\n",
       "      <td>11938</td>\n",
       "      <td>11938</td>\n",
       "      <td>11938</td>\n",
       "      <td>11938</td>\n",
       "    </tr>\n",
       "    <tr>\n",
       "      <th>3</th>\n",
       "      <td>5537</td>\n",
       "      <td>5537</td>\n",
       "      <td>5537</td>\n",
       "      <td>5537</td>\n",
       "      <td>5537</td>\n",
       "      <td>5537</td>\n",
       "      <td>5537</td>\n",
       "      <td>5537</td>\n",
       "      <td>5537</td>\n",
       "      <td>5537</td>\n",
       "      <td>5537</td>\n",
       "      <td>5537</td>\n",
       "    </tr>\n",
       "    <tr>\n",
       "      <th>4</th>\n",
       "      <td>2982</td>\n",
       "      <td>2982</td>\n",
       "      <td>2982</td>\n",
       "      <td>2982</td>\n",
       "      <td>2982</td>\n",
       "      <td>2982</td>\n",
       "      <td>2982</td>\n",
       "      <td>2982</td>\n",
       "      <td>2982</td>\n",
       "      <td>2982</td>\n",
       "      <td>2982</td>\n",
       "      <td>2982</td>\n",
       "    </tr>\n",
       "    <tr>\n",
       "      <th>...</th>\n",
       "      <td>...</td>\n",
       "      <td>...</td>\n",
       "      <td>...</td>\n",
       "      <td>...</td>\n",
       "      <td>...</td>\n",
       "      <td>...</td>\n",
       "      <td>...</td>\n",
       "      <td>...</td>\n",
       "      <td>...</td>\n",
       "      <td>...</td>\n",
       "      <td>...</td>\n",
       "      <td>...</td>\n",
       "    </tr>\n",
       "    <tr>\n",
       "      <th>260</th>\n",
       "      <td>1</td>\n",
       "      <td>1</td>\n",
       "      <td>1</td>\n",
       "      <td>1</td>\n",
       "      <td>1</td>\n",
       "      <td>1</td>\n",
       "      <td>1</td>\n",
       "      <td>1</td>\n",
       "      <td>1</td>\n",
       "      <td>1</td>\n",
       "      <td>1</td>\n",
       "      <td>1</td>\n",
       "    </tr>\n",
       "    <tr>\n",
       "      <th>414</th>\n",
       "      <td>1</td>\n",
       "      <td>1</td>\n",
       "      <td>1</td>\n",
       "      <td>1</td>\n",
       "      <td>1</td>\n",
       "      <td>1</td>\n",
       "      <td>1</td>\n",
       "      <td>1</td>\n",
       "      <td>1</td>\n",
       "      <td>1</td>\n",
       "      <td>1</td>\n",
       "      <td>1</td>\n",
       "    </tr>\n",
       "    <tr>\n",
       "      <th>487</th>\n",
       "      <td>1</td>\n",
       "      <td>1</td>\n",
       "      <td>1</td>\n",
       "      <td>1</td>\n",
       "      <td>1</td>\n",
       "      <td>1</td>\n",
       "      <td>1</td>\n",
       "      <td>1</td>\n",
       "      <td>1</td>\n",
       "      <td>1</td>\n",
       "      <td>1</td>\n",
       "      <td>1</td>\n",
       "    </tr>\n",
       "    <tr>\n",
       "      <th>870</th>\n",
       "      <td>1</td>\n",
       "      <td>1</td>\n",
       "      <td>1</td>\n",
       "      <td>1</td>\n",
       "      <td>1</td>\n",
       "      <td>1</td>\n",
       "      <td>1</td>\n",
       "      <td>1</td>\n",
       "      <td>1</td>\n",
       "      <td>1</td>\n",
       "      <td>1</td>\n",
       "      <td>1</td>\n",
       "    </tr>\n",
       "    <tr>\n",
       "      <th>932</th>\n",
       "      <td>1</td>\n",
       "      <td>1</td>\n",
       "      <td>1</td>\n",
       "      <td>1</td>\n",
       "      <td>1</td>\n",
       "      <td>1</td>\n",
       "      <td>1</td>\n",
       "      <td>1</td>\n",
       "      <td>1</td>\n",
       "      <td>1</td>\n",
       "      <td>1</td>\n",
       "      <td>1</td>\n",
       "    </tr>\n",
       "  </tbody>\n",
       "</table>\n",
       "<p>79 rows × 12 columns</p>\n",
       "</div>"
      ],
      "text/plain": [
       "       business_id    cool    date  incorrect_words  review_id   stars  \\\n",
       "funny                                                                    \n",
       "0           146281  146281  146281           146281     146281  146281   \n",
       "1            33556   33556   33556            33556      33556   33556   \n",
       "2            11938   11938   11938            11938      11938   11938   \n",
       "3             5537    5537    5537             5537       5537    5537   \n",
       "4             2982    2982    2982             2982       2982    2982   \n",
       "...            ...     ...     ...              ...        ...     ...   \n",
       "260              1       1       1                1          1       1   \n",
       "414              1       1       1                1          1       1   \n",
       "487              1       1       1                1          1       1   \n",
       "870              1       1       1                1          1       1   \n",
       "932              1       1       1                1          1       1   \n",
       "\n",
       "         text  useful  user_id   words  business_review_count  \\\n",
       "funny                                                           \n",
       "0      146281  146281   146281  146281                 146281   \n",
       "1       33556   33556    33556   33556                  33556   \n",
       "2       11938   11938    11938   11938                  11938   \n",
       "3        5537    5537     5537    5537                   5537   \n",
       "4        2982    2982     2982    2982                   2982   \n",
       "...       ...     ...      ...     ...                    ...   \n",
       "260         1       1        1       1                      1   \n",
       "414         1       1        1       1                      1   \n",
       "487         1       1        1       1                      1   \n",
       "870         1       1        1       1                      1   \n",
       "932         1       1        1       1                      1   \n",
       "\n",
       "       attributes_count  \n",
       "funny                    \n",
       "0                146281  \n",
       "1                 33556  \n",
       "2                 11938  \n",
       "3                  5537  \n",
       "4                  2982  \n",
       "...                 ...  \n",
       "260                   1  \n",
       "414                   1  \n",
       "487                   1  \n",
       "870                   1  \n",
       "932                   1  \n",
       "\n",
       "[79 rows x 12 columns]"
      ]
     },
     "execution_count": 11,
     "metadata": {},
     "output_type": "execute_result"
    }
   ],
   "source": [
    "res.groupby('funny').count()"
   ]
  },
  {
   "cell_type": "code",
   "execution_count": 12,
   "metadata": {},
   "outputs": [
    {
     "data": {
      "text/plain": [
       "'interesting cave like setting.  busy, but way overpriced for what it is.  nothing special or memorable about the steaks or sides. average quality food. average service, nothing special to stand out from any other restaurant. hyped name.  professional host greeting.'"
      ]
     },
     "execution_count": 12,
     "metadata": {},
     "output_type": "execute_result"
    }
   ],
   "source": [
    "res['text'].loc[2]"
   ]
  },
  {
   "cell_type": "code",
   "execution_count": 13,
   "metadata": {},
   "outputs": [
    {
     "data": {
      "text/html": [
       "<div>\n",
       "<style scoped>\n",
       "    .dataframe tbody tr th:only-of-type {\n",
       "        vertical-align: middle;\n",
       "    }\n",
       "\n",
       "    .dataframe tbody tr th {\n",
       "        vertical-align: top;\n",
       "    }\n",
       "\n",
       "    .dataframe thead th {\n",
       "        text-align: right;\n",
       "    }\n",
       "</style>\n",
       "<table border=\"1\" class=\"dataframe\">\n",
       "  <thead>\n",
       "    <tr style=\"text-align: right;\">\n",
       "      <th></th>\n",
       "      <th>business_id</th>\n",
       "      <th>cool</th>\n",
       "      <th>date</th>\n",
       "      <th>funny</th>\n",
       "      <th>incorrect_words</th>\n",
       "      <th>review_id</th>\n",
       "      <th>stars</th>\n",
       "      <th>text</th>\n",
       "      <th>useful</th>\n",
       "      <th>user_id</th>\n",
       "      <th>words</th>\n",
       "      <th>business_review_count</th>\n",
       "      <th>attributes_count</th>\n",
       "    </tr>\n",
       "  </thead>\n",
       "  <tbody>\n",
       "  </tbody>\n",
       "</table>\n",
       "</div>"
      ],
      "text/plain": [
       "Empty DataFrame\n",
       "Columns: [business_id, cool, date, funny, incorrect_words, review_id, stars, text, useful, user_id, words, business_review_count, attributes_count]\n",
       "Index: []"
      ]
     },
     "execution_count": 13,
     "metadata": {},
     "output_type": "execute_result"
    }
   ],
   "source": [
    "res[res['text'].isnull()]"
   ]
  },
  {
   "cell_type": "code",
   "execution_count": 14,
   "metadata": {
    "scrolled": false
   },
   "outputs": [],
   "source": [
    "# number of words\n",
    "#pd.set_option('display.max_rows', 800)\n",
    "#res.groupby(lambda a: len(res['text'].loc[a].split(' '))).count()"
   ]
  },
  {
   "cell_type": "code",
   "execution_count": 15,
   "metadata": {
    "scrolled": false
   },
   "outputs": [
    {
     "data": {
      "text/plain": [
       "business_id              139075\n",
       "cool                     139075\n",
       "date                     139075\n",
       "funny                    139075\n",
       "incorrect_words          139075\n",
       "                          ...  \n",
       "useful                   139075\n",
       "user_id                  139075\n",
       "words                    139075\n",
       "business_review_count    139075\n",
       "attributes_count         139075\n",
       "Length: 13, dtype: int64"
      ]
     },
     "execution_count": 15,
     "metadata": {},
     "output_type": "execute_result"
    }
   ],
   "source": [
    "# review_counts\n",
    "#res.groupby('business_review_count').count()\n",
    "res[res['business_review_count']>50].count()"
   ]
  },
  {
   "cell_type": "code",
   "execution_count": 16,
   "metadata": {},
   "outputs": [
    {
     "data": {
      "text/plain": [
       "business_id              132341\n",
       "cool                     132341\n",
       "date                     132341\n",
       "funny                    132341\n",
       "incorrect_words          132341\n",
       "                          ...  \n",
       "useful                   132341\n",
       "user_id                  132341\n",
       "words                    132341\n",
       "business_review_count    132341\n",
       "attributes_count         132341\n",
       "Length: 13, dtype: int64"
      ]
     },
     "execution_count": 16,
     "metadata": {},
     "output_type": "execute_result"
    }
   ],
   "source": [
    "res.groupby('attributes_count').count()\n",
    "res[res['attributes_count']>10].count()"
   ]
  },
  {
   "cell_type": "code",
   "execution_count": 17,
   "metadata": {},
   "outputs": [],
   "source": [
    "pd.set_option('display.max_rows', 0)"
   ]
  },
  {
   "cell_type": "code",
   "execution_count": 18,
   "metadata": {},
   "outputs": [
    {
     "data": {
      "text/plain": [
       "4.0"
      ]
     },
     "execution_count": 18,
     "metadata": {},
     "output_type": "execute_result"
    }
   ],
   "source": [
    "res['business_id'].loc[2]['stars']"
   ]
  },
  {
   "cell_type": "code",
   "execution_count": 19,
   "metadata": {},
   "outputs": [
    {
     "name": "stdout",
     "output_type": "stream",
     "text": [
      "139075\n"
     ]
    }
   ],
   "source": [
    "n=res[res['business_review_count']>50].count()[0]\n",
    "print(n)\n",
    "#print(type(n))\n",
    "#rs=res[res['business_review_count']>50].sample(n=n).copy()\n",
    "#pos=rs[rs[like_type]>2].sample(n=40000).copy()"
   ]
  },
  {
   "cell_type": "code",
   "execution_count": 20,
   "metadata": {},
   "outputs": [],
   "source": [
    "#res[lambda r: True].sample(n=1) #??\n",
    "#res[print(res['business'])]#\n",
    "#res[print(type(res['business']))]\n",
    "#res.apply()\n",
    "#res[res['business'].get('business_id')=='aAbL_y05zPWaIrT1QtDWxw'].sample(n=1)"
   ]
  },
  {
   "cell_type": "code",
   "execution_count": 21,
   "metadata": {},
   "outputs": [],
   "source": [
    "def get_reviews(like_type):\n",
    "    n=res[res['business_review_count']>50].count()[0]\n",
    "    #print(n)\n",
    "    #print(type(n))\n",
    "    tmp=res[res['business_review_count']>50].sample(n=n).copy()\n",
    "    n=tmp[tmp['attributes_count']>10].count()[0]\n",
    "    rs=tmp[tmp['attributes_count']>10].sample(n=n).copy()\n",
    "\n",
    "    pos=rs[rs[like_type]>2].sample(n=10000).copy()\n",
    "    pos['classification']=like_type\n",
    "    neg=rs[rs[like_type]==0].sample(n=10000).copy()\n",
    "    neg['classification']='not-'+like_type\n",
    "    all=pd.concat([pos, neg])\n",
    "    all=all[['text', like_type, 'classification', 'stars', 'business_id', 'words']].reset_index(drop=True)\n",
    "    return all"
   ]
  },
  {
   "cell_type": "markdown",
   "metadata": {},
   "source": [
    "# Classification"
   ]
  },
  {
   "cell_type": "code",
   "execution_count": 22,
   "metadata": {
    "scrolled": false
   },
   "outputs": [],
   "source": [
    "import nltk\n",
    "toker=nltk.tokenize.TweetTokenizer()"
   ]
  },
  {
   "cell_type": "code",
   "execution_count": 23,
   "metadata": {},
   "outputs": [],
   "source": [
    "like_type='useful'\n",
    "#like_type='funny'\n",
    "#like_type='cool'"
   ]
  },
  {
   "cell_type": "code",
   "execution_count": 24,
   "metadata": {},
   "outputs": [],
   "source": [
    "reviews=get_reviews(like_type)"
   ]
  },
  {
   "cell_type": "code",
   "execution_count": 27,
   "metadata": {},
   "outputs": [
    {
     "name": "stdout",
     "output_type": "stream",
     "text": [
      "total number of words: 3517721\n",
      "unique words: 49492\n",
      "words present only once: 23816\n"
     ]
    },
    {
     "data": {
      "image/png": "[encoded data removed]",
      "text/plain": [
       "<Figure size 432x288 with 1 Axes>"
      ]
     },
     "metadata": {},
     "output_type": "display_data"
    }
   ],
   "source": [
    "texts_tokenized = (toker.tokenize(row.text) for index, row in reviews.iterrows())\n",
    "all_words = nltk.FreqDist(w.lower() for tokens in texts_tokenized for w in tokens)\n",
    "\n",
    "print('total number of words:', sum(all_words.values()))\n",
    "print('unique words:', len(all_words))\n",
    "print('words present only once:', sum(c for c in all_words.values() if c == 1))\n",
    "\n",
    "all_words.plot(30)"
   ]
  },
  {
   "cell_type": "code",
   "execution_count": 28,
   "metadata": {},
   "outputs": [
    {
     "name": "stdout",
     "output_type": "stream",
     "text": [
      "feature words: 25262\n"
     ]
    },
    {
     "data": {
      "image/png": "[encoded data removed]",
      "text/plain": [
       "<Figure size 432x288 with 1 Axes>"
      ]
     },
     "metadata": {},
     "output_type": "display_data"
    }
   ],
   "source": [
    "words = all_words.copy()\n",
    "for w, count in all_words.items():\n",
    "    if count > 1000 or count == 1:\n",
    "        del words[w]\n",
    "\n",
    "print('feature words:', len(words))\n",
    "words.plot(40)"
   ]
  },
  {
   "cell_type": "code",
   "execution_count": 29,
   "metadata": {},
   "outputs": [],
   "source": [
    "word_features = frozenset(words.keys())\n",
    "\n",
    "def features(row):\n",
    "    text=row.text\n",
    "    txt_words = set(toker.tokenize(text.lower()))\n",
    "    features = {}\n",
    "    for w in txt_words & word_features:\n",
    "        #features['contains({})'.format(w)] = 'Yes' # beze slov je to lepsi\n",
    "        pass\n",
    "    \n",
    "    text=toker.tokenize(text.lower())\n",
    "    for w,w2 in zip(text[:-1], text[1:]):\n",
    "        if w in word_features and w2 in word_features:\n",
    "                features['contains({}&&&{})'.format(w,w2)] = 'Yes'\n",
    "                pass\n",
    "            \n",
    "    #features['contains(@@stars{})'.format(row.stars)] = 'Yes'\n",
    "    features['@@@stars'] = row.stars\n",
    "    features['@@@bus_stars']=row['business_id']['stars']\n",
    "    #features['@@@review_count']= \"A lot\" if row['business']['review_count']  else \"A few\"\n",
    "    l=row['words']\n",
    "    features['@@@review_length']= \"short\" if l<50 else \"middle\" if l<150 else \"long\"\n",
    "    \n",
    "    return features"
   ]
  },
  {
   "cell_type": "code",
   "execution_count": 30,
   "metadata": {
    "scrolled": false
   },
   "outputs": [],
   "source": [
    "# generate tuples: (features_dict, sentiment)\n",
    "feature_sets = [(features(row), row.classification) for index, row in reviews.iterrows()]"
   ]
  },
  {
   "cell_type": "code",
   "execution_count": 31,
   "metadata": {},
   "outputs": [
    {
     "data": {
      "text/plain": [
       "({'contains(peculiar&&&rabbit)': 'Yes',\n",
       "  'contains(definite&&&step)': 'Yes',\n",
       "  'contains(step&&&above)': 'Yes',\n",
       "  'contains(late&&&brunch)': 'Yes',\n",
       "  'contains(potato&&&tart)': 'Yes',\n",
       "  'contains(perfectly&&&seasoned)': 'Yes',\n",
       "  'contains(seasoned&&&asparagus)': 'Yes',\n",
       "  'contains(chick&&&pea)': 'Yes',\n",
       "  'contains(saving&&&grace)': 'Yes',\n",
       "  'contains(bounds&&&above)': 'Yes',\n",
       "  '@@@stars': 3,\n",
       "  '@@@bus_stars': 3.0,\n",
       "  '@@@review_length': 'long'},\n",
       " 'useful')"
      ]
     },
     "execution_count": 31,
     "metadata": {},
     "output_type": "execute_result"
    }
   ],
   "source": [
    "feature_sets[0]"
   ]
  },
  {
   "cell_type": "code",
   "execution_count": null,
   "metadata": {},
   "outputs": [],
   "source": []
  },
  {
   "cell_type": "markdown",
   "metadata": {},
   "source": [
    "# Model training"
   ]
  },
  {
   "cell_type": "code",
   "execution_count": 32,
   "metadata": {},
   "outputs": [
    {
     "data": {
      "text/plain": [
       "10000"
      ]
     },
     "execution_count": 32,
     "metadata": {},
     "output_type": "execute_result"
    }
   ],
   "source": [
    "    import random\n",
    "    random.shuffle(feature_sets)\n",
    "    half=int(len(feature_sets)/2)\n",
    "    train_set, test_set = feature_sets[:half], feature_sets[half:]\n",
    "    half"
   ]
  },
  {
   "cell_type": "code",
   "execution_count": 33,
   "metadata": {},
   "outputs": [],
   "source": [
    "classifier = nltk.NaiveBayesClassifier.train(train_set)"
   ]
  },
  {
   "cell_type": "code",
   "execution_count": 34,
   "metadata": {},
   "outputs": [
    {
     "name": "stdout",
     "output_type": "stream",
     "text": [
      "0.6524\n"
     ]
    }
   ],
   "source": [
    "print(nltk.classify.accuracy(classifier, test_set))"
   ]
  },
  {
   "cell_type": "code",
   "execution_count": 35,
   "metadata": {},
   "outputs": [
    {
     "name": "stdout",
     "output_type": "stream",
     "text": [
      "Most Informative Features\n",
      "contains(fremont&&&street) = 'Yes'          useful : not-us =     10.4 : 1.0\n",
      "contains(ranch&&&dressing) = 'Yes'          useful : not-us =      9.7 : 1.0\n",
      "contains(cash&&&register) = 'Yes'          useful : not-us =      9.7 : 1.0\n",
      "contains(second&&&chance) = 'Yes'          useful : not-us =      9.7 : 1.0\n",
      "contains(upon&&&entering) = 'Yes'          useful : not-us =      9.0 : 1.0\n",
      "contains(including&&&tip) = 'Yes'          useful : not-us =      8.4 : 1.0\n",
      "contains(petite&&&filet) = 'Yes'          useful : not-us =      8.4 : 1.0\n",
      "contains(empty&&&stomach) = 'Yes'          useful : not-us =      8.4 : 1.0\n",
      " contains(eye&&&contact) = 'Yes'          useful : not-us =      8.2 : 1.0\n",
      "        contains(20&&&%) = 'Yes'          useful : not-us =      8.2 : 1.0\n",
      "  contains(%&&&gratuity) = 'Yes'          useful : not-us =      7.7 : 1.0\n",
      "   contains(hong&&&kong) = 'Yes'          useful : not-us =      7.7 : 1.0\n",
      "contains(cocktail&&&list) = 'Yes'          useful : not-us =      7.7 : 1.0\n",
      "contains(bonus&&&points) = 'Yes'          useful : not-us =      7.7 : 1.0\n",
      "contains(corn&&&tortilla) = 'Yes'          useful : not-us =      7.7 : 1.0\n",
      "contains(saving&&&grace) = 'Yes'          useful : not-us =      7.0 : 1.0\n",
      "     contains(20&&&mins) = 'Yes'          useful : not-us =      7.0 : 1.0\n",
      "contains(powdered&&&sugar) = 'Yes'          useful : not-us =      7.0 : 1.0\n",
      " contains(let's&&&start) = 'Yes'          useful : not-us =      6.7 : 1.0\n",
      "contains(mixed&&&greens) = 'Yes'          useful : not-us =      6.6 : 1.0\n",
      "  contains(light&&&rail) = 'Yes'          useful : not-us =      6.4 : 1.0\n",
      "contains(brussels&&&sprouts) = 'Yes'          useful : not-us =      6.4 : 1.0\n",
      " contains(flat&&&screen) = 'Yes'          useful : not-us =      6.4 : 1.0\n",
      "contains(golden&&&brown) = 'Yes'          useful : not-us =      6.4 : 1.0\n",
      "  contains(guy&&&behind) = 'Yes'          useful : not-us =      6.4 : 1.0\n",
      "  contains(boiled&&&egg) = 'Yes'          useful : not-us =      6.4 : 1.0\n",
      "contains(refried&&&beans) = 'Yes'          useful : not-us =      6.4 : 1.0\n",
      "   contains(live&&&band) = 'Yes'          useful : not-us =      6.4 : 1.0\n",
      "contains(roasted&&&garlic) = 'Yes'          useful : not-us =      6.4 : 1.0\n",
      "contains(middle&&&eastern) = 'Yes'          useful : not-us =      5.9 : 1.0\n"
     ]
    }
   ],
   "source": [
    "classifier.show_most_informative_features(30)"
   ]
  },
  {
   "cell_type": "code",
   "execution_count": null,
   "metadata": {},
   "outputs": [],
   "source": []
  },
  {
   "cell_type": "code",
   "execution_count": null,
   "metadata": {},
   "outputs": [],
   "source": []
  },
  {
   "cell_type": "code",
   "execution_count": 36,
   "metadata": {},
   "outputs": [],
   "source": [
    "# information gain\n",
    "X, Y = [x[0] for x in test_set], [x[1] for x in test_set]"
   ]
  },
  {
   "cell_type": "code",
   "execution_count": null,
   "metadata": {
    "scrolled": false
   },
   "outputs": [],
   "source": []
  },
  {
   "cell_type": "code",
   "execution_count": 38,
   "metadata": {},
   "outputs": [],
   "source": [
    "from sklearn.datasets import fetch_20newsgroups\n",
    "from sklearn.feature_selection import mutual_info_classif\n",
    "from sklearn.feature_extraction.text import CountVectorizer"
   ]
  },
  {
   "cell_type": "code",
   "execution_count": 39,
   "metadata": {},
   "outputs": [
    {
     "data": {
      "text/plain": [
       "{'contains(chose&&&cabo)': 'Yes',\n",
       " 'contains(cabo&&&wabo)': 'Yes',\n",
       " 'contains(hostess&&&stand)': 'Yes',\n",
       " 'contains(beers&&&qualified)': 'Yes',\n",
       " 'contains(mexican&&&beers)': 'Yes',\n",
       " 'contains(dos&&&xx)': 'Yes',\n",
       " 'contains(xx&&&lager)': 'Yes',\n",
       " 'contains(tecate&&&instead)': 'Yes',\n",
       " 'contains(coors&&&light)': 'Yes',\n",
       " 'contains(ordering&&&product)': 'Yes',\n",
       " 'contains(bottled&&&mexican)': 'Yes',\n",
       " 'contains(beers&&&specials)': 'Yes',\n",
       " \"contains(they're&&&available)\": 'Yes',\n",
       " '@@@stars': 2,\n",
       " '@@@bus_stars': 3.5,\n",
       " '@@@review_length': 'long'}"
      ]
     },
     "execution_count": 39,
     "metadata": {},
     "output_type": "execute_result"
    }
   ],
   "source": [
    "X[0]"
   ]
  },
  {
   "cell_type": "code",
   "execution_count": 40,
   "metadata": {},
   "outputs": [],
   "source": [
    "cv_gain = CountVectorizer(max_df=0.95, min_df=2,\n",
    "                                     max_features=10000)"
   ]
  },
  {
   "cell_type": "code",
   "execution_count": 41,
   "metadata": {},
   "outputs": [],
   "source": [
    "all_keys=[set(x.keys()) for x in X]"
   ]
  },
  {
   "cell_type": "code",
   "execution_count": 42,
   "metadata": {},
   "outputs": [],
   "source": [
    "import functools\n",
    "all_fs=functools.reduce(lambda a,b: a.union(b), all_keys)\n",
    "all_fs=list(all_fs)"
   ]
  },
  {
   "cell_type": "code",
   "execution_count": 43,
   "metadata": {
    "scrolled": false
   },
   "outputs": [
    {
     "data": {
      "text/plain": [
       "63730"
      ]
     },
     "execution_count": 43,
     "metadata": {},
     "output_type": "execute_result"
    }
   ],
   "source": [
    "len(all_fs)"
   ]
  },
  {
   "cell_type": "code",
   "execution_count": 44,
   "metadata": {},
   "outputs": [],
   "source": [
    "def get_int(val):\n",
    "    if isinstance(val, int):\n",
    "        return val\n",
    "    if isinstance(val, float):\n",
    "        return val\n",
    "    vals={\"Yes\":1, \"No\":0, \"middle\":1, \"long\":2, \"short\":0}\n",
    "    return vals[val]"
   ]
  },
  {
   "cell_type": "code",
   "execution_count": 45,
   "metadata": {},
   "outputs": [],
   "source": [
    "#X_matrix=[]\n",
    "#\n",
    "#for x in X:\n",
    "#    row=[]\n",
    "#    for key in all_fs:\n",
    "#        if key in x:\n",
    "#            row.append(get_int(x[key]))\n",
    "#        else:\n",
    "#            row.append(0)\n",
    "#    X_matrix.append(row)"
   ]
  },
  {
   "cell_type": "code",
   "execution_count": 46,
   "metadata": {},
   "outputs": [],
   "source": [
    "import scipy"
   ]
  },
  {
   "cell_type": "code",
   "execution_count": 48,
   "metadata": {},
   "outputs": [],
   "source": [
    "row=[]\n",
    "x=X[0]\n",
    "\n",
    "for key in all_fs:\n",
    "    if key in x:\n",
    "        row.append(get_int(x[key]))\n",
    "    else:\n",
    "        row.append(0)\n",
    "        \n",
    "X_matrix=scipy.sparse.lil_matrix([row])\n",
    "\n",
    "i=0\n",
    "for x in X[1:]:\n",
    "    row=[]\n",
    "    for key in all_fs:\n",
    "        if key in x:\n",
    "            row.append(get_int(x[key]))\n",
    "        else:\n",
    "            row.append(0)\n",
    "    X_matrix=scipy.sparse.vstack((X_matrix, scipy.sparse.lil_matrix([row])))\n",
    "    i+=1\n",
    "    #if i==1000:\n",
    "       #break"
   ]
  },
  {
   "cell_type": "code",
   "execution_count": 49,
   "metadata": {},
   "outputs": [
    {
     "data": {
      "text/plain": [
       "10000"
      ]
     },
     "execution_count": 49,
     "metadata": {},
     "output_type": "execute_result"
    }
   ],
   "source": [
    "len(X)"
   ]
  },
  {
   "cell_type": "code",
   "execution_count": 50,
   "metadata": {},
   "outputs": [
    {
     "data": {
      "text/plain": [
       "<10000x63730 sparse matrix of type '<class 'numpy.float64'>'\n",
       "\twith 115168 stored elements in COOrdinate format>"
      ]
     },
     "execution_count": 50,
     "metadata": {},
     "output_type": "execute_result"
    }
   ],
   "source": [
    "X_matrix"
   ]
  },
  {
   "cell_type": "code",
   "execution_count": null,
   "metadata": {},
   "outputs": [],
   "source": []
  },
  {
   "cell_type": "code",
   "execution_count": 51,
   "metadata": {},
   "outputs": [],
   "source": [
    "res_gain = list(zip(all_fs, mutual_info_classif(X_matrix, Y, discrete_features=True)))"
   ]
  },
  {
   "cell_type": "code",
   "execution_count": 52,
   "metadata": {},
   "outputs": [],
   "source": [
    "#res_gain"
   ]
  },
  {
   "cell_type": "code",
   "execution_count": 53,
   "metadata": {},
   "outputs": [
    {
     "data": {
      "text/plain": [
       "[('contains(8p&&&m)', 0.0006313845978370598),\n",
       " ('contains(olive&&&oil)', 0.0006692912690465687),\n",
       " ('contains(20&&&%)', 0.0005000588615356374),\n",
       " ('contains(maine&&&lobster)', 0.0007610871675580236),\n",
       " ('contains(speak&&&english)', 0.0005927899045953841),\n",
       " ('contains(upon&&&entering)', 0.0006754020793837872),\n",
       " ('contains(black&&&truffle)', 0.0005471704678337457),\n",
       " ('contains(interior&&&design)', 0.0006087202075131712),\n",
       " ('contains(baked&&&beans)', 0.0005471704678337457),\n",
       " ('contains(dance&&&floor)', 0.000724199090562868),\n",
       " ('contains(extremely&&&rude)', 0.0006226178265124529),\n",
       " ('contains(green&&&onions)', 0.000853104382188858),\n",
       " ('contains(pay&&&attention)', 0.0005610974718162497),\n",
       " ('contains(credit&&&card)', 0.0006386277206740076),\n",
       " ('contains(cell&&&phone)', 0.0006226178265124529),\n",
       " ('contains(green&&&tea)', 0.0007695397501157469),\n",
       " (\"contains(someone&&&else's)\", 0.0005533981439785991),\n",
       " ('contains(creme&&&fraiche)', 0.0005533981439785991),\n",
       " ('contains(grocery&&&store)', 0.000682620489112112),\n",
       " ('contains(facebook&&&page)', 0.0006226178265124529),\n",
       " ('contains(return&&&factor)', 0.0005533981439785991),\n",
       " ('contains(refried&&&beans)', 0.0006226178265124529),\n",
       " ('contains(grand&&&opening)', 0.0005927899045953841),\n",
       " ('@@@bus_stars', 0.0010624354690838564),\n",
       " ('contains(fellow&&&yelpers)', 0.000853104382188858),\n",
       " ('@@@review_length', 0.09133355998949175),\n",
       " ('contains(credit&&&cards)', 0.0005806063793077063),\n",
       " ('contains(matters&&&worse)', 0.0005533981439785991),\n",
       " ('contains(east&&&valley)', 0.0005047635184859849),\n",
       " (\"contains(couldn't&&&believe)\", 0.0007345284535439391),\n",
       " ('contains(past&&&sunday)', 0.0005533981439785991),\n",
       " ('contains(medium&&&rare)', 0.0010462673028194171),\n",
       " ('contains(onion&&&rings)', 0.0005037703955761662),\n",
       " ('@@@stars', 0.013074057535445341),\n",
       " ('contains(main&&&courses)', 0.0005806063793077063),\n",
       " ('contains(bok&&&choy)', 0.000618227295878959)]"
      ]
     },
     "execution_count": 53,
     "metadata": {},
     "output_type": "execute_result"
    }
   ],
   "source": [
    "[(x,y) for (x,y) in res_gain if y>0.0005]"
   ]
  },
  {
   "cell_type": "code",
   "execution_count": 54,
   "metadata": {},
   "outputs": [
    {
     "data": {
      "text/plain": [
       "[('@@@bus_stars', 0.0010624354690838564),\n",
       " ('@@@review_length', 0.09133355998949175),\n",
       " ('contains(medium&&&rare)', 0.0010462673028194171),\n",
       " ('@@@stars', 0.013074057535445341)]"
      ]
     },
     "execution_count": 54,
     "metadata": {},
     "output_type": "execute_result"
    }
   ],
   "source": [
    "[(x,y) for (x,y) in res_gain if y>0.001]"
   ]
  },
  {
   "cell_type": "code",
   "execution_count": null,
   "metadata": {},
   "outputs": [],
   "source": []
  },
  {
   "cell_type": "code",
   "execution_count": null,
   "metadata": {},
   "outputs": [],
   "source": []
  }
 ],
 "metadata": {
  "kernelspec": {
   "display_name": "Python 3",
   "language": "python",
   "name": "python3"
  },
  "language_info": {
   "codemirror_mode": {
    "name": "ipython",
    "version": 3
   },
   "file_extension": ".py",
   "mimetype": "text/x-python",
   "name": "python",
   "nbconvert_exporter": "python",
   "pygments_lexer": "ipython3",
   "version": "3.7.0"
  }
 },
 "nbformat": 4,
 "nbformat_minor": 2
}
