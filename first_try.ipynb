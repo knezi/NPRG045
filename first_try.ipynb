{
 "cells": [
  {
   "cell_type": "markdown",
   "metadata": {},
   "source": [
    "# Prep set"
   ]
  },
  {
   "cell_type": "code",
   "execution_count": 1,
   "metadata": {},
   "outputs": [],
   "source": [
    "import pandas as pd\n",
    "import ast\n",
    "import json\n",
    "import subprocess as sb\n",
    "import numpy as np"
   ]
  },
  {
   "cell_type": "code",
   "execution_count": 2,
   "metadata": {},
   "outputs": [
    {
     "name": "stdout",
     "output_type": "stream",
     "text": [
      "10000\n",
      "20000\n",
      "30000\n",
      "40000\n",
      "50000\n",
      "60000\n",
      "70000\n",
      "80000\n",
      "90000\n",
      "100000\n",
      "110000\n",
      "120000\n",
      "130000\n",
      "140000\n",
      "150000\n",
      "160000\n",
      "170000\n",
      "180000\n",
      "190000\n",
      "200000\n"
     ]
    }
   ],
   "source": [
    "data=\"data.json\"\n",
    "with open(data, 'r') as r:\n",
    "    i=0\n",
    "    lines=[]\n",
    "    for x in r:\n",
    "        lines.append(pd.DataFrame([json.loads(x)]))\n",
    "        i+=1\n",
    "        if i%10000==0:\n",
    "            print(i)\n",
    "    res=pd.concat(lines)"
   ]
  },
  {
   "cell_type": "code",
   "execution_count": null,
   "metadata": {},
   "outputs": [],
   "source": []
  },
  {
   "cell_type": "code",
   "execution_count": 3,
   "metadata": {},
   "outputs": [],
   "source": [
    "res['business_review_count']=res['business_id'].map(lambda x: x['review_count'])"
   ]
  },
  {
   "cell_type": "code",
   "execution_count": 4,
   "metadata": {},
   "outputs": [],
   "source": [
    "res['attributes_count']=res['business_id'].map(lambda x: len(x['attributes']))"
   ]
  },
  {
   "cell_type": "code",
   "execution_count": 5,
   "metadata": {
    "scrolled": false
   },
   "outputs": [
    {
     "name": "stdout",
     "output_type": "stream",
     "text": [
      "0\n",
      "24\n"
     ]
    }
   ],
   "source": [
    "row=(dict(res[['attributes_count']].reset_index().iterrows())[0])\n",
    "for x in row:\n",
    "    print(x)"
   ]
  },
  {
   "cell_type": "code",
   "execution_count": 6,
   "metadata": {},
   "outputs": [
    {
     "data": {
      "text/plain": [
       "24"
      ]
     },
     "execution_count": 6,
     "metadata": {},
     "output_type": "execute_result"
    }
   ],
   "source": [
    "row[1]"
   ]
  },
  {
   "cell_type": "code",
   "execution_count": 7,
   "metadata": {
    "scrolled": false
   },
   "outputs": [],
   "source": [
    "res.index=pd.RangeIndex(len(res))"
   ]
  },
  {
   "cell_type": "code",
   "execution_count": 8,
   "metadata": {},
   "outputs": [
    {
     "data": {
      "text/plain": [
       "business_id              206705\n",
       "cool                     206705\n",
       "date                     206705\n",
       "funny                    206705\n",
       "incorrect_words          206705\n",
       "review_id                206705\n",
       "stars                    206705\n",
       "text                     206705\n",
       "useful                   206705\n",
       "user_id                  206705\n",
       "words                    206705\n",
       "business_review_count    206705\n",
       "attributes_count         206705\n",
       "dtype: int64"
      ]
     },
     "execution_count": 8,
     "metadata": {},
     "output_type": "execute_result"
    }
   ],
   "source": [
    "res.count()"
   ]
  },
  {
   "cell_type": "code",
   "execution_count": 9,
   "metadata": {},
   "outputs": [
    {
     "data": {
      "text/html": [
       "<div>\n",
       "<style scoped>\n",
       "    .dataframe tbody tr th:only-of-type {\n",
       "        vertical-align: middle;\n",
       "    }\n",
       "\n",
       "    .dataframe tbody tr th {\n",
       "        vertical-align: top;\n",
       "    }\n",
       "\n",
       "    .dataframe thead th {\n",
       "        text-align: right;\n",
       "    }\n",
       "</style>\n",
       "<table border=\"1\" class=\"dataframe\">\n",
       "  <thead>\n",
       "    <tr style=\"text-align: right;\">\n",
       "      <th></th>\n",
       "      <th>business_id</th>\n",
       "      <th>date</th>\n",
       "      <th>funny</th>\n",
       "      <th>incorrect_words</th>\n",
       "      <th>review_id</th>\n",
       "      <th>stars</th>\n",
       "      <th>text</th>\n",
       "      <th>useful</th>\n",
       "      <th>user_id</th>\n",
       "      <th>words</th>\n",
       "      <th>business_review_count</th>\n",
       "      <th>attributes_count</th>\n",
       "    </tr>\n",
       "    <tr>\n",
       "      <th>cool</th>\n",
       "      <th></th>\n",
       "      <th></th>\n",
       "      <th></th>\n",
       "      <th></th>\n",
       "      <th></th>\n",
       "      <th></th>\n",
       "      <th></th>\n",
       "      <th></th>\n",
       "      <th></th>\n",
       "      <th></th>\n",
       "      <th></th>\n",
       "      <th></th>\n",
       "    </tr>\n",
       "  </thead>\n",
       "  <tbody>\n",
       "    <tr>\n",
       "      <th>0</th>\n",
       "      <td>137645</td>\n",
       "      <td>137645</td>\n",
       "      <td>137645</td>\n",
       "      <td>137645</td>\n",
       "      <td>137645</td>\n",
       "      <td>137645</td>\n",
       "      <td>137645</td>\n",
       "      <td>137645</td>\n",
       "      <td>137645</td>\n",
       "      <td>137645</td>\n",
       "      <td>137645</td>\n",
       "      <td>137645</td>\n",
       "    </tr>\n",
       "    <tr>\n",
       "      <th>1</th>\n",
       "      <td>40566</td>\n",
       "      <td>40566</td>\n",
       "      <td>40566</td>\n",
       "      <td>40566</td>\n",
       "      <td>40566</td>\n",
       "      <td>40566</td>\n",
       "      <td>40566</td>\n",
       "      <td>40566</td>\n",
       "      <td>40566</td>\n",
       "      <td>40566</td>\n",
       "      <td>40566</td>\n",
       "      <td>40566</td>\n",
       "    </tr>\n",
       "    <tr>\n",
       "      <th>2</th>\n",
       "      <td>13957</td>\n",
       "      <td>13957</td>\n",
       "      <td>13957</td>\n",
       "      <td>13957</td>\n",
       "      <td>13957</td>\n",
       "      <td>13957</td>\n",
       "      <td>13957</td>\n",
       "      <td>13957</td>\n",
       "      <td>13957</td>\n",
       "      <td>13957</td>\n",
       "      <td>13957</td>\n",
       "      <td>13957</td>\n",
       "    </tr>\n",
       "    <tr>\n",
       "      <th>3</th>\n",
       "      <td>6022</td>\n",
       "      <td>6022</td>\n",
       "      <td>6022</td>\n",
       "      <td>6022</td>\n",
       "      <td>6022</td>\n",
       "      <td>6022</td>\n",
       "      <td>6022</td>\n",
       "      <td>6022</td>\n",
       "      <td>6022</td>\n",
       "      <td>6022</td>\n",
       "      <td>6022</td>\n",
       "      <td>6022</td>\n",
       "    </tr>\n",
       "    <tr>\n",
       "      <th>4</th>\n",
       "      <td>2919</td>\n",
       "      <td>2919</td>\n",
       "      <td>2919</td>\n",
       "      <td>2919</td>\n",
       "      <td>2919</td>\n",
       "      <td>2919</td>\n",
       "      <td>2919</td>\n",
       "      <td>2919</td>\n",
       "      <td>2919</td>\n",
       "      <td>2919</td>\n",
       "      <td>2919</td>\n",
       "      <td>2919</td>\n",
       "    </tr>\n",
       "    <tr>\n",
       "      <th>...</th>\n",
       "      <td>...</td>\n",
       "      <td>...</td>\n",
       "      <td>...</td>\n",
       "      <td>...</td>\n",
       "      <td>...</td>\n",
       "      <td>...</td>\n",
       "      <td>...</td>\n",
       "      <td>...</td>\n",
       "      <td>...</td>\n",
       "      <td>...</td>\n",
       "      <td>...</td>\n",
       "      <td>...</td>\n",
       "    </tr>\n",
       "    <tr>\n",
       "      <th>167</th>\n",
       "      <td>1</td>\n",
       "      <td>1</td>\n",
       "      <td>1</td>\n",
       "      <td>1</td>\n",
       "      <td>1</td>\n",
       "      <td>1</td>\n",
       "      <td>1</td>\n",
       "      <td>1</td>\n",
       "      <td>1</td>\n",
       "      <td>1</td>\n",
       "      <td>1</td>\n",
       "      <td>1</td>\n",
       "    </tr>\n",
       "    <tr>\n",
       "      <th>170</th>\n",
       "      <td>1</td>\n",
       "      <td>1</td>\n",
       "      <td>1</td>\n",
       "      <td>1</td>\n",
       "      <td>1</td>\n",
       "      <td>1</td>\n",
       "      <td>1</td>\n",
       "      <td>1</td>\n",
       "      <td>1</td>\n",
       "      <td>1</td>\n",
       "      <td>1</td>\n",
       "      <td>1</td>\n",
       "    </tr>\n",
       "    <tr>\n",
       "      <th>172</th>\n",
       "      <td>1</td>\n",
       "      <td>1</td>\n",
       "      <td>1</td>\n",
       "      <td>1</td>\n",
       "      <td>1</td>\n",
       "      <td>1</td>\n",
       "      <td>1</td>\n",
       "      <td>1</td>\n",
       "      <td>1</td>\n",
       "      <td>1</td>\n",
       "      <td>1</td>\n",
       "      <td>1</td>\n",
       "    </tr>\n",
       "    <tr>\n",
       "      <th>173</th>\n",
       "      <td>1</td>\n",
       "      <td>1</td>\n",
       "      <td>1</td>\n",
       "      <td>1</td>\n",
       "      <td>1</td>\n",
       "      <td>1</td>\n",
       "      <td>1</td>\n",
       "      <td>1</td>\n",
       "      <td>1</td>\n",
       "      <td>1</td>\n",
       "      <td>1</td>\n",
       "      <td>1</td>\n",
       "    </tr>\n",
       "    <tr>\n",
       "      <th>245</th>\n",
       "      <td>1</td>\n",
       "      <td>1</td>\n",
       "      <td>1</td>\n",
       "      <td>1</td>\n",
       "      <td>1</td>\n",
       "      <td>1</td>\n",
       "      <td>1</td>\n",
       "      <td>1</td>\n",
       "      <td>1</td>\n",
       "      <td>1</td>\n",
       "      <td>1</td>\n",
       "      <td>1</td>\n",
       "    </tr>\n",
       "  </tbody>\n",
       "</table>\n",
       "<p>65 rows × 12 columns</p>\n",
       "</div>"
      ],
      "text/plain": [
       "      business_id    date   funny  incorrect_words  review_id   stars    text  \\\n",
       "cool                                                                            \n",
       "0          137645  137645  137645           137645     137645  137645  137645   \n",
       "1           40566   40566   40566            40566      40566   40566   40566   \n",
       "2           13957   13957   13957            13957      13957   13957   13957   \n",
       "3            6022    6022    6022             6022       6022    6022    6022   \n",
       "4            2919    2919    2919             2919       2919    2919    2919   \n",
       "...           ...     ...     ...              ...        ...     ...     ...   \n",
       "167             1       1       1                1          1       1       1   \n",
       "170             1       1       1                1          1       1       1   \n",
       "172             1       1       1                1          1       1       1   \n",
       "173             1       1       1                1          1       1       1   \n",
       "245             1       1       1                1          1       1       1   \n",
       "\n",
       "      useful  user_id   words  business_review_count  attributes_count  \n",
       "cool                                                                    \n",
       "0     137645   137645  137645                 137645            137645  \n",
       "1      40566    40566   40566                  40566             40566  \n",
       "2      13957    13957   13957                  13957             13957  \n",
       "3       6022     6022    6022                   6022              6022  \n",
       "4       2919     2919    2919                   2919              2919  \n",
       "...      ...      ...     ...                    ...               ...  \n",
       "167        1        1       1                      1                 1  \n",
       "170        1        1       1                      1                 1  \n",
       "172        1        1       1                      1                 1  \n",
       "173        1        1       1                      1                 1  \n",
       "245        1        1       1                      1                 1  \n",
       "\n",
       "[65 rows x 12 columns]"
      ]
     },
     "execution_count": 9,
     "metadata": {},
     "output_type": "execute_result"
    }
   ],
   "source": [
    "pd.set_option('display.max_rows', 10)\n",
    "res.groupby('cool').count()"
   ]
  },
  {
   "cell_type": "code",
   "execution_count": 10,
   "metadata": {},
   "outputs": [
    {
     "data": {
      "text/html": [
       "<div>\n",
       "<style scoped>\n",
       "    .dataframe tbody tr th:only-of-type {\n",
       "        vertical-align: middle;\n",
       "    }\n",
       "\n",
       "    .dataframe tbody tr th {\n",
       "        vertical-align: top;\n",
       "    }\n",
       "\n",
       "    .dataframe thead th {\n",
       "        text-align: right;\n",
       "    }\n",
       "</style>\n",
       "<table border=\"1\" class=\"dataframe\">\n",
       "  <thead>\n",
       "    <tr style=\"text-align: right;\">\n",
       "      <th></th>\n",
       "      <th>business_id</th>\n",
       "      <th>cool</th>\n",
       "      <th>date</th>\n",
       "      <th>funny</th>\n",
       "      <th>incorrect_words</th>\n",
       "      <th>review_id</th>\n",
       "      <th>stars</th>\n",
       "      <th>text</th>\n",
       "      <th>user_id</th>\n",
       "      <th>words</th>\n",
       "      <th>business_review_count</th>\n",
       "      <th>attributes_count</th>\n",
       "    </tr>\n",
       "    <tr>\n",
       "      <th>useful</th>\n",
       "      <th></th>\n",
       "      <th></th>\n",
       "      <th></th>\n",
       "      <th></th>\n",
       "      <th></th>\n",
       "      <th></th>\n",
       "      <th></th>\n",
       "      <th></th>\n",
       "      <th></th>\n",
       "      <th></th>\n",
       "      <th></th>\n",
       "      <th></th>\n",
       "    </tr>\n",
       "  </thead>\n",
       "  <tbody>\n",
       "    <tr>\n",
       "      <th>0</th>\n",
       "      <td>78021</td>\n",
       "      <td>78021</td>\n",
       "      <td>78021</td>\n",
       "      <td>78021</td>\n",
       "      <td>78021</td>\n",
       "      <td>78021</td>\n",
       "      <td>78021</td>\n",
       "      <td>78021</td>\n",
       "      <td>78021</td>\n",
       "      <td>78021</td>\n",
       "      <td>78021</td>\n",
       "      <td>78021</td>\n",
       "    </tr>\n",
       "    <tr>\n",
       "      <th>1</th>\n",
       "      <td>51087</td>\n",
       "      <td>51087</td>\n",
       "      <td>51087</td>\n",
       "      <td>51087</td>\n",
       "      <td>51087</td>\n",
       "      <td>51087</td>\n",
       "      <td>51087</td>\n",
       "      <td>51087</td>\n",
       "      <td>51087</td>\n",
       "      <td>51087</td>\n",
       "      <td>51087</td>\n",
       "      <td>51087</td>\n",
       "    </tr>\n",
       "    <tr>\n",
       "      <th>2</th>\n",
       "      <td>28837</td>\n",
       "      <td>28837</td>\n",
       "      <td>28837</td>\n",
       "      <td>28837</td>\n",
       "      <td>28837</td>\n",
       "      <td>28837</td>\n",
       "      <td>28837</td>\n",
       "      <td>28837</td>\n",
       "      <td>28837</td>\n",
       "      <td>28837</td>\n",
       "      <td>28837</td>\n",
       "      <td>28837</td>\n",
       "    </tr>\n",
       "    <tr>\n",
       "      <th>3</th>\n",
       "      <td>16355</td>\n",
       "      <td>16355</td>\n",
       "      <td>16355</td>\n",
       "      <td>16355</td>\n",
       "      <td>16355</td>\n",
       "      <td>16355</td>\n",
       "      <td>16355</td>\n",
       "      <td>16355</td>\n",
       "      <td>16355</td>\n",
       "      <td>16355</td>\n",
       "      <td>16355</td>\n",
       "      <td>16355</td>\n",
       "    </tr>\n",
       "    <tr>\n",
       "      <th>4</th>\n",
       "      <td>9858</td>\n",
       "      <td>9858</td>\n",
       "      <td>9858</td>\n",
       "      <td>9858</td>\n",
       "      <td>9858</td>\n",
       "      <td>9858</td>\n",
       "      <td>9858</td>\n",
       "      <td>9858</td>\n",
       "      <td>9858</td>\n",
       "      <td>9858</td>\n",
       "      <td>9858</td>\n",
       "      <td>9858</td>\n",
       "    </tr>\n",
       "    <tr>\n",
       "      <th>...</th>\n",
       "      <td>...</td>\n",
       "      <td>...</td>\n",
       "      <td>...</td>\n",
       "      <td>...</td>\n",
       "      <td>...</td>\n",
       "      <td>...</td>\n",
       "      <td>...</td>\n",
       "      <td>...</td>\n",
       "      <td>...</td>\n",
       "      <td>...</td>\n",
       "      <td>...</td>\n",
       "      <td>...</td>\n",
       "    </tr>\n",
       "    <tr>\n",
       "      <th>168</th>\n",
       "      <td>1</td>\n",
       "      <td>1</td>\n",
       "      <td>1</td>\n",
       "      <td>1</td>\n",
       "      <td>1</td>\n",
       "      <td>1</td>\n",
       "      <td>1</td>\n",
       "      <td>1</td>\n",
       "      <td>1</td>\n",
       "      <td>1</td>\n",
       "      <td>1</td>\n",
       "      <td>1</td>\n",
       "    </tr>\n",
       "    <tr>\n",
       "      <th>170</th>\n",
       "      <td>1</td>\n",
       "      <td>1</td>\n",
       "      <td>1</td>\n",
       "      <td>1</td>\n",
       "      <td>1</td>\n",
       "      <td>1</td>\n",
       "      <td>1</td>\n",
       "      <td>1</td>\n",
       "      <td>1</td>\n",
       "      <td>1</td>\n",
       "      <td>1</td>\n",
       "      <td>1</td>\n",
       "    </tr>\n",
       "    <tr>\n",
       "      <th>173</th>\n",
       "      <td>1</td>\n",
       "      <td>1</td>\n",
       "      <td>1</td>\n",
       "      <td>1</td>\n",
       "      <td>1</td>\n",
       "      <td>1</td>\n",
       "      <td>1</td>\n",
       "      <td>1</td>\n",
       "      <td>1</td>\n",
       "      <td>1</td>\n",
       "      <td>1</td>\n",
       "      <td>1</td>\n",
       "    </tr>\n",
       "    <tr>\n",
       "      <th>175</th>\n",
       "      <td>1</td>\n",
       "      <td>1</td>\n",
       "      <td>1</td>\n",
       "      <td>1</td>\n",
       "      <td>1</td>\n",
       "      <td>1</td>\n",
       "      <td>1</td>\n",
       "      <td>1</td>\n",
       "      <td>1</td>\n",
       "      <td>1</td>\n",
       "      <td>1</td>\n",
       "      <td>1</td>\n",
       "    </tr>\n",
       "    <tr>\n",
       "      <th>2133</th>\n",
       "      <td>1</td>\n",
       "      <td>1</td>\n",
       "      <td>1</td>\n",
       "      <td>1</td>\n",
       "      <td>1</td>\n",
       "      <td>1</td>\n",
       "      <td>1</td>\n",
       "      <td>1</td>\n",
       "      <td>1</td>\n",
       "      <td>1</td>\n",
       "      <td>1</td>\n",
       "      <td>1</td>\n",
       "    </tr>\n",
       "  </tbody>\n",
       "</table>\n",
       "<p>91 rows × 12 columns</p>\n",
       "</div>"
      ],
      "text/plain": [
       "        business_id   cool   date  funny  incorrect_words  review_id  stars  \\\n",
       "useful                                                                        \n",
       "0             78021  78021  78021  78021            78021      78021  78021   \n",
       "1             51087  51087  51087  51087            51087      51087  51087   \n",
       "2             28837  28837  28837  28837            28837      28837  28837   \n",
       "3             16355  16355  16355  16355            16355      16355  16355   \n",
       "4              9858   9858   9858   9858             9858       9858   9858   \n",
       "...             ...    ...    ...    ...              ...        ...    ...   \n",
       "168               1      1      1      1                1          1      1   \n",
       "170               1      1      1      1                1          1      1   \n",
       "173               1      1      1      1                1          1      1   \n",
       "175               1      1      1      1                1          1      1   \n",
       "2133              1      1      1      1                1          1      1   \n",
       "\n",
       "         text  user_id  words  business_review_count  attributes_count  \n",
       "useful                                                                  \n",
       "0       78021    78021  78021                  78021             78021  \n",
       "1       51087    51087  51087                  51087             51087  \n",
       "2       28837    28837  28837                  28837             28837  \n",
       "3       16355    16355  16355                  16355             16355  \n",
       "4        9858     9858   9858                   9858              9858  \n",
       "...       ...      ...    ...                    ...               ...  \n",
       "168         1        1      1                      1                 1  \n",
       "170         1        1      1                      1                 1  \n",
       "173         1        1      1                      1                 1  \n",
       "175         1        1      1                      1                 1  \n",
       "2133        1        1      1                      1                 1  \n",
       "\n",
       "[91 rows x 12 columns]"
      ]
     },
     "execution_count": 10,
     "metadata": {},
     "output_type": "execute_result"
    }
   ],
   "source": [
    "res.groupby('useful').count()"
   ]
  },
  {
   "cell_type": "code",
   "execution_count": 11,
   "metadata": {},
   "outputs": [
    {
     "data": {
      "text/html": [
       "<div>\n",
       "<style scoped>\n",
       "    .dataframe tbody tr th:only-of-type {\n",
       "        vertical-align: middle;\n",
       "    }\n",
       "\n",
       "    .dataframe tbody tr th {\n",
       "        vertical-align: top;\n",
       "    }\n",
       "\n",
       "    .dataframe thead th {\n",
       "        text-align: right;\n",
       "    }\n",
       "</style>\n",
       "<table border=\"1\" class=\"dataframe\">\n",
       "  <thead>\n",
       "    <tr style=\"text-align: right;\">\n",
       "      <th></th>\n",
       "      <th>business_id</th>\n",
       "      <th>cool</th>\n",
       "      <th>date</th>\n",
       "      <th>incorrect_words</th>\n",
       "      <th>review_id</th>\n",
       "      <th>stars</th>\n",
       "      <th>text</th>\n",
       "      <th>useful</th>\n",
       "      <th>user_id</th>\n",
       "      <th>words</th>\n",
       "      <th>business_review_count</th>\n",
       "      <th>attributes_count</th>\n",
       "    </tr>\n",
       "    <tr>\n",
       "      <th>funny</th>\n",
       "      <th></th>\n",
       "      <th></th>\n",
       "      <th></th>\n",
       "      <th></th>\n",
       "      <th></th>\n",
       "      <th></th>\n",
       "      <th></th>\n",
       "      <th></th>\n",
       "      <th></th>\n",
       "      <th></th>\n",
       "      <th></th>\n",
       "      <th></th>\n",
       "    </tr>\n",
       "  </thead>\n",
       "  <tbody>\n",
       "    <tr>\n",
       "      <th>0</th>\n",
       "      <td>146281</td>\n",
       "      <td>146281</td>\n",
       "      <td>146281</td>\n",
       "      <td>146281</td>\n",
       "      <td>146281</td>\n",
       "      <td>146281</td>\n",
       "      <td>146281</td>\n",
       "      <td>146281</td>\n",
       "      <td>146281</td>\n",
       "      <td>146281</td>\n",
       "      <td>146281</td>\n",
       "      <td>146281</td>\n",
       "    </tr>\n",
       "    <tr>\n",
       "      <th>1</th>\n",
       "      <td>33556</td>\n",
       "      <td>33556</td>\n",
       "      <td>33556</td>\n",
       "      <td>33556</td>\n",
       "      <td>33556</td>\n",
       "      <td>33556</td>\n",
       "      <td>33556</td>\n",
       "      <td>33556</td>\n",
       "      <td>33556</td>\n",
       "      <td>33556</td>\n",
       "      <td>33556</td>\n",
       "      <td>33556</td>\n",
       "    </tr>\n",
       "    <tr>\n",
       "      <th>2</th>\n",
       "      <td>11938</td>\n",
       "      <td>11938</td>\n",
       "      <td>11938</td>\n",
       "      <td>11938</td>\n",
       "      <td>11938</td>\n",
       "      <td>11938</td>\n",
       "      <td>11938</td>\n",
       "      <td>11938</td>\n",
       "      <td>11938</td>\n",
       "      <td>11938</td>\n",
       "      <td>11938</td>\n",
       "      <td>11938</td>\n",
       "    </tr>\n",
       "    <tr>\n",
       "      <th>3</th>\n",
       "      <td>5537</td>\n",
       "      <td>5537</td>\n",
       "      <td>5537</td>\n",
       "      <td>5537</td>\n",
       "      <td>5537</td>\n",
       "      <td>5537</td>\n",
       "      <td>5537</td>\n",
       "      <td>5537</td>\n",
       "      <td>5537</td>\n",
       "      <td>5537</td>\n",
       "      <td>5537</td>\n",
       "      <td>5537</td>\n",
       "    </tr>\n",
       "    <tr>\n",
       "      <th>4</th>\n",
       "      <td>2982</td>\n",
       "      <td>2982</td>\n",
       "      <td>2982</td>\n",
       "      <td>2982</td>\n",
       "      <td>2982</td>\n",
       "      <td>2982</td>\n",
       "      <td>2982</td>\n",
       "      <td>2982</td>\n",
       "      <td>2982</td>\n",
       "      <td>2982</td>\n",
       "      <td>2982</td>\n",
       "      <td>2982</td>\n",
       "    </tr>\n",
       "    <tr>\n",
       "      <th>...</th>\n",
       "      <td>...</td>\n",
       "      <td>...</td>\n",
       "      <td>...</td>\n",
       "      <td>...</td>\n",
       "      <td>...</td>\n",
       "      <td>...</td>\n",
       "      <td>...</td>\n",
       "      <td>...</td>\n",
       "      <td>...</td>\n",
       "      <td>...</td>\n",
       "      <td>...</td>\n",
       "      <td>...</td>\n",
       "    </tr>\n",
       "    <tr>\n",
       "      <th>260</th>\n",
       "      <td>1</td>\n",
       "      <td>1</td>\n",
       "      <td>1</td>\n",
       "      <td>1</td>\n",
       "      <td>1</td>\n",
       "      <td>1</td>\n",
       "      <td>1</td>\n",
       "      <td>1</td>\n",
       "      <td>1</td>\n",
       "      <td>1</td>\n",
       "      <td>1</td>\n",
       "      <td>1</td>\n",
       "    </tr>\n",
       "    <tr>\n",
       "      <th>414</th>\n",
       "      <td>1</td>\n",
       "      <td>1</td>\n",
       "      <td>1</td>\n",
       "      <td>1</td>\n",
       "      <td>1</td>\n",
       "      <td>1</td>\n",
       "      <td>1</td>\n",
       "      <td>1</td>\n",
       "      <td>1</td>\n",
       "      <td>1</td>\n",
       "      <td>1</td>\n",
       "      <td>1</td>\n",
       "    </tr>\n",
       "    <tr>\n",
       "      <th>487</th>\n",
       "      <td>1</td>\n",
       "      <td>1</td>\n",
       "      <td>1</td>\n",
       "      <td>1</td>\n",
       "      <td>1</td>\n",
       "      <td>1</td>\n",
       "      <td>1</td>\n",
       "      <td>1</td>\n",
       "      <td>1</td>\n",
       "      <td>1</td>\n",
       "      <td>1</td>\n",
       "      <td>1</td>\n",
       "    </tr>\n",
       "    <tr>\n",
       "      <th>870</th>\n",
       "      <td>1</td>\n",
       "      <td>1</td>\n",
       "      <td>1</td>\n",
       "      <td>1</td>\n",
       "      <td>1</td>\n",
       "      <td>1</td>\n",
       "      <td>1</td>\n",
       "      <td>1</td>\n",
       "      <td>1</td>\n",
       "      <td>1</td>\n",
       "      <td>1</td>\n",
       "      <td>1</td>\n",
       "    </tr>\n",
       "    <tr>\n",
       "      <th>932</th>\n",
       "      <td>1</td>\n",
       "      <td>1</td>\n",
       "      <td>1</td>\n",
       "      <td>1</td>\n",
       "      <td>1</td>\n",
       "      <td>1</td>\n",
       "      <td>1</td>\n",
       "      <td>1</td>\n",
       "      <td>1</td>\n",
       "      <td>1</td>\n",
       "      <td>1</td>\n",
       "      <td>1</td>\n",
       "    </tr>\n",
       "  </tbody>\n",
       "</table>\n",
       "<p>79 rows × 12 columns</p>\n",
       "</div>"
      ],
      "text/plain": [
       "       business_id    cool    date  incorrect_words  review_id   stars  \\\n",
       "funny                                                                    \n",
       "0           146281  146281  146281           146281     146281  146281   \n",
       "1            33556   33556   33556            33556      33556   33556   \n",
       "2            11938   11938   11938            11938      11938   11938   \n",
       "3             5537    5537    5537             5537       5537    5537   \n",
       "4             2982    2982    2982             2982       2982    2982   \n",
       "...            ...     ...     ...              ...        ...     ...   \n",
       "260              1       1       1                1          1       1   \n",
       "414              1       1       1                1          1       1   \n",
       "487              1       1       1                1          1       1   \n",
       "870              1       1       1                1          1       1   \n",
       "932              1       1       1                1          1       1   \n",
       "\n",
       "         text  useful  user_id   words  business_review_count  \\\n",
       "funny                                                           \n",
       "0      146281  146281   146281  146281                 146281   \n",
       "1       33556   33556    33556   33556                  33556   \n",
       "2       11938   11938    11938   11938                  11938   \n",
       "3        5537    5537     5537    5537                   5537   \n",
       "4        2982    2982     2982    2982                   2982   \n",
       "...       ...     ...      ...     ...                    ...   \n",
       "260         1       1        1       1                      1   \n",
       "414         1       1        1       1                      1   \n",
       "487         1       1        1       1                      1   \n",
       "870         1       1        1       1                      1   \n",
       "932         1       1        1       1                      1   \n",
       "\n",
       "       attributes_count  \n",
       "funny                    \n",
       "0                146281  \n",
       "1                 33556  \n",
       "2                 11938  \n",
       "3                  5537  \n",
       "4                  2982  \n",
       "...                 ...  \n",
       "260                   1  \n",
       "414                   1  \n",
       "487                   1  \n",
       "870                   1  \n",
       "932                   1  \n",
       "\n",
       "[79 rows x 12 columns]"
      ]
     },
     "execution_count": 11,
     "metadata": {},
     "output_type": "execute_result"
    }
   ],
   "source": [
    "res.groupby('funny').count()"
   ]
  },
  {
   "cell_type": "code",
   "execution_count": 12,
   "metadata": {},
   "outputs": [
    {
     "data": {
      "text/plain": [
       "'interesting cave like setting.  busy, but way overpriced for what it is.  nothing special or memorable about the steaks or sides. average quality food. average service, nothing special to stand out from any other restaurant. hyped name.  professional host greeting.'"
      ]
     },
     "execution_count": 12,
     "metadata": {},
     "output_type": "execute_result"
    }
   ],
   "source": [
    "res['text'].loc[2]"
   ]
  },
  {
   "cell_type": "code",
   "execution_count": 13,
   "metadata": {},
   "outputs": [
    {
     "data": {
      "text/html": [
       "<div>\n",
       "<style scoped>\n",
       "    .dataframe tbody tr th:only-of-type {\n",
       "        vertical-align: middle;\n",
       "    }\n",
       "\n",
       "    .dataframe tbody tr th {\n",
       "        vertical-align: top;\n",
       "    }\n",
       "\n",
       "    .dataframe thead th {\n",
       "        text-align: right;\n",
       "    }\n",
       "</style>\n",
       "<table border=\"1\" class=\"dataframe\">\n",
       "  <thead>\n",
       "    <tr style=\"text-align: right;\">\n",
       "      <th></th>\n",
       "      <th>business_id</th>\n",
       "      <th>cool</th>\n",
       "      <th>date</th>\n",
       "      <th>funny</th>\n",
       "      <th>incorrect_words</th>\n",
       "      <th>review_id</th>\n",
       "      <th>stars</th>\n",
       "      <th>text</th>\n",
       "      <th>useful</th>\n",
       "      <th>user_id</th>\n",
       "      <th>words</th>\n",
       "      <th>business_review_count</th>\n",
       "      <th>attributes_count</th>\n",
       "    </tr>\n",
       "  </thead>\n",
       "  <tbody>\n",
       "  </tbody>\n",
       "</table>\n",
       "</div>"
      ],
      "text/plain": [
       "Empty DataFrame\n",
       "Columns: [business_id, cool, date, funny, incorrect_words, review_id, stars, text, useful, user_id, words, business_review_count, attributes_count]\n",
       "Index: []"
      ]
     },
     "execution_count": 13,
     "metadata": {},
     "output_type": "execute_result"
    }
   ],
   "source": [
    "res[res['text'].isnull()]"
   ]
  },
  {
   "cell_type": "code",
   "execution_count": 14,
   "metadata": {
    "scrolled": false
   },
   "outputs": [],
   "source": [
    "# number of words\n",
    "#pd.set_option('display.max_rows', 800)\n",
    "#res.groupby(lambda a: len(res['text'].loc[a].split(' '))).count()"
   ]
  },
  {
   "cell_type": "code",
   "execution_count": 15,
   "metadata": {
    "scrolled": false
   },
   "outputs": [
    {
     "data": {
      "text/plain": [
       "business_id              139075\n",
       "cool                     139075\n",
       "date                     139075\n",
       "funny                    139075\n",
       "incorrect_words          139075\n",
       "                          ...  \n",
       "useful                   139075\n",
       "user_id                  139075\n",
       "words                    139075\n",
       "business_review_count    139075\n",
       "attributes_count         139075\n",
       "Length: 13, dtype: int64"
      ]
     },
     "execution_count": 15,
     "metadata": {},
     "output_type": "execute_result"
    }
   ],
   "source": [
    "# review_counts\n",
    "#res.groupby('business_review_count').count()\n",
    "res[res['business_review_count']>50].count()"
   ]
  },
  {
   "cell_type": "code",
   "execution_count": 16,
   "metadata": {},
   "outputs": [
    {
     "data": {
      "text/plain": [
       "business_id              132341\n",
       "cool                     132341\n",
       "date                     132341\n",
       "funny                    132341\n",
       "incorrect_words          132341\n",
       "                          ...  \n",
       "useful                   132341\n",
       "user_id                  132341\n",
       "words                    132341\n",
       "business_review_count    132341\n",
       "attributes_count         132341\n",
       "Length: 13, dtype: int64"
      ]
     },
     "execution_count": 16,
     "metadata": {},
     "output_type": "execute_result"
    }
   ],
   "source": [
    "res.groupby('attributes_count').count()\n",
    "res[res['attributes_count']>10].count()"
   ]
  },
  {
   "cell_type": "code",
   "execution_count": 17,
   "metadata": {},
   "outputs": [],
   "source": [
    "pd.set_option('display.max_rows', 0)"
   ]
  },
  {
   "cell_type": "code",
   "execution_count": 18,
   "metadata": {},
   "outputs": [
    {
     "data": {
      "text/plain": [
       "4.0"
      ]
     },
     "execution_count": 18,
     "metadata": {},
     "output_type": "execute_result"
    }
   ],
   "source": [
    "res['business_id'].loc[2]['stars']"
   ]
  },
  {
   "cell_type": "code",
   "execution_count": 19,
   "metadata": {},
   "outputs": [
    {
     "name": "stdout",
     "output_type": "stream",
     "text": [
      "139075\n"
     ]
    }
   ],
   "source": [
    "n=res[res['business_review_count']>50].count()[0]\n",
    "print(n)\n",
    "#print(type(n))\n",
    "#rs=res[res['business_review_count']>50].sample(n=n).copy()\n",
    "#pos=rs[rs[like_type]>2].sample(n=40000).copy()"
   ]
  },
  {
   "cell_type": "code",
   "execution_count": 20,
   "metadata": {},
   "outputs": [],
   "source": [
    "#res[lambda r: True].sample(n=1) #??\n",
    "#res[print(res['business'])]#\n",
    "#res[print(type(res['business']))]\n",
    "#res.apply()\n",
    "#res[res['business'].get('business_id')=='aAbL_y05zPWaIrT1QtDWxw'].sample(n=1)"
   ]
  },
  {
   "cell_type": "code",
   "execution_count": 21,
   "metadata": {},
   "outputs": [],
   "source": [
    "def get_reviews(like_type):\n",
    "    n=res[res['business_review_count']>50].count()[0]\n",
    "    #print(n)\n",
    "    #print(type(n))\n",
    "    tmp=res[res['business_review_count']>50].sample(n=n).copy()\n",
    "    n=tmp[tmp['attributes_count']>10].count()[0]\n",
    "    rs=tmp[tmp['attributes_count']>10].sample(n=n).copy()\n",
    "\n",
    "    pos=rs[rs[like_type]>2].sample(n=10000).copy()\n",
    "    pos['classification']=like_type\n",
    "    neg=rs[rs[like_type]==0].sample(n=10000).copy()\n",
    "    neg['classification']='not-'+like_type\n",
    "    all=pd.concat([pos, neg])\n",
    "    all=all[['text', like_type, 'classification', 'stars', 'business_id', 'words', 'incorrect_words']].reset_index(drop=True)\n",
    "    return all"
   ]
  },
  {
   "cell_type": "markdown",
   "metadata": {},
   "source": [
    "# Classification"
   ]
  },
  {
   "cell_type": "code",
   "execution_count": 22,
   "metadata": {
    "scrolled": false
   },
   "outputs": [],
   "source": [
    "import nltk\n",
    "toker=nltk.tokenize.TweetTokenizer()"
   ]
  },
  {
   "cell_type": "code",
   "execution_count": 23,
   "metadata": {},
   "outputs": [],
   "source": [
    "like_type='useful'\n",
    "#like_type='funny'\n",
    "#like_type='cool'"
   ]
  },
  {
   "cell_type": "code",
   "execution_count": 24,
   "metadata": {},
   "outputs": [],
   "source": [
    "reviews=get_reviews(like_type)"
   ]
  },
  {
   "cell_type": "code",
   "execution_count": 25,
   "metadata": {},
   "outputs": [
    {
     "name": "stdout",
     "output_type": "stream",
     "text": [
      "total number of words: 3543944\n",
      "unique words: 49633\n",
      "words present only once: 23873\n"
     ]
    },
    {
     "data": {
      "text/plain": [
       "<Figure size 640x480 with 1 Axes>"
      ]
     },
     "metadata": {},
     "output_type": "display_data"
    }
   ],
   "source": [
    "texts_tokenized = (toker.tokenize(row.text) for index, row in reviews.iterrows())\n",
    "all_words = nltk.FreqDist(w.lower() for tokens in texts_tokenized for w in tokens)\n",
    "\n",
    "print('total number of words:', sum(all_words.values()))\n",
    "print('unique words:', len(all_words))\n",
    "print('words present only once:', sum(c for c in all_words.values() if c == 1))\n",
    "\n",
    "all_words.plot(30)"
   ]
  },
  {
   "cell_type": "code",
   "execution_count": 26,
   "metadata": {},
   "outputs": [
    {
     "name": "stdout",
     "output_type": "stream",
     "text": [
      "feature words: 25339\n"
     ]
    },
    {
     "data": {
      "image/png": "[encoded data removed]",
      "text/plain": [
       "<Figure size 432x288 with 1 Axes>"
      ]
     },
     "metadata": {},
     "output_type": "display_data"
    }
   ],
   "source": [
    "words = all_words.copy()\n",
    "for w, count in all_words.items():\n",
    "    if count > 1000 or count == 1:\n",
    "        del words[w]\n",
    "\n",
    "print('feature words:', len(words))\n",
    "words.plot(40)"
   ]
  },
  {
   "cell_type": "code",
   "execution_count": 27,
   "metadata": {},
   "outputs": [],
   "source": [
    "word_features = frozenset(words.keys())\n",
    "\n",
    "def features(row):\n",
    "    text=row.text\n",
    "    txt_words = set(toker.tokenize(text.lower()))\n",
    "    features = {}\n",
    "    for w in txt_words & word_features:\n",
    "        #features['contains({})'.format(w)] = 'Yes' # beze slov je to lepsi\n",
    "        pass\n",
    "    \n",
    "    text=toker.tokenize(text.lower())\n",
    "    for w,w2 in zip(text[:-1], text[1:]):\n",
    "        if w in word_features and w2 in word_features:\n",
    "                features['contains({}&&&{})'.format(w,w2)] = 'Yes'\n",
    "                pass\n",
    "            \n",
    "    #features['contains(@@stars{})'.format(row.stars)] = 'Yes'\n",
    "    features['@@@stars'] = row.stars\n",
    "    features['@@@bus_stars']=row['business_id']['stars']\n",
    "    #features['@@@review_count']= \"A lot\" if row['business']['review_count']  else \"A few\"\n",
    "    l=row['words']\n",
    "    features['@@@review_length']= \"short\" if l<50 else \"middle\" if l<150 else \"long\"\n",
    "    features['@@@review_length50']= \"short\" if l<50 else \"middle\"\n",
    "    features['@@@review_length100']= \"short\" if l<100 else \"middle\"\n",
    "    features['@@@review_length150']= \"short\" if l<150 else \"middle\"\n",
    "    features['@@@review_length35']= \"short\" if l<35 else \"middle\"\n",
    "    features['@@@review_length75']= \"short\" if l<75 else \"middle\"\n",
    "    \n",
    "    rate=row['incorrect_words']/row['words']\n",
    "    \n",
    "    features['@@@error_rate0.02'] = \"good\" if rate<0.02 else \"bad\"\n",
    "    features['@@@error_rate0.05'] = \"good\" if rate<0.05 else \"bad\"\n",
    "    features['@@@error_rate0.1'] = \"good\" if rate<0.1 else \"bad\"\n",
    "    features['@@@error_rate0.15'] = \"good\" if rate<0.15 else \"bad\"\n",
    "    features['@@@error_rate0.2'] = \"good\" if rate<0.2 else \"bad\"\n",
    "    \n",
    "    return features"
   ]
  },
  {
   "cell_type": "code",
   "execution_count": 28,
   "metadata": {
    "scrolled": false
   },
   "outputs": [],
   "source": [
    "# generate tuples: (features_dict, sentiment)\n",
    "feature_sets = [(features(row), row.classification) for index, row in reviews.iterrows()]"
   ]
  },
  {
   "cell_type": "code",
   "execution_count": 29,
   "metadata": {},
   "outputs": [
    {
     "data": {
      "text/plain": [
       "({'contains(green&&&curry)': 'Yes',\n",
       "  'contains(tapas&&&portion)': 'Yes',\n",
       "  'contains(relatively&&&smaller)': 'Yes',\n",
       "  'contains(mango&&&sticky)': 'Yes',\n",
       "  'contains(hidden&&&gem)': 'Yes',\n",
       "  '@@@stars': 4,\n",
       "  '@@@bus_stars': 3.5,\n",
       "  '@@@review_length': 'middle',\n",
       "  '@@@review_length50': 'middle',\n",
       "  '@@@review_length100': 'short',\n",
       "  '@@@review_length150': 'short',\n",
       "  '@@@review_length35': 'middle',\n",
       "  '@@@review_length75': 'middle',\n",
       "  '@@@error_rate0.02': 'good',\n",
       "  '@@@error_rate0.05': 'good',\n",
       "  '@@@error_rate0.1': 'good',\n",
       "  '@@@error_rate0.15': 'good',\n",
       "  '@@@error_rate0.2': 'good'},\n",
       " 'useful')"
      ]
     },
     "execution_count": 29,
     "metadata": {},
     "output_type": "execute_result"
    }
   ],
   "source": [
    "feature_sets[0]"
   ]
  },
  {
   "cell_type": "code",
   "execution_count": null,
   "metadata": {},
   "outputs": [],
   "source": []
  },
  {
   "cell_type": "markdown",
   "metadata": {},
   "source": [
    "# Model training"
   ]
  },
  {
   "cell_type": "code",
   "execution_count": 30,
   "metadata": {},
   "outputs": [
    {
     "data": {
      "text/plain": [
       "10000"
      ]
     },
     "execution_count": 30,
     "metadata": {},
     "output_type": "execute_result"
    }
   ],
   "source": [
    "    import random\n",
    "    random.shuffle(feature_sets)\n",
    "    half=int(len(feature_sets)/2)\n",
    "    train_set, test_set = feature_sets[:half], feature_sets[half:]\n",
    "    half"
   ]
  },
  {
   "cell_type": "code",
   "execution_count": 61,
   "metadata": {},
   "outputs": [
    {
     "name": "stdout",
     "output_type": "stream",
     "text": [
      "0.6851\n"
     ]
    }
   ],
   "source": [
    "classifier = nltk.NaiveBayesClassifier.train(train_set)\n",
    "print(nltk.classify.accuracy(classifier, test_set))"
   ]
  },
  {
   "cell_type": "code",
   "execution_count": 33,
   "metadata": {},
   "outputs": [
    {
     "name": "stdout",
     "output_type": "stream",
     "text": [
      "Most Informative Features\n",
      "contains(timely&&&manner) = 'Yes'          useful : not-us =     11.0 : 1.0\n",
      "  contains(cell&&&phone) = 'Yes'          useful : not-us =      9.7 : 1.0\n",
      "contains(spring&&&break) = 'Yes'          useful : not-us =      8.3 : 1.0\n",
      "contains(vanilla&&&bean) = 'Yes'          useful : not-us =      8.3 : 1.0\n",
      "contains(plastic&&&cups) = 'Yes'          useful : not-us =      7.7 : 1.0\n",
      " contains(yelp&&&spring) = 'Yes'          useful : not-us =      7.7 : 1.0\n",
      " contains(near&&&future) = 'Yes'          useful : not-us =      7.7 : 1.0\n",
      "contains(taking&&&orders) = 'Yes'          useful : not-us =      7.7 : 1.0\n",
      "contains(honey&&&mustard) = 'Yes'          useful : not-us =      7.7 : 1.0\n",
      "contains(thinly&&&sliced) = 'Yes'          useful : not-us =      7.4 : 1.0\n",
      "  contains(let's&&&face) = 'Yes'          useful : not-us =      7.0 : 1.0\n",
      "contains(pot&&&stickers) = 'Yes'          useful : not-us =      7.0 : 1.0\n",
      "     contains(pico&&&de) = 'Yes'          useful : not-us =      6.6 : 1.0\n",
      "contains(couldn't&&&stop) = 'Yes'          useful : not-us =      6.6 : 1.0\n",
      "  contains(fell&&&apart) = 'Yes'          useful : not-us =      6.3 : 1.0\n",
      "contains(cocktail&&&list) = 'Yes'          useful : not-us =      6.3 : 1.0\n",
      "     contains(low&&&key) = 'Yes'          useful : not-us =      6.3 : 1.0\n",
      "contains(condensed&&&milk) = 'Yes'          useful : not-us =      6.3 : 1.0\n",
      "   contains(thick&&&cut) = 'Yes'          useful : not-us =      6.3 : 1.0\n",
      "contains(sunday&&&evening) = 'Yes'          useful : not-us =      6.3 : 1.0\n",
      "contains(cherry&&&tomatoes) = 'Yes'          useful : not-us =      6.3 : 1.0\n",
      "contains(treat&&&yourself) = 'Yes'          useful : not-us =      6.3 : 1.0\n",
      "contains(grocery&&&store) = 'Yes'          useful : not-us =      6.3 : 1.0\n",
      "    contains(de&&&gallo) = 'Yes'          useful : not-us =      6.2 : 1.0\n",
      "    contains(stir&&&fry) = 'Yes'          useful : not-us =      5.8 : 1.0\n",
      "contains(calamari&&&appetizer) = 'Yes'          useful : not-us =      5.7 : 1.0\n",
      "contains(peach&&&cobbler) = 'Yes'          useful : not-us =      5.7 : 1.0\n",
      "contains(haven't&&&eaten) = 'Yes'          useful : not-us =      5.7 : 1.0\n",
      "contains(beautifully&&&presented) = 'Yes'          useful : not-us =      5.7 : 1.0\n",
      "  contains(brick&&&oven) = 'Yes'          useful : not-us =      5.7 : 1.0\n"
     ]
    }
   ],
   "source": [
    "classifier.show_most_informative_features(30)"
   ]
  },
  {
   "cell_type": "code",
   "execution_count": null,
   "metadata": {},
   "outputs": [],
   "source": [
    "\n",
    "\n"
   ]
  },
  {
   "cell_type": "code",
   "execution_count": null,
   "metadata": {},
   "outputs": [],
   "source": []
  },
  {
   "cell_type": "code",
   "execution_count": null,
   "metadata": {},
   "outputs": [],
   "source": []
  },
  {
   "cell_type": "code",
   "execution_count": null,
   "metadata": {},
   "outputs": [],
   "source": []
  },
  {
   "cell_type": "markdown",
   "metadata": {},
   "source": [
    "# get feature matrix"
   ]
  },
  {
   "cell_type": "code",
   "execution_count": 69,
   "metadata": {},
   "outputs": [],
   "source": [
    "\n",
    "X, Y = [x[0] for x in feature_sets], [x[1] for x in feature_sets]"
   ]
  },
  {
   "cell_type": "code",
   "execution_count": null,
   "metadata": {
    "scrolled": false
   },
   "outputs": [],
   "source": []
  },
  {
   "cell_type": "code",
   "execution_count": 70,
   "metadata": {},
   "outputs": [],
   "source": [
    "from sklearn.datasets import fetch_20newsgroups\n",
    "from sklearn.feature_selection import mutual_info_classif\n",
    "from sklearn.feature_extraction.text import CountVectorizer"
   ]
  },
  {
   "cell_type": "code",
   "execution_count": 71,
   "metadata": {},
   "outputs": [
    {
     "data": {
      "text/plain": [
       "{'contains(japanese&&&curry)': 'Yes',\n",
       " 'contains(barracks&&&invited)': 'Yes',\n",
       " 'contains(city&&&past)': 'Yes',\n",
       " 'contains(story&&&short)': 'Yes',\n",
       " 'contains(japanese&&&franchise)': 'Yes',\n",
       " 'contains(franchise&&&chain)': 'Yes',\n",
       " 'contains(curry&&&houses)': 'Yes',\n",
       " 'contains(cant&&&remember)': 'Yes',\n",
       " 'contains(vietnamese&&&style)': 'Yes',\n",
       " 'contains(style&&&curries)': 'Yes',\n",
       " 'contains(kaba&&&curry)': 'Yes',\n",
       " \"contains(they're&&&fully)\": 'Yes',\n",
       " 'contains(sample&&&cup)': 'Yes',\n",
       " 'contains(yelp&&&app)': 'Yes',\n",
       " 'contains(true&&&authentic)': 'Yes',\n",
       " 'contains(authentic&&&japanese)': 'Yes',\n",
       " 'contains(ordering&&&process)': 'Yes',\n",
       " 'contains(to-go&&&box)': 'Yes',\n",
       " 'contains(anthony&&&tells)': 'Yes',\n",
       " 'contains(needs&&&expectations)': 'Yes',\n",
       " 'contains(light&&&breaded)': 'Yes',\n",
       " 'contains(crispy&&&exterior)': 'Yes',\n",
       " 'contains(moist&&&center)': 'Yes',\n",
       " '@@@stars': 5,\n",
       " '@@@bus_stars': 4.0,\n",
       " '@@@review_length': 'long',\n",
       " '@@@review_length50': 'middle',\n",
       " '@@@review_length100': 'middle',\n",
       " '@@@review_length150': 'middle',\n",
       " '@@@review_length35': 'middle',\n",
       " '@@@review_length75': 'middle',\n",
       " '@@@error_rate0.02': 'bad',\n",
       " '@@@error_rate0.05': 'good',\n",
       " '@@@error_rate0.1': 'good',\n",
       " '@@@error_rate0.15': 'good',\n",
       " '@@@error_rate0.2': 'good'}"
      ]
     },
     "execution_count": 71,
     "metadata": {},
     "output_type": "execute_result"
    }
   ],
   "source": [
    "X[0]"
   ]
  },
  {
   "cell_type": "code",
   "execution_count": 72,
   "metadata": {},
   "outputs": [],
   "source": [
    "cv_gain = CountVectorizer(max_df=0.95, min_df=2,\n",
    "                                     max_features=10000)"
   ]
  },
  {
   "cell_type": "code",
   "execution_count": 73,
   "metadata": {},
   "outputs": [],
   "source": [
    "all_keys=[set(x.keys()) for x in X]"
   ]
  },
  {
   "cell_type": "code",
   "execution_count": 74,
   "metadata": {},
   "outputs": [],
   "source": [
    "import functools\n",
    "all_fs=functools.reduce(lambda a,b: a.union(b), all_keys)\n",
    "all_fs=list(all_fs)"
   ]
  },
  {
   "cell_type": "code",
   "execution_count": 75,
   "metadata": {
    "scrolled": false
   },
   "outputs": [
    {
     "data": {
      "text/plain": [
       "115036"
      ]
     },
     "execution_count": 75,
     "metadata": {},
     "output_type": "execute_result"
    }
   ],
   "source": [
    "len(all_fs)"
   ]
  },
  {
   "cell_type": "code",
   "execution_count": 76,
   "metadata": {},
   "outputs": [],
   "source": [
    "def get_int(val):\n",
    "    if isinstance(val, int):\n",
    "        return val\n",
    "    if isinstance(val, float):\n",
    "        return val\n",
    "    vals={\"Yes\":1, \"No\":0, \"middle\":1, \"long\":2, \"short\":0, \"good\":1, \"bad\":0}\n",
    "    return vals[val]"
   ]
  },
  {
   "cell_type": "code",
   "execution_count": 77,
   "metadata": {},
   "outputs": [],
   "source": [
    "#X_matrix=[]\n",
    "#\n",
    "#for x in X:\n",
    "#    row=[]\n",
    "#    for key in all_fs:\n",
    "#        if key in x:\n",
    "#            row.append(get_int(x[key]))\n",
    "#        else:\n",
    "#            row.append(0)\n",
    "#    X_matrix.append(row)"
   ]
  },
  {
   "cell_type": "code",
   "execution_count": 78,
   "metadata": {},
   "outputs": [],
   "source": [
    "import scipy"
   ]
  },
  {
   "cell_type": "code",
   "execution_count": 79,
   "metadata": {},
   "outputs": [],
   "source": [
    "row=[]\n",
    "x=X[0]\n",
    "\n",
    "for key in all_fs:\n",
    "    if key in x:\n",
    "        row.append(get_int(x[key]))\n",
    "    else:\n",
    "        row.append(0)\n",
    "        \n",
    "X_matrix=scipy.sparse.lil_matrix([row])\n",
    "\n",
    "i=0\n",
    "for x in X[1:]:\n",
    "    row=[]\n",
    "    for key in all_fs:\n",
    "        if key in x:\n",
    "            row.append(get_int(x[key]))\n",
    "        else:\n",
    "            row.append(0)\n",
    "    X_matrix=scipy.sparse.vstack((X_matrix, scipy.sparse.lil_matrix([row])))\n",
    "    i+=1\n",
    "    #if i==1000:\n",
    "       #break"
   ]
  },
  {
   "cell_type": "code",
   "execution_count": 80,
   "metadata": {},
   "outputs": [
    {
     "data": {
      "text/plain": [
       "20000"
      ]
     },
     "execution_count": 80,
     "metadata": {},
     "output_type": "execute_result"
    }
   ],
   "source": [
    "len(X)"
   ]
  },
  {
   "cell_type": "code",
   "execution_count": 81,
   "metadata": {},
   "outputs": [
    {
     "data": {
      "text/plain": [
       "<20000x115036 sparse matrix of type '<class 'numpy.float64'>'\n",
       "\twith 382976 stored elements in COOrdinate format>"
      ]
     },
     "execution_count": 81,
     "metadata": {},
     "output_type": "execute_result"
    }
   ],
   "source": [
    "X_matrix"
   ]
  },
  {
   "cell_type": "code",
   "execution_count": null,
   "metadata": {},
   "outputs": [],
   "source": []
  },
  {
   "cell_type": "markdown",
   "metadata": {},
   "source": [
    "## Dimension reduction - LSA - SVD"
   ]
  },
  {
   "cell_type": "code",
   "execution_count": 87,
   "metadata": {},
   "outputs": [],
   "source": [
    "from sklearn.decomposition import TruncatedSVD\n",
    "from sklearn.preprocessing import scale"
   ]
  },
  {
   "cell_type": "code",
   "execution_count": 98,
   "metadata": {},
   "outputs": [],
   "source": [
    "svd = TruncatedSVD(n_components = 100)\n",
    "#scale(X_matrix.tocsc())\n",
    "svdMatrix = svd.fit_transform(X_matrix)"
   ]
  },
  {
   "cell_type": "code",
   "execution_count": 99,
   "metadata": {},
   "outputs": [],
   "source": [
    "feature_set_reduced = [ (dict(enumerate(x)),y) for (x,y) in zip(svdMatrix, Y)]"
   ]
  },
  {
   "cell_type": "code",
   "execution_count": 100,
   "metadata": {},
   "outputs": [
    {
     "data": {
      "text/plain": [
       "10000"
      ]
     },
     "execution_count": 100,
     "metadata": {},
     "output_type": "execute_result"
    }
   ],
   "source": [
    "random.shuffle(feature_set_reduced)\n",
    "half=int(len(feature_sets)/2)\n",
    "train_set, test_set = feature_sets[:half], feature_sets[half:]\n",
    "half"
   ]
  },
  {
   "cell_type": "code",
   "execution_count": 101,
   "metadata": {
    "scrolled": false
   },
   "outputs": [
    {
     "name": "stdout",
     "output_type": "stream",
     "text": [
      "0.6806\n"
     ]
    }
   ],
   "source": [
    "classifier = nltk.NaiveBayesClassifier.train(train_set)\n",
    "print(nltk.classify.accuracy(classifier, test_set))"
   ]
  },
  {
   "cell_type": "code",
   "execution_count": null,
   "metadata": {},
   "outputs": [],
   "source": []
  },
  {
   "cell_type": "code",
   "execution_count": null,
   "metadata": {},
   "outputs": [],
   "source": []
  },
  {
   "cell_type": "code",
   "execution_count": null,
   "metadata": {},
   "outputs": [],
   "source": []
  },
  {
   "cell_type": "code",
   "execution_count": null,
   "metadata": {},
   "outputs": [],
   "source": []
  },
  {
   "cell_type": "code",
   "execution_count": null,
   "metadata": {},
   "outputs": [],
   "source": []
  },
  {
   "cell_type": "code",
   "execution_count": null,
   "metadata": {},
   "outputs": [],
   "source": []
  },
  {
   "cell_type": "code",
   "execution_count": null,
   "metadata": {},
   "outputs": [],
   "source": []
  },
  {
   "cell_type": "markdown",
   "metadata": {},
   "source": [
    "# get feature matrix"
   ]
  },
  {
   "cell_type": "code",
   "execution_count": 68,
   "metadata": {},
   "outputs": [],
   "source": [
    "\n",
    "X, Y = [x[0] for x in test_set], [x[1] for x in test_set]"
   ]
  },
  {
   "cell_type": "code",
   "execution_count": null,
   "metadata": {
    "scrolled": false
   },
   "outputs": [],
   "source": []
  },
  {
   "cell_type": "code",
   "execution_count": 35,
   "metadata": {},
   "outputs": [],
   "source": [
    "from sklearn.datasets import fetch_20newsgroups\n",
    "from sklearn.feature_selection import mutual_info_classif\n",
    "from sklearn.feature_extraction.text import CountVectorizer"
   ]
  },
  {
   "cell_type": "code",
   "execution_count": 36,
   "metadata": {},
   "outputs": [
    {
     "data": {
      "text/plain": [
       "{'contains(days&&&ago)': 'Yes',\n",
       " 'contains(running&&&errands)': 'Yes',\n",
       " 'contains(anime&&&ramen)': 'Yes',\n",
       " 'contains(immediately&&&suggested)': 'Yes',\n",
       " 'contains(suggested&&&anime)': 'Yes',\n",
       " 'contains(foursquare&&&checkins)': 'Yes',\n",
       " 'contains(maid&&&cafe)': 'Yes',\n",
       " 'contains(fairly&&&mediocre)': 'Yes',\n",
       " 'contains(cute&&&names)': 'Yes',\n",
       " 'contains(canvas&&&wrapped)': 'Yes',\n",
       " 'contains(wrapped&&&anime)': 'Yes',\n",
       " 'contains(anime&&&prints)': 'Yes',\n",
       " '@@@stars': 5,\n",
       " '@@@bus_stars': 3.5,\n",
       " '@@@review_length': 'long',\n",
       " '@@@review_length50': 'middle',\n",
       " '@@@review_length100': 'middle',\n",
       " '@@@review_length150': 'middle',\n",
       " '@@@review_length35': 'middle',\n",
       " '@@@review_length75': 'middle',\n",
       " '@@@error_rate0.02': 'bad',\n",
       " '@@@error_rate0.05': 'good',\n",
       " '@@@error_rate0.1': 'good',\n",
       " '@@@error_rate0.15': 'good',\n",
       " '@@@error_rate0.2': 'good'}"
      ]
     },
     "execution_count": 36,
     "metadata": {},
     "output_type": "execute_result"
    }
   ],
   "source": [
    "X[0]"
   ]
  },
  {
   "cell_type": "code",
   "execution_count": 37,
   "metadata": {},
   "outputs": [],
   "source": [
    "cv_gain = CountVectorizer(max_df=0.95, min_df=2,\n",
    "                                     max_features=10000)"
   ]
  },
  {
   "cell_type": "code",
   "execution_count": 38,
   "metadata": {},
   "outputs": [],
   "source": [
    "all_keys=[set(x.keys()) for x in X]"
   ]
  },
  {
   "cell_type": "code",
   "execution_count": 39,
   "metadata": {},
   "outputs": [],
   "source": [
    "import functools\n",
    "all_fs=functools.reduce(lambda a,b: a.union(b), all_keys)\n",
    "all_fs=list(all_fs)"
   ]
  },
  {
   "cell_type": "code",
   "execution_count": 40,
   "metadata": {
    "scrolled": false
   },
   "outputs": [
    {
     "data": {
      "text/plain": [
       "64154"
      ]
     },
     "execution_count": 40,
     "metadata": {},
     "output_type": "execute_result"
    }
   ],
   "source": [
    "len(all_fs)"
   ]
  },
  {
   "cell_type": "code",
   "execution_count": 41,
   "metadata": {},
   "outputs": [],
   "source": [
    "def get_int(val):\n",
    "    if isinstance(val, int):\n",
    "        return val\n",
    "    if isinstance(val, float):\n",
    "        return val\n",
    "    vals={\"Yes\":1, \"No\":0, \"middle\":1, \"long\":2, \"short\":0, \"good\":1, \"bad\":0}\n",
    "    return vals[val]"
   ]
  },
  {
   "cell_type": "code",
   "execution_count": 42,
   "metadata": {},
   "outputs": [],
   "source": [
    "#X_matrix=[]\n",
    "#\n",
    "#for x in X:\n",
    "#    row=[]\n",
    "#    for key in all_fs:\n",
    "#        if key in x:\n",
    "#            row.append(get_int(x[key]))\n",
    "#        else:\n",
    "#            row.append(0)\n",
    "#    X_matrix.append(row)"
   ]
  },
  {
   "cell_type": "code",
   "execution_count": 43,
   "metadata": {},
   "outputs": [],
   "source": [
    "import scipy"
   ]
  },
  {
   "cell_type": "code",
   "execution_count": 44,
   "metadata": {},
   "outputs": [],
   "source": [
    "row=[]\n",
    "x=X[0]\n",
    "\n",
    "for key in all_fs:\n",
    "    if key in x:\n",
    "        row.append(get_int(x[key]))\n",
    "    else:\n",
    "        row.append(0)\n",
    "        \n",
    "X_matrix=scipy.sparse.lil_matrix([row])\n",
    "\n",
    "i=0\n",
    "for x in X[1:]:\n",
    "    row=[]\n",
    "    for key in all_fs:\n",
    "        if key in x:\n",
    "            row.append(get_int(x[key]))\n",
    "        else:\n",
    "            row.append(0)\n",
    "    X_matrix=scipy.sparse.vstack((X_matrix, scipy.sparse.lil_matrix([row])))\n",
    "    i+=1\n",
    "    #if i==1000:\n",
    "       #break"
   ]
  },
  {
   "cell_type": "code",
   "execution_count": 45,
   "metadata": {},
   "outputs": [
    {
     "data": {
      "text/plain": [
       "10000"
      ]
     },
     "execution_count": 45,
     "metadata": {},
     "output_type": "execute_result"
    }
   ],
   "source": [
    "len(X)"
   ]
  },
  {
   "cell_type": "code",
   "execution_count": 46,
   "metadata": {},
   "outputs": [
    {
     "data": {
      "text/plain": [
       "<10000x64154 sparse matrix of type '<class 'numpy.float64'>'\n",
       "\twith 192339 stored elements in COOrdinate format>"
      ]
     },
     "execution_count": 46,
     "metadata": {},
     "output_type": "execute_result"
    }
   ],
   "source": [
    "X_matrix"
   ]
  },
  {
   "cell_type": "markdown",
   "metadata": {},
   "source": [
    "# information gaion"
   ]
  },
  {
   "cell_type": "code",
   "execution_count": null,
   "metadata": {},
   "outputs": [],
   "source": []
  },
  {
   "cell_type": "code",
   "execution_count": 47,
   "metadata": {},
   "outputs": [],
   "source": [
    "res_gain = list(zip(all_fs, mutual_info_classif(X_matrix, Y, discrete_features=True)))"
   ]
  },
  {
   "cell_type": "code",
   "execution_count": 48,
   "metadata": {},
   "outputs": [],
   "source": [
    "#res_gain"
   ]
  },
  {
   "cell_type": "code",
   "execution_count": 49,
   "metadata": {},
   "outputs": [
    {
     "data": {
      "text/plain": [
       "[('contains(downtown&&&phoenix)', 0.0005487104687083345),\n",
       " ('@@@review_length50', 0.0495122482657195),\n",
       " ('contains(soft&&&opening)', 0.0006104004046829355),\n",
       " ('contains(black&&&truffle)', 0.0011096766429145258),\n",
       " ('@@@bus_stars', 0.0010625420486579887),\n",
       " ('@@@review_length100', 0.07510800503195156),\n",
       " ('contains(fellow&&&yelpers)', 0.0010707186966433086),\n",
       " ('contains(panda&&&express)', 0.0006104004046829355),\n",
       " ('contains(gallo&&&blanco)', 0.0005545178084995607),\n",
       " ('@@@error_rate0.05', 0.0027713723735082185),\n",
       " (\"contains(couldn't&&&help)\", 0.0005064437437390529),\n",
       " ('contains(light&&&fixtures)', 0.0005545178084995607),\n",
       " ('contains(hours&&&later)', 0.0007044170005768911),\n",
       " ('@@@error_rate0.15', 0.0005868860622546702),\n",
       " ('contains(grand&&&opening)', 0.0008166032931903574),\n",
       " ('@@@stars', 0.011102546886534989),\n",
       " ('contains(credit&&&card)', 0.0007376193857538899),\n",
       " ('contains(dark&&&brown)', 0.0006238775751111862),\n",
       " ('@@@review_length75', 0.06825723793379976),\n",
       " ('contains(yelp&&&app)', 0.0006104004046829355),\n",
       " ('contains(mixed&&&greens)', 0.0008620997441999281),\n",
       " ('contains(craft&&&cocktails)', 0.0007626271684325666),\n",
       " ('contains(mentioned&&&earlier)', 0.0005545178084995607),\n",
       " ('@@@review_length150', 0.07315122768872717),\n",
       " ('contains(total&&&bill)', 0.0006104004046829355),\n",
       " ('contains(recently&&&opened)', 0.0006932473607487522),\n",
       " ('contains(holy&&&crap)', 0.0006201880541959516),\n",
       " ('contains(difference&&&between)', 0.0007602072043075472),\n",
       " ('contains(second&&&floor)', 0.0006781638554638181),\n",
       " ('contains(second&&&round)', 0.0005545178084995607),\n",
       " ('contains(medium&&&rare)', 0.0005423390289011135),\n",
       " ('@@@review_length35', 0.03371786482531008),\n",
       " (\"contains(doesn't&&&happen)\", 0.0005545178084995607),\n",
       " ('@@@error_rate0.1', 0.002053854109527093),\n",
       " (\"contains(let's&&&start)\", 0.0005629179495478271),\n",
       " ('contains(sea&&&urchin)', 0.0006932473607487522),\n",
       " ('contains(45&&&minute)', 0.0006238775751111862),\n",
       " ('contains(taking&&&care)', 0.0005412971875933077),\n",
       " ('contains(sea&&&salt)', 0.0008556265441386128),\n",
       " ('contains(cash&&&register)', 0.00064928973452644),\n",
       " ('contains(pizzeria&&&bianco)', 0.0007626271684325666),\n",
       " ('contains(lap&&&dance)', 0.0006238775751111862),\n",
       " ('@@@review_length', 0.08952315015782376),\n",
       " ('contains(roasted&&&tomato)', 0.0006238775751111862),\n",
       " (\"contains(hasn't&&&changed)\", 0.0005545178084995607)]"
      ]
     },
     "execution_count": 49,
     "metadata": {},
     "output_type": "execute_result"
    }
   ],
   "source": [
    "[(x,y) for (x,y) in res_gain if y>0.0005]"
   ]
  },
  {
   "cell_type": "code",
   "execution_count": 50,
   "metadata": {},
   "outputs": [
    {
     "data": {
      "text/plain": [
       "[('@@@review_length50', 0.0495122482657195),\n",
       " ('contains(black&&&truffle)', 0.0011096766429145258),\n",
       " ('@@@bus_stars', 0.0010625420486579887),\n",
       " ('@@@review_length100', 0.07510800503195156),\n",
       " ('contains(fellow&&&yelpers)', 0.0010707186966433086),\n",
       " ('@@@error_rate0.05', 0.0027713723735082185),\n",
       " ('@@@stars', 0.011102546886534989),\n",
       " ('@@@review_length75', 0.06825723793379976),\n",
       " ('@@@review_length150', 0.07315122768872717),\n",
       " ('@@@review_length35', 0.03371786482531008),\n",
       " ('@@@error_rate0.1', 0.002053854109527093),\n",
       " ('@@@review_length', 0.08952315015782376)]"
      ]
     },
     "execution_count": 50,
     "metadata": {},
     "output_type": "execute_result"
    }
   ],
   "source": [
    "[(x,y) for (x,y) in res_gain if y>0.001]"
   ]
  },
  {
   "cell_type": "code",
   "execution_count": null,
   "metadata": {},
   "outputs": [],
   "source": []
  },
  {
   "cell_type": "code",
   "execution_count": 51,
   "metadata": {},
   "outputs": [
    {
     "data": {
      "text/plain": [
       "[('@@@bus_stars', 0.0010625420486579887),\n",
       " ('@@@error_rate0.02', 1.9690166234709316e-06),\n",
       " ('@@@error_rate0.05', 0.0027713723735082185),\n",
       " ('@@@error_rate0.1', 0.002053854109527093),\n",
       " ('@@@error_rate0.15', 0.0005868860622546702),\n",
       " ('@@@error_rate0.2', 0.00030338847261370244),\n",
       " ('@@@review_length', 0.08952315015782376),\n",
       " ('@@@review_length100', 0.07510800503195156),\n",
       " ('@@@review_length150', 0.07315122768872717),\n",
       " ('@@@review_length35', 0.03371786482531008),\n",
       " ('@@@review_length50', 0.0495122482657195),\n",
       " ('@@@review_length75', 0.06825723793379976),\n",
       " ('@@@stars', 0.011102546886534989)]"
      ]
     },
     "execution_count": 51,
     "metadata": {},
     "output_type": "execute_result"
    }
   ],
   "source": [
    "sorted([(x,y) for (x,y) in res_gain if x[:3]==\"@@@\"])"
   ]
  },
  {
   "cell_type": "code",
   "execution_count": null,
   "metadata": {},
   "outputs": [],
   "source": []
  },
  {
   "cell_type": "code",
   "execution_count": null,
   "metadata": {},
   "outputs": [],
   "source": []
  },
  {
   "cell_type": "code",
   "execution_count": null,
   "metadata": {},
   "outputs": [],
   "source": []
  },
  {
   "cell_type": "code",
   "execution_count": null,
   "metadata": {},
   "outputs": [],
   "source": []
  },
  {
   "cell_type": "code",
   "execution_count": null,
   "metadata": {},
   "outputs": [],
   "source": []
  },
  {
   "cell_type": "code",
   "execution_count": null,
   "metadata": {},
   "outputs": [],
   "source": []
  },
  {
   "cell_type": "code",
   "execution_count": null,
   "metadata": {},
   "outputs": [],
   "source": []
  },
  {
   "cell_type": "code",
   "execution_count": null,
   "metadata": {},
   "outputs": [],
   "source": []
  },
  {
   "cell_type": "code",
   "execution_count": null,
   "metadata": {},
   "outputs": [],
   "source": []
  },
  {
   "cell_type": "code",
   "execution_count": null,
   "metadata": {},
   "outputs": [],
   "source": []
  },
  {
   "cell_type": "code",
   "execution_count": null,
   "metadata": {},
   "outputs": [],
   "source": []
  }
 ],
 "metadata": {
  "kernelspec": {
   "display_name": "Python 3",
   "language": "python",
   "name": "python3"
  },
  "language_info": {
   "codemirror_mode": {
    "name": "ipython",
    "version": 3
   },
   "file_extension": ".py",
   "mimetype": "text/x-python",
   "name": "python",
   "nbconvert_exporter": "python",
   "pygments_lexer": "ipython3",
   "version": "3.7.0"
  }
 },
 "nbformat": 4,
 "nbformat_minor": 2
}
