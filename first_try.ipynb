{
 "cells": [
  {
   "cell_type": "markdown",
   "metadata": {},
   "source": [
    "# Prep set"
   ]
  },
  {
   "cell_type": "code",
   "execution_count": 1,
   "metadata": {},
   "outputs": [],
   "source": [
    "import pandas as pd\n",
    "import ast\n",
    "import json\n",
    "import subprocess as sb\n",
    "import numpy as np"
   ]
  },
  {
   "cell_type": "code",
   "execution_count": 2,
   "metadata": {},
   "outputs": [
    {
     "name": "stdout",
     "output_type": "stream",
     "text": [
      "10000\n",
      "20000\n",
      "30000\n",
      "40000\n",
      "50000\n",
      "60000\n",
      "70000\n",
      "80000\n",
      "90000\n",
      "100000\n",
      "110000\n",
      "120000\n",
      "130000\n",
      "140000\n",
      "150000\n",
      "160000\n",
      "170000\n",
      "180000\n",
      "190000\n",
      "200000\n"
     ]
    }
   ],
   "source": [
    "data=\"data.json\"\n",
    "with open(data, 'r') as r:\n",
    "    i=0\n",
    "    lines=[]\n",
    "    for x in r:\n",
    "        lines.append(pd.DataFrame([json.loads(x)]))\n",
    "        i+=1\n",
    "        if i%10000==0:\n",
    "            print(i)\n",
    "    res=pd.concat(lines)"
   ]
  },
  {
   "cell_type": "code",
   "execution_count": null,
   "metadata": {},
   "outputs": [],
   "source": []
  },
  {
   "cell_type": "code",
   "execution_count": 3,
   "metadata": {},
   "outputs": [],
   "source": [
    "res['business_review_count']=res['business_id'].map(lambda x: x['review_count'])"
   ]
  },
  {
   "cell_type": "code",
   "execution_count": 4,
   "metadata": {},
   "outputs": [],
   "source": [
    "res['attributes_count']=res['business_id'].map(lambda x: len(x['attributes']))"
   ]
  },
  {
   "cell_type": "code",
   "execution_count": 5,
   "metadata": {
    "scrolled": false
   },
   "outputs": [
    {
     "name": "stdout",
     "output_type": "stream",
     "text": [
      "0\n",
      "24\n"
     ]
    }
   ],
   "source": [
    "row=(dict(res[['attributes_count']].reset_index().iterrows())[0])\n",
    "for x in row:\n",
    "    print(x)"
   ]
  },
  {
   "cell_type": "code",
   "execution_count": 6,
   "metadata": {},
   "outputs": [
    {
     "data": {
      "text/plain": [
       "24"
      ]
     },
     "execution_count": 6,
     "metadata": {},
     "output_type": "execute_result"
    }
   ],
   "source": [
    "row[1]"
   ]
  },
  {
   "cell_type": "code",
   "execution_count": 7,
   "metadata": {
    "scrolled": false
   },
   "outputs": [],
   "source": [
    "res.index=pd.RangeIndex(len(res))"
   ]
  },
  {
   "cell_type": "code",
   "execution_count": 8,
   "metadata": {},
   "outputs": [
    {
     "data": {
      "text/plain": [
       "business_id              206705\n",
       "cool                     206705\n",
       "date                     206705\n",
       "funny                    206705\n",
       "incorrect_words          206705\n",
       "review_id                206705\n",
       "stars                    206705\n",
       "text                     206705\n",
       "useful                   206705\n",
       "user_id                  206705\n",
       "words                    206705\n",
       "business_review_count    206705\n",
       "attributes_count         206705\n",
       "dtype: int64"
      ]
     },
     "execution_count": 8,
     "metadata": {},
     "output_type": "execute_result"
    }
   ],
   "source": [
    "res.count()"
   ]
  },
  {
   "cell_type": "code",
   "execution_count": 9,
   "metadata": {},
   "outputs": [
    {
     "data": {
      "text/html": [
       "<div>\n",
       "<style scoped>\n",
       "    .dataframe tbody tr th:only-of-type {\n",
       "        vertical-align: middle;\n",
       "    }\n",
       "\n",
       "    .dataframe tbody tr th {\n",
       "        vertical-align: top;\n",
       "    }\n",
       "\n",
       "    .dataframe thead th {\n",
       "        text-align: right;\n",
       "    }\n",
       "</style>\n",
       "<table border=\"1\" class=\"dataframe\">\n",
       "  <thead>\n",
       "    <tr style=\"text-align: right;\">\n",
       "      <th></th>\n",
       "      <th>business_id</th>\n",
       "      <th>date</th>\n",
       "      <th>funny</th>\n",
       "      <th>incorrect_words</th>\n",
       "      <th>review_id</th>\n",
       "      <th>stars</th>\n",
       "      <th>text</th>\n",
       "      <th>useful</th>\n",
       "      <th>user_id</th>\n",
       "      <th>words</th>\n",
       "      <th>business_review_count</th>\n",
       "      <th>attributes_count</th>\n",
       "    </tr>\n",
       "    <tr>\n",
       "      <th>cool</th>\n",
       "      <th></th>\n",
       "      <th></th>\n",
       "      <th></th>\n",
       "      <th></th>\n",
       "      <th></th>\n",
       "      <th></th>\n",
       "      <th></th>\n",
       "      <th></th>\n",
       "      <th></th>\n",
       "      <th></th>\n",
       "      <th></th>\n",
       "      <th></th>\n",
       "    </tr>\n",
       "  </thead>\n",
       "  <tbody>\n",
       "    <tr>\n",
       "      <th>0</th>\n",
       "      <td>137645</td>\n",
       "      <td>137645</td>\n",
       "      <td>137645</td>\n",
       "      <td>137645</td>\n",
       "      <td>137645</td>\n",
       "      <td>137645</td>\n",
       "      <td>137645</td>\n",
       "      <td>137645</td>\n",
       "      <td>137645</td>\n",
       "      <td>137645</td>\n",
       "      <td>137645</td>\n",
       "      <td>137645</td>\n",
       "    </tr>\n",
       "    <tr>\n",
       "      <th>1</th>\n",
       "      <td>40566</td>\n",
       "      <td>40566</td>\n",
       "      <td>40566</td>\n",
       "      <td>40566</td>\n",
       "      <td>40566</td>\n",
       "      <td>40566</td>\n",
       "      <td>40566</td>\n",
       "      <td>40566</td>\n",
       "      <td>40566</td>\n",
       "      <td>40566</td>\n",
       "      <td>40566</td>\n",
       "      <td>40566</td>\n",
       "    </tr>\n",
       "    <tr>\n",
       "      <th>2</th>\n",
       "      <td>13957</td>\n",
       "      <td>13957</td>\n",
       "      <td>13957</td>\n",
       "      <td>13957</td>\n",
       "      <td>13957</td>\n",
       "      <td>13957</td>\n",
       "      <td>13957</td>\n",
       "      <td>13957</td>\n",
       "      <td>13957</td>\n",
       "      <td>13957</td>\n",
       "      <td>13957</td>\n",
       "      <td>13957</td>\n",
       "    </tr>\n",
       "    <tr>\n",
       "      <th>3</th>\n",
       "      <td>6022</td>\n",
       "      <td>6022</td>\n",
       "      <td>6022</td>\n",
       "      <td>6022</td>\n",
       "      <td>6022</td>\n",
       "      <td>6022</td>\n",
       "      <td>6022</td>\n",
       "      <td>6022</td>\n",
       "      <td>6022</td>\n",
       "      <td>6022</td>\n",
       "      <td>6022</td>\n",
       "      <td>6022</td>\n",
       "    </tr>\n",
       "    <tr>\n",
       "      <th>4</th>\n",
       "      <td>2919</td>\n",
       "      <td>2919</td>\n",
       "      <td>2919</td>\n",
       "      <td>2919</td>\n",
       "      <td>2919</td>\n",
       "      <td>2919</td>\n",
       "      <td>2919</td>\n",
       "      <td>2919</td>\n",
       "      <td>2919</td>\n",
       "      <td>2919</td>\n",
       "      <td>2919</td>\n",
       "      <td>2919</td>\n",
       "    </tr>\n",
       "    <tr>\n",
       "      <th>...</th>\n",
       "      <td>...</td>\n",
       "      <td>...</td>\n",
       "      <td>...</td>\n",
       "      <td>...</td>\n",
       "      <td>...</td>\n",
       "      <td>...</td>\n",
       "      <td>...</td>\n",
       "      <td>...</td>\n",
       "      <td>...</td>\n",
       "      <td>...</td>\n",
       "      <td>...</td>\n",
       "      <td>...</td>\n",
       "    </tr>\n",
       "    <tr>\n",
       "      <th>167</th>\n",
       "      <td>1</td>\n",
       "      <td>1</td>\n",
       "      <td>1</td>\n",
       "      <td>1</td>\n",
       "      <td>1</td>\n",
       "      <td>1</td>\n",
       "      <td>1</td>\n",
       "      <td>1</td>\n",
       "      <td>1</td>\n",
       "      <td>1</td>\n",
       "      <td>1</td>\n",
       "      <td>1</td>\n",
       "    </tr>\n",
       "    <tr>\n",
       "      <th>170</th>\n",
       "      <td>1</td>\n",
       "      <td>1</td>\n",
       "      <td>1</td>\n",
       "      <td>1</td>\n",
       "      <td>1</td>\n",
       "      <td>1</td>\n",
       "      <td>1</td>\n",
       "      <td>1</td>\n",
       "      <td>1</td>\n",
       "      <td>1</td>\n",
       "      <td>1</td>\n",
       "      <td>1</td>\n",
       "    </tr>\n",
       "    <tr>\n",
       "      <th>172</th>\n",
       "      <td>1</td>\n",
       "      <td>1</td>\n",
       "      <td>1</td>\n",
       "      <td>1</td>\n",
       "      <td>1</td>\n",
       "      <td>1</td>\n",
       "      <td>1</td>\n",
       "      <td>1</td>\n",
       "      <td>1</td>\n",
       "      <td>1</td>\n",
       "      <td>1</td>\n",
       "      <td>1</td>\n",
       "    </tr>\n",
       "    <tr>\n",
       "      <th>173</th>\n",
       "      <td>1</td>\n",
       "      <td>1</td>\n",
       "      <td>1</td>\n",
       "      <td>1</td>\n",
       "      <td>1</td>\n",
       "      <td>1</td>\n",
       "      <td>1</td>\n",
       "      <td>1</td>\n",
       "      <td>1</td>\n",
       "      <td>1</td>\n",
       "      <td>1</td>\n",
       "      <td>1</td>\n",
       "    </tr>\n",
       "    <tr>\n",
       "      <th>245</th>\n",
       "      <td>1</td>\n",
       "      <td>1</td>\n",
       "      <td>1</td>\n",
       "      <td>1</td>\n",
       "      <td>1</td>\n",
       "      <td>1</td>\n",
       "      <td>1</td>\n",
       "      <td>1</td>\n",
       "      <td>1</td>\n",
       "      <td>1</td>\n",
       "      <td>1</td>\n",
       "      <td>1</td>\n",
       "    </tr>\n",
       "  </tbody>\n",
       "</table>\n",
       "<p>65 rows × 12 columns</p>\n",
       "</div>"
      ],
      "text/plain": [
       "      business_id    date   funny  incorrect_words  review_id   stars    text  \\\n",
       "cool                                                                            \n",
       "0          137645  137645  137645           137645     137645  137645  137645   \n",
       "1           40566   40566   40566            40566      40566   40566   40566   \n",
       "2           13957   13957   13957            13957      13957   13957   13957   \n",
       "3            6022    6022    6022             6022       6022    6022    6022   \n",
       "4            2919    2919    2919             2919       2919    2919    2919   \n",
       "...           ...     ...     ...              ...        ...     ...     ...   \n",
       "167             1       1       1                1          1       1       1   \n",
       "170             1       1       1                1          1       1       1   \n",
       "172             1       1       1                1          1       1       1   \n",
       "173             1       1       1                1          1       1       1   \n",
       "245             1       1       1                1          1       1       1   \n",
       "\n",
       "      useful  user_id   words  business_review_count  attributes_count  \n",
       "cool                                                                    \n",
       "0     137645   137645  137645                 137645            137645  \n",
       "1      40566    40566   40566                  40566             40566  \n",
       "2      13957    13957   13957                  13957             13957  \n",
       "3       6022     6022    6022                   6022              6022  \n",
       "4       2919     2919    2919                   2919              2919  \n",
       "...      ...      ...     ...                    ...               ...  \n",
       "167        1        1       1                      1                 1  \n",
       "170        1        1       1                      1                 1  \n",
       "172        1        1       1                      1                 1  \n",
       "173        1        1       1                      1                 1  \n",
       "245        1        1       1                      1                 1  \n",
       "\n",
       "[65 rows x 12 columns]"
      ]
     },
     "execution_count": 9,
     "metadata": {},
     "output_type": "execute_result"
    }
   ],
   "source": [
    "pd.set_option('display.max_rows', 10)\n",
    "res.groupby('cool').count()"
   ]
  },
  {
   "cell_type": "code",
   "execution_count": 10,
   "metadata": {},
   "outputs": [
    {
     "data": {
      "text/html": [
       "<div>\n",
       "<style scoped>\n",
       "    .dataframe tbody tr th:only-of-type {\n",
       "        vertical-align: middle;\n",
       "    }\n",
       "\n",
       "    .dataframe tbody tr th {\n",
       "        vertical-align: top;\n",
       "    }\n",
       "\n",
       "    .dataframe thead th {\n",
       "        text-align: right;\n",
       "    }\n",
       "</style>\n",
       "<table border=\"1\" class=\"dataframe\">\n",
       "  <thead>\n",
       "    <tr style=\"text-align: right;\">\n",
       "      <th></th>\n",
       "      <th>business_id</th>\n",
       "      <th>cool</th>\n",
       "      <th>date</th>\n",
       "      <th>funny</th>\n",
       "      <th>incorrect_words</th>\n",
       "      <th>review_id</th>\n",
       "      <th>stars</th>\n",
       "      <th>text</th>\n",
       "      <th>user_id</th>\n",
       "      <th>words</th>\n",
       "      <th>business_review_count</th>\n",
       "      <th>attributes_count</th>\n",
       "    </tr>\n",
       "    <tr>\n",
       "      <th>useful</th>\n",
       "      <th></th>\n",
       "      <th></th>\n",
       "      <th></th>\n",
       "      <th></th>\n",
       "      <th></th>\n",
       "      <th></th>\n",
       "      <th></th>\n",
       "      <th></th>\n",
       "      <th></th>\n",
       "      <th></th>\n",
       "      <th></th>\n",
       "      <th></th>\n",
       "    </tr>\n",
       "  </thead>\n",
       "  <tbody>\n",
       "    <tr>\n",
       "      <th>0</th>\n",
       "      <td>78021</td>\n",
       "      <td>78021</td>\n",
       "      <td>78021</td>\n",
       "      <td>78021</td>\n",
       "      <td>78021</td>\n",
       "      <td>78021</td>\n",
       "      <td>78021</td>\n",
       "      <td>78021</td>\n",
       "      <td>78021</td>\n",
       "      <td>78021</td>\n",
       "      <td>78021</td>\n",
       "      <td>78021</td>\n",
       "    </tr>\n",
       "    <tr>\n",
       "      <th>1</th>\n",
       "      <td>51087</td>\n",
       "      <td>51087</td>\n",
       "      <td>51087</td>\n",
       "      <td>51087</td>\n",
       "      <td>51087</td>\n",
       "      <td>51087</td>\n",
       "      <td>51087</td>\n",
       "      <td>51087</td>\n",
       "      <td>51087</td>\n",
       "      <td>51087</td>\n",
       "      <td>51087</td>\n",
       "      <td>51087</td>\n",
       "    </tr>\n",
       "    <tr>\n",
       "      <th>2</th>\n",
       "      <td>28837</td>\n",
       "      <td>28837</td>\n",
       "      <td>28837</td>\n",
       "      <td>28837</td>\n",
       "      <td>28837</td>\n",
       "      <td>28837</td>\n",
       "      <td>28837</td>\n",
       "      <td>28837</td>\n",
       "      <td>28837</td>\n",
       "      <td>28837</td>\n",
       "      <td>28837</td>\n",
       "      <td>28837</td>\n",
       "    </tr>\n",
       "    <tr>\n",
       "      <th>3</th>\n",
       "      <td>16355</td>\n",
       "      <td>16355</td>\n",
       "      <td>16355</td>\n",
       "      <td>16355</td>\n",
       "      <td>16355</td>\n",
       "      <td>16355</td>\n",
       "      <td>16355</td>\n",
       "      <td>16355</td>\n",
       "      <td>16355</td>\n",
       "      <td>16355</td>\n",
       "      <td>16355</td>\n",
       "      <td>16355</td>\n",
       "    </tr>\n",
       "    <tr>\n",
       "      <th>4</th>\n",
       "      <td>9858</td>\n",
       "      <td>9858</td>\n",
       "      <td>9858</td>\n",
       "      <td>9858</td>\n",
       "      <td>9858</td>\n",
       "      <td>9858</td>\n",
       "      <td>9858</td>\n",
       "      <td>9858</td>\n",
       "      <td>9858</td>\n",
       "      <td>9858</td>\n",
       "      <td>9858</td>\n",
       "      <td>9858</td>\n",
       "    </tr>\n",
       "    <tr>\n",
       "      <th>...</th>\n",
       "      <td>...</td>\n",
       "      <td>...</td>\n",
       "      <td>...</td>\n",
       "      <td>...</td>\n",
       "      <td>...</td>\n",
       "      <td>...</td>\n",
       "      <td>...</td>\n",
       "      <td>...</td>\n",
       "      <td>...</td>\n",
       "      <td>...</td>\n",
       "      <td>...</td>\n",
       "      <td>...</td>\n",
       "    </tr>\n",
       "    <tr>\n",
       "      <th>168</th>\n",
       "      <td>1</td>\n",
       "      <td>1</td>\n",
       "      <td>1</td>\n",
       "      <td>1</td>\n",
       "      <td>1</td>\n",
       "      <td>1</td>\n",
       "      <td>1</td>\n",
       "      <td>1</td>\n",
       "      <td>1</td>\n",
       "      <td>1</td>\n",
       "      <td>1</td>\n",
       "      <td>1</td>\n",
       "    </tr>\n",
       "    <tr>\n",
       "      <th>170</th>\n",
       "      <td>1</td>\n",
       "      <td>1</td>\n",
       "      <td>1</td>\n",
       "      <td>1</td>\n",
       "      <td>1</td>\n",
       "      <td>1</td>\n",
       "      <td>1</td>\n",
       "      <td>1</td>\n",
       "      <td>1</td>\n",
       "      <td>1</td>\n",
       "      <td>1</td>\n",
       "      <td>1</td>\n",
       "    </tr>\n",
       "    <tr>\n",
       "      <th>173</th>\n",
       "      <td>1</td>\n",
       "      <td>1</td>\n",
       "      <td>1</td>\n",
       "      <td>1</td>\n",
       "      <td>1</td>\n",
       "      <td>1</td>\n",
       "      <td>1</td>\n",
       "      <td>1</td>\n",
       "      <td>1</td>\n",
       "      <td>1</td>\n",
       "      <td>1</td>\n",
       "      <td>1</td>\n",
       "    </tr>\n",
       "    <tr>\n",
       "      <th>175</th>\n",
       "      <td>1</td>\n",
       "      <td>1</td>\n",
       "      <td>1</td>\n",
       "      <td>1</td>\n",
       "      <td>1</td>\n",
       "      <td>1</td>\n",
       "      <td>1</td>\n",
       "      <td>1</td>\n",
       "      <td>1</td>\n",
       "      <td>1</td>\n",
       "      <td>1</td>\n",
       "      <td>1</td>\n",
       "    </tr>\n",
       "    <tr>\n",
       "      <th>2133</th>\n",
       "      <td>1</td>\n",
       "      <td>1</td>\n",
       "      <td>1</td>\n",
       "      <td>1</td>\n",
       "      <td>1</td>\n",
       "      <td>1</td>\n",
       "      <td>1</td>\n",
       "      <td>1</td>\n",
       "      <td>1</td>\n",
       "      <td>1</td>\n",
       "      <td>1</td>\n",
       "      <td>1</td>\n",
       "    </tr>\n",
       "  </tbody>\n",
       "</table>\n",
       "<p>91 rows × 12 columns</p>\n",
       "</div>"
      ],
      "text/plain": [
       "        business_id   cool   date  funny  incorrect_words  review_id  stars  \\\n",
       "useful                                                                        \n",
       "0             78021  78021  78021  78021            78021      78021  78021   \n",
       "1             51087  51087  51087  51087            51087      51087  51087   \n",
       "2             28837  28837  28837  28837            28837      28837  28837   \n",
       "3             16355  16355  16355  16355            16355      16355  16355   \n",
       "4              9858   9858   9858   9858             9858       9858   9858   \n",
       "...             ...    ...    ...    ...              ...        ...    ...   \n",
       "168               1      1      1      1                1          1      1   \n",
       "170               1      1      1      1                1          1      1   \n",
       "173               1      1      1      1                1          1      1   \n",
       "175               1      1      1      1                1          1      1   \n",
       "2133              1      1      1      1                1          1      1   \n",
       "\n",
       "         text  user_id  words  business_review_count  attributes_count  \n",
       "useful                                                                  \n",
       "0       78021    78021  78021                  78021             78021  \n",
       "1       51087    51087  51087                  51087             51087  \n",
       "2       28837    28837  28837                  28837             28837  \n",
       "3       16355    16355  16355                  16355             16355  \n",
       "4        9858     9858   9858                   9858              9858  \n",
       "...       ...      ...    ...                    ...               ...  \n",
       "168         1        1      1                      1                 1  \n",
       "170         1        1      1                      1                 1  \n",
       "173         1        1      1                      1                 1  \n",
       "175         1        1      1                      1                 1  \n",
       "2133        1        1      1                      1                 1  \n",
       "\n",
       "[91 rows x 12 columns]"
      ]
     },
     "execution_count": 10,
     "metadata": {},
     "output_type": "execute_result"
    }
   ],
   "source": [
    "res.groupby('useful').count()"
   ]
  },
  {
   "cell_type": "code",
   "execution_count": 11,
   "metadata": {},
   "outputs": [
    {
     "data": {
      "text/html": [
       "<div>\n",
       "<style scoped>\n",
       "    .dataframe tbody tr th:only-of-type {\n",
       "        vertical-align: middle;\n",
       "    }\n",
       "\n",
       "    .dataframe tbody tr th {\n",
       "        vertical-align: top;\n",
       "    }\n",
       "\n",
       "    .dataframe thead th {\n",
       "        text-align: right;\n",
       "    }\n",
       "</style>\n",
       "<table border=\"1\" class=\"dataframe\">\n",
       "  <thead>\n",
       "    <tr style=\"text-align: right;\">\n",
       "      <th></th>\n",
       "      <th>business_id</th>\n",
       "      <th>cool</th>\n",
       "      <th>date</th>\n",
       "      <th>incorrect_words</th>\n",
       "      <th>review_id</th>\n",
       "      <th>stars</th>\n",
       "      <th>text</th>\n",
       "      <th>useful</th>\n",
       "      <th>user_id</th>\n",
       "      <th>words</th>\n",
       "      <th>business_review_count</th>\n",
       "      <th>attributes_count</th>\n",
       "    </tr>\n",
       "    <tr>\n",
       "      <th>funny</th>\n",
       "      <th></th>\n",
       "      <th></th>\n",
       "      <th></th>\n",
       "      <th></th>\n",
       "      <th></th>\n",
       "      <th></th>\n",
       "      <th></th>\n",
       "      <th></th>\n",
       "      <th></th>\n",
       "      <th></th>\n",
       "      <th></th>\n",
       "      <th></th>\n",
       "    </tr>\n",
       "  </thead>\n",
       "  <tbody>\n",
       "    <tr>\n",
       "      <th>0</th>\n",
       "      <td>146281</td>\n",
       "      <td>146281</td>\n",
       "      <td>146281</td>\n",
       "      <td>146281</td>\n",
       "      <td>146281</td>\n",
       "      <td>146281</td>\n",
       "      <td>146281</td>\n",
       "      <td>146281</td>\n",
       "      <td>146281</td>\n",
       "      <td>146281</td>\n",
       "      <td>146281</td>\n",
       "      <td>146281</td>\n",
       "    </tr>\n",
       "    <tr>\n",
       "      <th>1</th>\n",
       "      <td>33556</td>\n",
       "      <td>33556</td>\n",
       "      <td>33556</td>\n",
       "      <td>33556</td>\n",
       "      <td>33556</td>\n",
       "      <td>33556</td>\n",
       "      <td>33556</td>\n",
       "      <td>33556</td>\n",
       "      <td>33556</td>\n",
       "      <td>33556</td>\n",
       "      <td>33556</td>\n",
       "      <td>33556</td>\n",
       "    </tr>\n",
       "    <tr>\n",
       "      <th>2</th>\n",
       "      <td>11938</td>\n",
       "      <td>11938</td>\n",
       "      <td>11938</td>\n",
       "      <td>11938</td>\n",
       "      <td>11938</td>\n",
       "      <td>11938</td>\n",
       "      <td>11938</td>\n",
       "      <td>11938</td>\n",
       "      <td>11938</td>\n",
       "      <td>11938</td>\n",
       "      <td>11938</td>\n",
       "      <td>11938</td>\n",
       "    </tr>\n",
       "    <tr>\n",
       "      <th>3</th>\n",
       "      <td>5537</td>\n",
       "      <td>5537</td>\n",
       "      <td>5537</td>\n",
       "      <td>5537</td>\n",
       "      <td>5537</td>\n",
       "      <td>5537</td>\n",
       "      <td>5537</td>\n",
       "      <td>5537</td>\n",
       "      <td>5537</td>\n",
       "      <td>5537</td>\n",
       "      <td>5537</td>\n",
       "      <td>5537</td>\n",
       "    </tr>\n",
       "    <tr>\n",
       "      <th>4</th>\n",
       "      <td>2982</td>\n",
       "      <td>2982</td>\n",
       "      <td>2982</td>\n",
       "      <td>2982</td>\n",
       "      <td>2982</td>\n",
       "      <td>2982</td>\n",
       "      <td>2982</td>\n",
       "      <td>2982</td>\n",
       "      <td>2982</td>\n",
       "      <td>2982</td>\n",
       "      <td>2982</td>\n",
       "      <td>2982</td>\n",
       "    </tr>\n",
       "    <tr>\n",
       "      <th>...</th>\n",
       "      <td>...</td>\n",
       "      <td>...</td>\n",
       "      <td>...</td>\n",
       "      <td>...</td>\n",
       "      <td>...</td>\n",
       "      <td>...</td>\n",
       "      <td>...</td>\n",
       "      <td>...</td>\n",
       "      <td>...</td>\n",
       "      <td>...</td>\n",
       "      <td>...</td>\n",
       "      <td>...</td>\n",
       "    </tr>\n",
       "    <tr>\n",
       "      <th>260</th>\n",
       "      <td>1</td>\n",
       "      <td>1</td>\n",
       "      <td>1</td>\n",
       "      <td>1</td>\n",
       "      <td>1</td>\n",
       "      <td>1</td>\n",
       "      <td>1</td>\n",
       "      <td>1</td>\n",
       "      <td>1</td>\n",
       "      <td>1</td>\n",
       "      <td>1</td>\n",
       "      <td>1</td>\n",
       "    </tr>\n",
       "    <tr>\n",
       "      <th>414</th>\n",
       "      <td>1</td>\n",
       "      <td>1</td>\n",
       "      <td>1</td>\n",
       "      <td>1</td>\n",
       "      <td>1</td>\n",
       "      <td>1</td>\n",
       "      <td>1</td>\n",
       "      <td>1</td>\n",
       "      <td>1</td>\n",
       "      <td>1</td>\n",
       "      <td>1</td>\n",
       "      <td>1</td>\n",
       "    </tr>\n",
       "    <tr>\n",
       "      <th>487</th>\n",
       "      <td>1</td>\n",
       "      <td>1</td>\n",
       "      <td>1</td>\n",
       "      <td>1</td>\n",
       "      <td>1</td>\n",
       "      <td>1</td>\n",
       "      <td>1</td>\n",
       "      <td>1</td>\n",
       "      <td>1</td>\n",
       "      <td>1</td>\n",
       "      <td>1</td>\n",
       "      <td>1</td>\n",
       "    </tr>\n",
       "    <tr>\n",
       "      <th>870</th>\n",
       "      <td>1</td>\n",
       "      <td>1</td>\n",
       "      <td>1</td>\n",
       "      <td>1</td>\n",
       "      <td>1</td>\n",
       "      <td>1</td>\n",
       "      <td>1</td>\n",
       "      <td>1</td>\n",
       "      <td>1</td>\n",
       "      <td>1</td>\n",
       "      <td>1</td>\n",
       "      <td>1</td>\n",
       "    </tr>\n",
       "    <tr>\n",
       "      <th>932</th>\n",
       "      <td>1</td>\n",
       "      <td>1</td>\n",
       "      <td>1</td>\n",
       "      <td>1</td>\n",
       "      <td>1</td>\n",
       "      <td>1</td>\n",
       "      <td>1</td>\n",
       "      <td>1</td>\n",
       "      <td>1</td>\n",
       "      <td>1</td>\n",
       "      <td>1</td>\n",
       "      <td>1</td>\n",
       "    </tr>\n",
       "  </tbody>\n",
       "</table>\n",
       "<p>79 rows × 12 columns</p>\n",
       "</div>"
      ],
      "text/plain": [
       "       business_id    cool    date  incorrect_words  review_id   stars  \\\n",
       "funny                                                                    \n",
       "0           146281  146281  146281           146281     146281  146281   \n",
       "1            33556   33556   33556            33556      33556   33556   \n",
       "2            11938   11938   11938            11938      11938   11938   \n",
       "3             5537    5537    5537             5537       5537    5537   \n",
       "4             2982    2982    2982             2982       2982    2982   \n",
       "...            ...     ...     ...              ...        ...     ...   \n",
       "260              1       1       1                1          1       1   \n",
       "414              1       1       1                1          1       1   \n",
       "487              1       1       1                1          1       1   \n",
       "870              1       1       1                1          1       1   \n",
       "932              1       1       1                1          1       1   \n",
       "\n",
       "         text  useful  user_id   words  business_review_count  \\\n",
       "funny                                                           \n",
       "0      146281  146281   146281  146281                 146281   \n",
       "1       33556   33556    33556   33556                  33556   \n",
       "2       11938   11938    11938   11938                  11938   \n",
       "3        5537    5537     5537    5537                   5537   \n",
       "4        2982    2982     2982    2982                   2982   \n",
       "...       ...     ...      ...     ...                    ...   \n",
       "260         1       1        1       1                      1   \n",
       "414         1       1        1       1                      1   \n",
       "487         1       1        1       1                      1   \n",
       "870         1       1        1       1                      1   \n",
       "932         1       1        1       1                      1   \n",
       "\n",
       "       attributes_count  \n",
       "funny                    \n",
       "0                146281  \n",
       "1                 33556  \n",
       "2                 11938  \n",
       "3                  5537  \n",
       "4                  2982  \n",
       "...                 ...  \n",
       "260                   1  \n",
       "414                   1  \n",
       "487                   1  \n",
       "870                   1  \n",
       "932                   1  \n",
       "\n",
       "[79 rows x 12 columns]"
      ]
     },
     "execution_count": 11,
     "metadata": {},
     "output_type": "execute_result"
    }
   ],
   "source": [
    "res.groupby('funny').count()"
   ]
  },
  {
   "cell_type": "code",
   "execution_count": 12,
   "metadata": {},
   "outputs": [
    {
     "data": {
      "text/plain": [
       "'interesting cave like setting.  busy, but way overpriced for what it is.  nothing special or memorable about the steaks or sides. average quality food. average service, nothing special to stand out from any other restaurant. hyped name.  professional host greeting.'"
      ]
     },
     "execution_count": 12,
     "metadata": {},
     "output_type": "execute_result"
    }
   ],
   "source": [
    "res['text'].loc[2]"
   ]
  },
  {
   "cell_type": "code",
   "execution_count": 13,
   "metadata": {},
   "outputs": [
    {
     "data": {
      "text/html": [
       "<div>\n",
       "<style scoped>\n",
       "    .dataframe tbody tr th:only-of-type {\n",
       "        vertical-align: middle;\n",
       "    }\n",
       "\n",
       "    .dataframe tbody tr th {\n",
       "        vertical-align: top;\n",
       "    }\n",
       "\n",
       "    .dataframe thead th {\n",
       "        text-align: right;\n",
       "    }\n",
       "</style>\n",
       "<table border=\"1\" class=\"dataframe\">\n",
       "  <thead>\n",
       "    <tr style=\"text-align: right;\">\n",
       "      <th></th>\n",
       "      <th>business_id</th>\n",
       "      <th>cool</th>\n",
       "      <th>date</th>\n",
       "      <th>funny</th>\n",
       "      <th>incorrect_words</th>\n",
       "      <th>review_id</th>\n",
       "      <th>stars</th>\n",
       "      <th>text</th>\n",
       "      <th>useful</th>\n",
       "      <th>user_id</th>\n",
       "      <th>words</th>\n",
       "      <th>business_review_count</th>\n",
       "      <th>attributes_count</th>\n",
       "    </tr>\n",
       "  </thead>\n",
       "  <tbody>\n",
       "  </tbody>\n",
       "</table>\n",
       "</div>"
      ],
      "text/plain": [
       "Empty DataFrame\n",
       "Columns: [business_id, cool, date, funny, incorrect_words, review_id, stars, text, useful, user_id, words, business_review_count, attributes_count]\n",
       "Index: []"
      ]
     },
     "execution_count": 13,
     "metadata": {},
     "output_type": "execute_result"
    }
   ],
   "source": [
    "res[res['text'].isnull()]"
   ]
  },
  {
   "cell_type": "code",
   "execution_count": 14,
   "metadata": {
    "scrolled": false
   },
   "outputs": [],
   "source": [
    "# number of words\n",
    "#pd.set_option('display.max_rows', 800)\n",
    "#res.groupby(lambda a: len(res['text'].loc[a].split(' '))).count()"
   ]
  },
  {
   "cell_type": "code",
   "execution_count": 15,
   "metadata": {
    "scrolled": false
   },
   "outputs": [
    {
     "data": {
      "text/plain": [
       "business_id              139075\n",
       "cool                     139075\n",
       "date                     139075\n",
       "funny                    139075\n",
       "incorrect_words          139075\n",
       "                          ...  \n",
       "useful                   139075\n",
       "user_id                  139075\n",
       "words                    139075\n",
       "business_review_count    139075\n",
       "attributes_count         139075\n",
       "Length: 13, dtype: int64"
      ]
     },
     "execution_count": 15,
     "metadata": {},
     "output_type": "execute_result"
    }
   ],
   "source": [
    "# review_counts\n",
    "#res.groupby('business_review_count').count()\n",
    "res[res['business_review_count']>50].count()"
   ]
  },
  {
   "cell_type": "code",
   "execution_count": 16,
   "metadata": {},
   "outputs": [
    {
     "data": {
      "text/plain": [
       "business_id              132341\n",
       "cool                     132341\n",
       "date                     132341\n",
       "funny                    132341\n",
       "incorrect_words          132341\n",
       "                          ...  \n",
       "useful                   132341\n",
       "user_id                  132341\n",
       "words                    132341\n",
       "business_review_count    132341\n",
       "attributes_count         132341\n",
       "Length: 13, dtype: int64"
      ]
     },
     "execution_count": 16,
     "metadata": {},
     "output_type": "execute_result"
    }
   ],
   "source": [
    "res.groupby('attributes_count').count()\n",
    "res[res['attributes_count']>10].count()"
   ]
  },
  {
   "cell_type": "code",
   "execution_count": 17,
   "metadata": {},
   "outputs": [],
   "source": [
    "pd.set_option('display.max_rows', 0)"
   ]
  },
  {
   "cell_type": "code",
   "execution_count": 18,
   "metadata": {},
   "outputs": [
    {
     "data": {
      "text/plain": [
       "4.0"
      ]
     },
     "execution_count": 18,
     "metadata": {},
     "output_type": "execute_result"
    }
   ],
   "source": [
    "res['business_id'].loc[2]['stars']"
   ]
  },
  {
   "cell_type": "code",
   "execution_count": 19,
   "metadata": {},
   "outputs": [
    {
     "name": "stdout",
     "output_type": "stream",
     "text": [
      "139075\n"
     ]
    }
   ],
   "source": [
    "n=res[res['business_review_count']>50].count()[0]\n",
    "print(n)\n",
    "#print(type(n))\n",
    "#rs=res[res['business_review_count']>50].sample(n=n).copy()\n",
    "#pos=rs[rs[like_type]>2].sample(n=40000).copy()"
   ]
  },
  {
   "cell_type": "code",
   "execution_count": 20,
   "metadata": {},
   "outputs": [],
   "source": [
    "#res[lambda r: True].sample(n=1) #??\n",
    "#res[print(res['business'])]#\n",
    "#res[print(type(res['business']))]\n",
    "#res.apply()\n",
    "#res[res['business'].get('business_id')=='aAbL_y05zPWaIrT1QtDWxw'].sample(n=1)"
   ]
  },
  {
   "cell_type": "code",
   "execution_count": 60,
   "metadata": {},
   "outputs": [],
   "source": [
    "def get_reviews(like_type):\n",
    "    n=res[res['business_review_count']>50].count()[0]\n",
    "    #print(n)\n",
    "    #print(type(n))\n",
    "    tmp=res[res['business_review_count']>50].sample(n=n).copy()\n",
    "    n=tmp[tmp['attributes_count']>10].count()[0]\n",
    "    rs=tmp[tmp['attributes_count']>10].sample(n=n).copy()\n",
    "\n",
    "    pos=rs[rs[like_type]>2].sample(n=10000).copy()\n",
    "    pos['classification']=like_type\n",
    "    neg=rs[rs[like_type]==0].sample(n=10000).copy()\n",
    "    neg['classification']='not-'+like_type\n",
    "    all=pd.concat([pos, neg])\n",
    "    all=all[['text', like_type, 'classification', 'stars', 'business_id', 'words', 'incorrect_words']].reset_index(drop=True)\n",
    "    return all"
   ]
  },
  {
   "cell_type": "markdown",
   "metadata": {},
   "source": [
    "# Classification"
   ]
  },
  {
   "cell_type": "code",
   "execution_count": 61,
   "metadata": {
    "scrolled": false
   },
   "outputs": [],
   "source": [
    "import nltk\n",
    "toker=nltk.tokenize.TweetTokenizer()"
   ]
  },
  {
   "cell_type": "code",
   "execution_count": 62,
   "metadata": {},
   "outputs": [],
   "source": [
    "like_type='useful'\n",
    "#like_type='funny'\n",
    "#like_type='cool'"
   ]
  },
  {
   "cell_type": "code",
   "execution_count": 63,
   "metadata": {},
   "outputs": [],
   "source": [
    "reviews=get_reviews(like_type)"
   ]
  },
  {
   "cell_type": "code",
   "execution_count": 64,
   "metadata": {},
   "outputs": [
    {
     "name": "stdout",
     "output_type": "stream",
     "text": [
      "total number of words: 3544668\n",
      "unique words: 49650\n",
      "words present only once: 23889\n"
     ]
    },
    {
     "data": {
      "image/png": "[encoded data removed]",
      "text/plain": [
       "<Figure size 432x288 with 1 Axes>"
      ]
     },
     "metadata": {},
     "output_type": "display_data"
    }
   ],
   "source": [
    "texts_tokenized = (toker.tokenize(row.text) for index, row in reviews.iterrows())\n",
    "all_words = nltk.FreqDist(w.lower() for tokens in texts_tokenized for w in tokens)\n",
    "\n",
    "print('total number of words:', sum(all_words.values()))\n",
    "print('unique words:', len(all_words))\n",
    "print('words present only once:', sum(c for c in all_words.values() if c == 1))\n",
    "\n",
    "all_words.plot(30)"
   ]
  },
  {
   "cell_type": "code",
   "execution_count": 65,
   "metadata": {},
   "outputs": [
    {
     "name": "stdout",
     "output_type": "stream",
     "text": [
      "feature words: 25342\n"
     ]
    },
    {
     "data": {
      "image/png": "[encoded data removed]",
      "text/plain": [
       "<Figure size 432x288 with 1 Axes>"
      ]
     },
     "metadata": {},
     "output_type": "display_data"
    }
   ],
   "source": [
    "words = all_words.copy()\n",
    "for w, count in all_words.items():\n",
    "    if count > 1000 or count == 1:\n",
    "        del words[w]\n",
    "\n",
    "print('feature words:', len(words))\n",
    "words.plot(40)"
   ]
  },
  {
   "cell_type": "code",
   "execution_count": 84,
   "metadata": {},
   "outputs": [],
   "source": [
    "word_features = frozenset(words.keys())\n",
    "\n",
    "def features(row):\n",
    "    text=row.text\n",
    "    txt_words = set(toker.tokenize(text.lower()))\n",
    "    features = {}\n",
    "    for w in txt_words & word_features:\n",
    "        #features['contains({})'.format(w)] = 'Yes' # beze slov je to lepsi\n",
    "        pass\n",
    "    \n",
    "    text=toker.tokenize(text.lower())\n",
    "    for w,w2 in zip(text[:-1], text[1:]):\n",
    "        if w in word_features and w2 in word_features:\n",
    "                features['contains({}&&&{})'.format(w,w2)] = 'Yes'\n",
    "                pass\n",
    "            \n",
    "    #features['contains(@@stars{})'.format(row.stars)] = 'Yes'\n",
    "    features['@@@stars'] = row.stars\n",
    "    features['@@@bus_stars']=row['business_id']['stars']\n",
    "    #features['@@@review_count']= \"A lot\" if row['business']['review_count']  else \"A few\"\n",
    "    l=row['words']\n",
    "    features['@@@review_length']= \"short\" if l<50 else \"middle\" if l<150 else \"long\"\n",
    "    rate=row['incorrect_words']/row['words']\n",
    "    \n",
    "    features['@@@error_rate0.02'] = \"good\" if rate<0.02 else \"bad\"\n",
    "    features['@@@error_rate0.05'] = \"good\" if rate<0.05 else \"bad\"\n",
    "    features['@@@error_rate0.1'] = \"good\" if rate<0.1 else \"bad\"\n",
    "    features['@@@error_rate0.15'] = \"good\" if rate<0.15 else \"bad\"\n",
    "    features['@@@error_rate0.2'] = \"good\" if rate<0.2 else \"bad\"\n",
    "    \n",
    "    return features"
   ]
  },
  {
   "cell_type": "code",
   "execution_count": 85,
   "metadata": {
    "scrolled": false
   },
   "outputs": [],
   "source": [
    "# generate tuples: (features_dict, sentiment)\n",
    "feature_sets = [(features(row), row.classification) for index, row in reviews.iterrows()]"
   ]
  },
  {
   "cell_type": "code",
   "execution_count": 86,
   "metadata": {},
   "outputs": [
    {
     "data": {
      "text/plain": [
       "({'contains(carb-laden&&&assault)': 'Yes',\n",
       "  'contains(unusual&&&punishment)': 'Yes',\n",
       "  'contains(encore&&&resulted)': 'Yes',\n",
       "  \"contains(wynn's&&&website)\": 'Yes',\n",
       "  'contains(escape&&&route)': 'Yes',\n",
       "  'contains(called&&&tableau)': 'Yes',\n",
       "  'contains(reasonably&&&priced)': 'Yes',\n",
       "  'contains(wynn&&&standards)': 'Yes',\n",
       "  'contains(sunday&&&morning)': 'Yes',\n",
       "  'contains(seriously&&&feels)': 'Yes',\n",
       "  'contains(fairy&&&tale)': 'Yes',\n",
       "  'contains(tuna&&&tartare)': 'Yes',\n",
       "  'contains(tartare&&&appetizer)': 'Yes',\n",
       "  'contains(duck&&&croque)': 'Yes',\n",
       "  'contains(croque&&&madame)': 'Yes',\n",
       "  'contains(hundred&&&bucks)': 'Yes',\n",
       "  'contains(absolutely&&&astounding)': 'Yes',\n",
       "  '@@@stars': 5,\n",
       "  '@@@bus_stars': 4.0,\n",
       "  '@@@review_length': 'long',\n",
       "  '@@@error_rate0.02': 'bad',\n",
       "  '@@@error_rate0.05': 'good',\n",
       "  '@@@error_rate0.1': 'good',\n",
       "  '@@@error_rate0.15': 'good',\n",
       "  '@@@error_rate0.2': 'good'},\n",
       " 'useful')"
      ]
     },
     "execution_count": 86,
     "metadata": {},
     "output_type": "execute_result"
    }
   ],
   "source": [
    "feature_sets[0]"
   ]
  },
  {
   "cell_type": "code",
   "execution_count": null,
   "metadata": {},
   "outputs": [],
   "source": []
  },
  {
   "cell_type": "markdown",
   "metadata": {},
   "source": [
    "# Model training"
   ]
  },
  {
   "cell_type": "code",
   "execution_count": 87,
   "metadata": {},
   "outputs": [
    {
     "data": {
      "text/plain": [
       "10000"
      ]
     },
     "execution_count": 87,
     "metadata": {},
     "output_type": "execute_result"
    }
   ],
   "source": [
    "    import random\n",
    "    random.shuffle(feature_sets)\n",
    "    half=int(len(feature_sets)/2)\n",
    "    train_set, test_set = feature_sets[:half], feature_sets[half:]\n",
    "    half"
   ]
  },
  {
   "cell_type": "code",
   "execution_count": 88,
   "metadata": {},
   "outputs": [],
   "source": [
    "classifier = nltk.NaiveBayesClassifier.train(train_set)"
   ]
  },
  {
   "cell_type": "code",
   "execution_count": 89,
   "metadata": {},
   "outputs": [
    {
     "name": "stdout",
     "output_type": "stream",
     "text": [
      "0.6477\n"
     ]
    }
   ],
   "source": [
    "print(nltk.classify.accuracy(classifier, test_set))"
   ]
  },
  {
   "cell_type": "code",
   "execution_count": 90,
   "metadata": {},
   "outputs": [
    {
     "name": "stdout",
     "output_type": "stream",
     "text": [
      "Most Informative Features\n",
      "contains(upon&&&arrival) = 'Yes'          useful : not-us =     14.1 : 1.0\n",
      " contains(let's&&&start) = 'Yes'          useful : not-us =     11.5 : 1.0\n",
      "        @@@error_rate0.2 = 'bad'          not-us : useful =     10.0 : 1.0\n",
      "contains(golden&&&corral) = 'Yes'          useful : not-us =      8.9 : 1.0\n",
      "    contains(egg&&&drop) = 'Yes'          useful : not-us =      8.9 : 1.0\n",
      "contains(lightly&&&breaded) = 'Yes'          useful : not-us =      8.2 : 1.0\n",
      "contains(cocktail&&&list) = 'Yes'          useful : not-us =      8.2 : 1.0\n",
      "contains(including&&&tip) = 'Yes'          useful : not-us =      7.5 : 1.0\n",
      "contains(extremely&&&slow) = 'Yes'          useful : not-us =      6.9 : 1.0\n",
      "contains(band&&&playing) = 'Yes'          useful : not-us =      6.9 : 1.0\n",
      "        contains(30&&&%) = 'Yes'          useful : not-us =      6.9 : 1.0\n",
      "contains(fremont&&&street) = 'Yes'          useful : not-us =      6.9 : 1.0\n",
      "contains(air&&&conditioning) = 'Yes'          useful : not-us =      6.9 : 1.0\n",
      "   contains(pet&&&peeve) = 'Yes'          useful : not-us =      6.2 : 1.0\n",
      "contains(parking&&&situation) = 'Yes'          useful : not-us =      6.2 : 1.0\n",
      "contains(anywhere&&&near) = 'Yes'          useful : not-us =      6.2 : 1.0\n",
      "  contains(wood&&&fired) = 'Yes'          useful : not-us =      6.2 : 1.0\n",
      "  contains(guy&&&behind) = 'Yes'          useful : not-us =      6.2 : 1.0\n",
      " contains(makes&&&sense) = 'Yes'          useful : not-us =      6.2 : 1.0\n",
      "   contains(20&&&minute) = 'Yes'          useful : not-us =      6.2 : 1.0\n",
      "contains(main&&&entrees) = 'Yes'          useful : not-us =      6.2 : 1.0\n",
      "contains(complete&&&opposite) = 'Yes'          useful : not-us =      6.2 : 1.0\n",
      "contains(cherry&&&tomatoes) = 'Yes'          useful : not-us =      6.2 : 1.0\n",
      "contains(immediately&&&greeted) = 'Yes'          useful : not-us =      6.2 : 1.0\n",
      "contains(roasted&&&garlic) = 'Yes'          useful : not-us =      6.2 : 1.0\n",
      "     contains(pico&&&de) = 'Yes'          useful : not-us =      6.1 : 1.0\n",
      "   contains(taco&&&bell) = 'Yes'          useful : not-us =      6.1 : 1.0\n",
      "contains(fellow&&&yelpers) = 'Yes'          useful : not-us =      5.8 : 1.0\n",
      "    contains(de&&&gallo) = 'Yes'          useful : not-us =      5.7 : 1.0\n",
      " contains(salmon&&&skin) = 'Yes'          useful : not-us =      5.6 : 1.0\n"
     ]
    }
   ],
   "source": [
    "classifier.show_most_informative_features(30)"
   ]
  },
  {
   "cell_type": "code",
   "execution_count": null,
   "metadata": {},
   "outputs": [],
   "source": []
  },
  {
   "cell_type": "code",
   "execution_count": null,
   "metadata": {},
   "outputs": [],
   "source": []
  },
  {
   "cell_type": "code",
   "execution_count": 91,
   "metadata": {},
   "outputs": [],
   "source": [
    "# information gain\n",
    "X, Y = [x[0] for x in test_set], [x[1] for x in test_set]"
   ]
  },
  {
   "cell_type": "code",
   "execution_count": null,
   "metadata": {
    "scrolled": false
   },
   "outputs": [],
   "source": []
  },
  {
   "cell_type": "code",
   "execution_count": 92,
   "metadata": {},
   "outputs": [],
   "source": [
    "from sklearn.datasets import fetch_20newsgroups\n",
    "from sklearn.feature_selection import mutual_info_classif\n",
    "from sklearn.feature_extraction.text import CountVectorizer"
   ]
  },
  {
   "cell_type": "code",
   "execution_count": 93,
   "metadata": {},
   "outputs": [
    {
     "data": {
      "text/plain": [
       "{'contains(lahore&&&tikka)': 'Yes',\n",
       " 'contains(crazy&&&oily)': 'Yes',\n",
       " 'contains(paneer&&&makhani)': 'Yes',\n",
       " 'contains(hill&&&station)': 'Yes',\n",
       " 'contains(northern&&&india)': 'Yes',\n",
       " 'contains(reasonable&&&expectations)': 'Yes',\n",
       " 'contains(nearly&&&authentic)': 'Yes',\n",
       " 'contains(authentic&&&indian)': 'Yes',\n",
       " '@@@stars': 4,\n",
       " '@@@bus_stars': 4.0,\n",
       " '@@@review_length': 'long',\n",
       " '@@@error_rate0.02': 'bad',\n",
       " '@@@error_rate0.05': 'good',\n",
       " '@@@error_rate0.1': 'good',\n",
       " '@@@error_rate0.15': 'good',\n",
       " '@@@error_rate0.2': 'good'}"
      ]
     },
     "execution_count": 93,
     "metadata": {},
     "output_type": "execute_result"
    }
   ],
   "source": [
    "X[0]"
   ]
  },
  {
   "cell_type": "code",
   "execution_count": 94,
   "metadata": {},
   "outputs": [],
   "source": [
    "cv_gain = CountVectorizer(max_df=0.95, min_df=2,\n",
    "                                     max_features=10000)"
   ]
  },
  {
   "cell_type": "code",
   "execution_count": 95,
   "metadata": {},
   "outputs": [],
   "source": [
    "all_keys=[set(x.keys()) for x in X]"
   ]
  },
  {
   "cell_type": "code",
   "execution_count": 96,
   "metadata": {},
   "outputs": [],
   "source": [
    "import functools\n",
    "all_fs=functools.reduce(lambda a,b: a.union(b), all_keys)\n",
    "all_fs=list(all_fs)"
   ]
  },
  {
   "cell_type": "code",
   "execution_count": 97,
   "metadata": {
    "scrolled": false
   },
   "outputs": [
    {
     "data": {
      "text/plain": [
       "63027"
      ]
     },
     "execution_count": 97,
     "metadata": {},
     "output_type": "execute_result"
    }
   ],
   "source": [
    "len(all_fs)"
   ]
  },
  {
   "cell_type": "code",
   "execution_count": 101,
   "metadata": {},
   "outputs": [],
   "source": [
    "def get_int(val):\n",
    "    if isinstance(val, int):\n",
    "        return val\n",
    "    if isinstance(val, float):\n",
    "        return val\n",
    "    vals={\"Yes\":1, \"No\":0, \"middle\":1, \"long\":2, \"short\":0, \"good\":1, \"bad\":0}\n",
    "    return vals[val]"
   ]
  },
  {
   "cell_type": "code",
   "execution_count": 102,
   "metadata": {},
   "outputs": [],
   "source": [
    "#X_matrix=[]\n",
    "#\n",
    "#for x in X:\n",
    "#    row=[]\n",
    "#    for key in all_fs:\n",
    "#        if key in x:\n",
    "#            row.append(get_int(x[key]))\n",
    "#        else:\n",
    "#            row.append(0)\n",
    "#    X_matrix.append(row)"
   ]
  },
  {
   "cell_type": "code",
   "execution_count": 103,
   "metadata": {},
   "outputs": [],
   "source": [
    "import scipy"
   ]
  },
  {
   "cell_type": "code",
   "execution_count": 104,
   "metadata": {},
   "outputs": [],
   "source": [
    "row=[]\n",
    "x=X[0]\n",
    "\n",
    "for key in all_fs:\n",
    "    if key in x:\n",
    "        row.append(get_int(x[key]))\n",
    "    else:\n",
    "        row.append(0)\n",
    "        \n",
    "X_matrix=scipy.sparse.lil_matrix([row])\n",
    "\n",
    "i=0\n",
    "for x in X[1:]:\n",
    "    row=[]\n",
    "    for key in all_fs:\n",
    "        if key in x:\n",
    "            row.append(get_int(x[key]))\n",
    "        else:\n",
    "            row.append(0)\n",
    "    X_matrix=scipy.sparse.vstack((X_matrix, scipy.sparse.lil_matrix([row])))\n",
    "    i+=1\n",
    "    #if i==1000:\n",
    "       #break"
   ]
  },
  {
   "cell_type": "code",
   "execution_count": 105,
   "metadata": {},
   "outputs": [
    {
     "data": {
      "text/plain": [
       "10000"
      ]
     },
     "execution_count": 105,
     "metadata": {},
     "output_type": "execute_result"
    }
   ],
   "source": [
    "len(X)"
   ]
  },
  {
   "cell_type": "code",
   "execution_count": 106,
   "metadata": {},
   "outputs": [
    {
     "data": {
      "text/plain": [
       "<10000x63027 sparse matrix of type '<class 'numpy.float64'>'\n",
       "\twith 157677 stored elements in COOrdinate format>"
      ]
     },
     "execution_count": 106,
     "metadata": {},
     "output_type": "execute_result"
    }
   ],
   "source": [
    "X_matrix"
   ]
  },
  {
   "cell_type": "code",
   "execution_count": null,
   "metadata": {},
   "outputs": [],
   "source": []
  },
  {
   "cell_type": "code",
   "execution_count": 107,
   "metadata": {},
   "outputs": [],
   "source": [
    "res_gain = list(zip(all_fs, mutual_info_classif(X_matrix, Y, discrete_features=True)))"
   ]
  },
  {
   "cell_type": "code",
   "execution_count": 108,
   "metadata": {},
   "outputs": [],
   "source": [
    "#res_gain"
   ]
  },
  {
   "cell_type": "code",
   "execution_count": 109,
   "metadata": {},
   "outputs": [
    {
     "data": {
      "text/plain": [
       "[('contains(soft&&&opening)', 0.0006316549568175086),\n",
       " ('contains(jersey&&&shore)', 0.000561430341693289),\n",
       " ('contains(olive&&&oil)', 0.0008767035720114499),\n",
       " ('contains(creme&&&brulee)', 0.0005596046627054513),\n",
       " ('contains(hostess&&&stand)', 0.0005168343091712907),\n",
       " ('contains(short&&&rib)', 0.0008421475528924572),\n",
       " ('contains(20&&&%)', 0.000866256070581716),\n",
       " ('contains(lounge&&&chairs)', 0.000561430341693289),\n",
       " ('contains(black&&&bean)', 0.0007426126830343705),\n",
       " ('contains(upon&&&entering)', 0.0005438733214161644),\n",
       " ('contains(locally&&&sourced)', 0.0011235128396183177),\n",
       " ('contains(spring&&&break)', 0.0008115349551020516),\n",
       " ('contains(black&&&truffle)', 0.000842389972584472),\n",
       " ('@@@error_rate0.05', 0.0016600044041633344),\n",
       " ('contains(cast&&&iron)', 0.0007721347691827321),\n",
       " ('contains(dance&&&floor)', 0.0006381103119085223),\n",
       " ('contains(mixed&&&greens)', 0.0006207821713464763),\n",
       " ('contains(green&&&onions)', 0.0012684514465964801),\n",
       " ('contains(crispy&&&crust)', 0.0005168343091712907),\n",
       " ('contains(credit&&&card)', 0.0005723908714151005),\n",
       " ('contains(7&&&days)', 0.0006316549568175086),\n",
       " ('contains(health&&&department)', 0.000561430341693289),\n",
       " ('contains(blood&&&orange)', 0.000561430341693289),\n",
       " ('contains(20&&&+)', 0.000561430341693289),\n",
       " ('contains(green&&&onion)', 0.0006316549568175086),\n",
       " ('contains(per&&&person)', 0.0006571786147832274),\n",
       " ('contains(rewards&&&card)', 0.000561430341693289),\n",
       " ('contains(50&&&%)', 0.0010144348063169254),\n",
       " ('contains(grand&&&opening)', 0.0005168343091712907),\n",
       " ('@@@error_rate0.1', 0.0008389219245584258),\n",
       " ('contains(corn&&&tortilla)', 0.0006316549568175086),\n",
       " ('@@@bus_stars', 0.0019083241215097058),\n",
       " ('contains(fellow&&&yelpers)', 0.0007564158742096312),\n",
       " ('@@@review_length', 0.08681111899990095),\n",
       " ('contains(falling&&&apart)', 0.0005582266905115754),\n",
       " ('contains(365&&&challenge)', 0.0006316549568175086),\n",
       " ('contains(felt&&&rushed)', 0.0007721347691827321),\n",
       " ('contains(hidden&&&gem)', 0.0005182299075283635),\n",
       " ('contains(hours&&&later)', 0.0007475030155662773),\n",
       " ('contains(fremont&&&street)', 0.0006207821713464763),\n",
       " ('contains(second&&&chance)', 0.0005582266905115754),\n",
       " ('@@@stars', 0.01371884910730059),\n",
       " ('contains(blue&&&ribbon)', 0.000561430341693289),\n",
       " ('contains(18&&&%)', 0.0005582266905115754),\n",
       " ('contains(heart&&&attack)', 0.0006316549568175086),\n",
       " ('contains(à&&&la)', 0.000561430341693289),\n",
       " ('contains(flat&&&screen)', 0.0007721347691827321),\n",
       " ('contains(thank&&&god)', 0.0005932683048905959)]"
      ]
     },
     "execution_count": 109,
     "metadata": {},
     "output_type": "execute_result"
    }
   ],
   "source": [
    "[(x,y) for (x,y) in res_gain if y>0.0005]"
   ]
  },
  {
   "cell_type": "code",
   "execution_count": 110,
   "metadata": {},
   "outputs": [
    {
     "data": {
      "text/plain": [
       "[('contains(locally&&&sourced)', 0.0011235128396183177),\n",
       " ('@@@error_rate0.05', 0.0016600044041633344),\n",
       " ('contains(green&&&onions)', 0.0012684514465964801),\n",
       " ('contains(50&&&%)', 0.0010144348063169254),\n",
       " ('@@@bus_stars', 0.0019083241215097058),\n",
       " ('@@@review_length', 0.08681111899990095),\n",
       " ('@@@stars', 0.01371884910730059)]"
      ]
     },
     "execution_count": 110,
     "metadata": {},
     "output_type": "execute_result"
    }
   ],
   "source": [
    "[(x,y) for (x,y) in res_gain if y>0.001]"
   ]
  },
  {
   "cell_type": "code",
   "execution_count": null,
   "metadata": {},
   "outputs": [],
   "source": []
  },
  {
   "cell_type": "code",
   "execution_count": null,
   "metadata": {},
   "outputs": [],
   "source": []
  },
  {
   "cell_type": "code",
   "execution_count": null,
   "metadata": {},
   "outputs": [],
   "source": []
  }
 ],
 "metadata": {
  "kernelspec": {
   "display_name": "Python 3",
   "language": "python",
   "name": "python3"
  },
  "language_info": {
   "codemirror_mode": {
    "name": "ipython",
    "version": 3
   },
   "file_extension": ".py",
   "mimetype": "text/x-python",
   "name": "python",
   "nbconvert_exporter": "python",
   "pygments_lexer": "ipython3",
   "version": "3.7.0"
  }
 },
 "nbformat": 4,
 "nbformat_minor": 2
}
