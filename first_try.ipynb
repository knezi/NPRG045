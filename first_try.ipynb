{
 "cells": [
  {
   "cell_type": "markdown",
   "metadata": {},
   "source": [
    "# Prep set"
   ]
  },
  {
   "cell_type": "code",
   "execution_count": 2,
   "metadata": {},
   "outputs": [],
   "source": [
    "import pandas as pd\n",
    "import ast\n",
    "import json\n",
    "import subprocess as sb"
   ]
  },
  {
   "cell_type": "code",
   "execution_count": 3,
   "metadata": {},
   "outputs": [
    {
     "name": "stdout",
     "output_type": "stream",
     "text": [
      "10000\n",
      "20000\n",
      "30000\n",
      "40000\n",
      "50000\n",
      "60000\n",
      "70000\n",
      "80000\n",
      "90000\n",
      "100000\n",
      "110000\n",
      "120000\n",
      "130000\n",
      "140000\n",
      "150000\n",
      "160000\n",
      "170000\n",
      "180000\n",
      "190000\n",
      "200000\n",
      "210000\n"
     ]
    }
   ],
   "source": [
    "data=\"hy.json\"\n",
    "#data=\"data_half_month\"\n",
    "#sb.call([\"./join_users.sh\", data])\n",
    "with open(data, 'r') as r:\n",
    "    #res=pd.DataFrame()\n",
    "    i=0\n",
    "    lines=[]\n",
    "    for x in r:\n",
    "        # json module doesn't work here - not valid JSON provided\n",
    "        #a=json.loads(x)\n",
    "        #break\n",
    "        lines.append(pd.DataFrame([json.loads(x)]))\n",
    "        i+=1\n",
    "        if i%10000==0:\n",
    "            print(i)\n",
    "    res=pd.concat(lines)"
   ]
  },
  {
   "cell_type": "code",
   "execution_count": 4,
   "metadata": {},
   "outputs": [],
   "source": [
    "res['business_review_count']=res['business'].map(lambda x: x['review_count'])"
   ]
  },
  {
   "cell_type": "code",
   "execution_count": 5,
   "metadata": {},
   "outputs": [],
   "source": [
    "res['attributes_count']=res['business'].map(lambda x: len(x['attributes']))"
   ]
  },
  {
   "cell_type": "code",
   "execution_count": 6,
   "metadata": {
    "scrolled": false
   },
   "outputs": [
    {
     "name": "stdout",
     "output_type": "stream",
     "text": [
      "0\n",
      "18\n"
     ]
    }
   ],
   "source": [
    "row=(dict(res[['attributes_count']].reset_index().iterrows())[0])\n",
    "for x in row:\n",
    "    print(x)"
   ]
  },
  {
   "cell_type": "code",
   "execution_count": 8,
   "metadata": {},
   "outputs": [
    {
     "data": {
      "text/plain": [
       "18"
      ]
     },
     "execution_count": 8,
     "metadata": {},
     "output_type": "execute_result"
    }
   ],
   "source": [
    "row[1]"
   ]
  },
  {
   "cell_type": "code",
   "execution_count": 9,
   "metadata": {
    "scrolled": false
   },
   "outputs": [],
   "source": [
    "res.index=pd.RangeIndex(len(res))"
   ]
  },
  {
   "cell_type": "code",
   "execution_count": 10,
   "metadata": {},
   "outputs": [
    {
     "data": {
      "text/plain": [
       "business                 211047\n",
       "cool                     211047\n",
       "date                     211047\n",
       "funny                    211047\n",
       "review_id                211047\n",
       "stars                    211047\n",
       "text                     211047\n",
       "useful                   211047\n",
       "user_id                  211047\n",
       "business_review_count    211047\n",
       "attributes_count         211047\n",
       "dtype: int64"
      ]
     },
     "execution_count": 10,
     "metadata": {},
     "output_type": "execute_result"
    }
   ],
   "source": [
    "res.count()"
   ]
  },
  {
   "cell_type": "code",
   "execution_count": 11,
   "metadata": {},
   "outputs": [
    {
     "data": {
      "text/html": [
       "<div>\n",
       "<style scoped>\n",
       "    .dataframe tbody tr th:only-of-type {\n",
       "        vertical-align: middle;\n",
       "    }\n",
       "\n",
       "    .dataframe tbody tr th {\n",
       "        vertical-align: top;\n",
       "    }\n",
       "\n",
       "    .dataframe thead th {\n",
       "        text-align: right;\n",
       "    }\n",
       "</style>\n",
       "<table border=\"1\" class=\"dataframe\">\n",
       "  <thead>\n",
       "    <tr style=\"text-align: right;\">\n",
       "      <th></th>\n",
       "      <th>business</th>\n",
       "      <th>date</th>\n",
       "      <th>funny</th>\n",
       "      <th>review_id</th>\n",
       "      <th>stars</th>\n",
       "      <th>text</th>\n",
       "      <th>useful</th>\n",
       "      <th>user_id</th>\n",
       "      <th>business_review_count</th>\n",
       "      <th>attributes_count</th>\n",
       "    </tr>\n",
       "    <tr>\n",
       "      <th>cool</th>\n",
       "      <th></th>\n",
       "      <th></th>\n",
       "      <th></th>\n",
       "      <th></th>\n",
       "      <th></th>\n",
       "      <th></th>\n",
       "      <th></th>\n",
       "      <th></th>\n",
       "      <th></th>\n",
       "      <th></th>\n",
       "    </tr>\n",
       "  </thead>\n",
       "  <tbody>\n",
       "    <tr>\n",
       "      <th>0</th>\n",
       "      <td>141132</td>\n",
       "      <td>141132</td>\n",
       "      <td>141132</td>\n",
       "      <td>141132</td>\n",
       "      <td>141132</td>\n",
       "      <td>141132</td>\n",
       "      <td>141132</td>\n",
       "      <td>141132</td>\n",
       "      <td>141132</td>\n",
       "      <td>141132</td>\n",
       "    </tr>\n",
       "    <tr>\n",
       "      <th>1</th>\n",
       "      <td>41087</td>\n",
       "      <td>41087</td>\n",
       "      <td>41087</td>\n",
       "      <td>41087</td>\n",
       "      <td>41087</td>\n",
       "      <td>41087</td>\n",
       "      <td>41087</td>\n",
       "      <td>41087</td>\n",
       "      <td>41087</td>\n",
       "      <td>41087</td>\n",
       "    </tr>\n",
       "    <tr>\n",
       "      <th>2</th>\n",
       "      <td>14141</td>\n",
       "      <td>14141</td>\n",
       "      <td>14141</td>\n",
       "      <td>14141</td>\n",
       "      <td>14141</td>\n",
       "      <td>14141</td>\n",
       "      <td>14141</td>\n",
       "      <td>14141</td>\n",
       "      <td>14141</td>\n",
       "      <td>14141</td>\n",
       "    </tr>\n",
       "    <tr>\n",
       "      <th>3</th>\n",
       "      <td>6100</td>\n",
       "      <td>6100</td>\n",
       "      <td>6100</td>\n",
       "      <td>6100</td>\n",
       "      <td>6100</td>\n",
       "      <td>6100</td>\n",
       "      <td>6100</td>\n",
       "      <td>6100</td>\n",
       "      <td>6100</td>\n",
       "      <td>6100</td>\n",
       "    </tr>\n",
       "    <tr>\n",
       "      <th>4</th>\n",
       "      <td>2956</td>\n",
       "      <td>2956</td>\n",
       "      <td>2956</td>\n",
       "      <td>2956</td>\n",
       "      <td>2956</td>\n",
       "      <td>2956</td>\n",
       "      <td>2956</td>\n",
       "      <td>2956</td>\n",
       "      <td>2956</td>\n",
       "      <td>2956</td>\n",
       "    </tr>\n",
       "    <tr>\n",
       "      <th>...</th>\n",
       "      <td>...</td>\n",
       "      <td>...</td>\n",
       "      <td>...</td>\n",
       "      <td>...</td>\n",
       "      <td>...</td>\n",
       "      <td>...</td>\n",
       "      <td>...</td>\n",
       "      <td>...</td>\n",
       "      <td>...</td>\n",
       "      <td>...</td>\n",
       "    </tr>\n",
       "    <tr>\n",
       "      <th>167</th>\n",
       "      <td>1</td>\n",
       "      <td>1</td>\n",
       "      <td>1</td>\n",
       "      <td>1</td>\n",
       "      <td>1</td>\n",
       "      <td>1</td>\n",
       "      <td>1</td>\n",
       "      <td>1</td>\n",
       "      <td>1</td>\n",
       "      <td>1</td>\n",
       "    </tr>\n",
       "    <tr>\n",
       "      <th>170</th>\n",
       "      <td>1</td>\n",
       "      <td>1</td>\n",
       "      <td>1</td>\n",
       "      <td>1</td>\n",
       "      <td>1</td>\n",
       "      <td>1</td>\n",
       "      <td>1</td>\n",
       "      <td>1</td>\n",
       "      <td>1</td>\n",
       "      <td>1</td>\n",
       "    </tr>\n",
       "    <tr>\n",
       "      <th>172</th>\n",
       "      <td>1</td>\n",
       "      <td>1</td>\n",
       "      <td>1</td>\n",
       "      <td>1</td>\n",
       "      <td>1</td>\n",
       "      <td>1</td>\n",
       "      <td>1</td>\n",
       "      <td>1</td>\n",
       "      <td>1</td>\n",
       "      <td>1</td>\n",
       "    </tr>\n",
       "    <tr>\n",
       "      <th>173</th>\n",
       "      <td>1</td>\n",
       "      <td>1</td>\n",
       "      <td>1</td>\n",
       "      <td>1</td>\n",
       "      <td>1</td>\n",
       "      <td>1</td>\n",
       "      <td>1</td>\n",
       "      <td>1</td>\n",
       "      <td>1</td>\n",
       "      <td>1</td>\n",
       "    </tr>\n",
       "    <tr>\n",
       "      <th>245</th>\n",
       "      <td>1</td>\n",
       "      <td>1</td>\n",
       "      <td>1</td>\n",
       "      <td>1</td>\n",
       "      <td>1</td>\n",
       "      <td>1</td>\n",
       "      <td>1</td>\n",
       "      <td>1</td>\n",
       "      <td>1</td>\n",
       "      <td>1</td>\n",
       "    </tr>\n",
       "  </tbody>\n",
       "</table>\n",
       "<p>65 rows × 10 columns</p>\n",
       "</div>"
      ],
      "text/plain": [
       "      business    date   funny  review_id   stars    text  useful  user_id  \\\n",
       "cool                                                                         \n",
       "0       141132  141132  141132     141132  141132  141132  141132   141132   \n",
       "1        41087   41087   41087      41087   41087   41087   41087    41087   \n",
       "2        14141   14141   14141      14141   14141   14141   14141    14141   \n",
       "3         6100    6100    6100       6100    6100    6100    6100     6100   \n",
       "4         2956    2956    2956       2956    2956    2956    2956     2956   \n",
       "...        ...     ...     ...        ...     ...     ...     ...      ...   \n",
       "167          1       1       1          1       1       1       1        1   \n",
       "170          1       1       1          1       1       1       1        1   \n",
       "172          1       1       1          1       1       1       1        1   \n",
       "173          1       1       1          1       1       1       1        1   \n",
       "245          1       1       1          1       1       1       1        1   \n",
       "\n",
       "      business_review_count  attributes_count  \n",
       "cool                                           \n",
       "0                    141132            141132  \n",
       "1                     41087             41087  \n",
       "2                     14141             14141  \n",
       "3                      6100              6100  \n",
       "4                      2956              2956  \n",
       "...                     ...               ...  \n",
       "167                       1                 1  \n",
       "170                       1                 1  \n",
       "172                       1                 1  \n",
       "173                       1                 1  \n",
       "245                       1                 1  \n",
       "\n",
       "[65 rows x 10 columns]"
      ]
     },
     "execution_count": 11,
     "metadata": {},
     "output_type": "execute_result"
    }
   ],
   "source": [
    "pd.set_option('display.max_rows', 10)\n",
    "res.groupby('cool').count()"
   ]
  },
  {
   "cell_type": "code",
   "execution_count": 12,
   "metadata": {},
   "outputs": [
    {
     "data": {
      "text/html": [
       "<div>\n",
       "<style scoped>\n",
       "    .dataframe tbody tr th:only-of-type {\n",
       "        vertical-align: middle;\n",
       "    }\n",
       "\n",
       "    .dataframe tbody tr th {\n",
       "        vertical-align: top;\n",
       "    }\n",
       "\n",
       "    .dataframe thead th {\n",
       "        text-align: right;\n",
       "    }\n",
       "</style>\n",
       "<table border=\"1\" class=\"dataframe\">\n",
       "  <thead>\n",
       "    <tr style=\"text-align: right;\">\n",
       "      <th></th>\n",
       "      <th>business</th>\n",
       "      <th>cool</th>\n",
       "      <th>date</th>\n",
       "      <th>funny</th>\n",
       "      <th>review_id</th>\n",
       "      <th>stars</th>\n",
       "      <th>text</th>\n",
       "      <th>user_id</th>\n",
       "      <th>business_review_count</th>\n",
       "      <th>attributes_count</th>\n",
       "    </tr>\n",
       "    <tr>\n",
       "      <th>useful</th>\n",
       "      <th></th>\n",
       "      <th></th>\n",
       "      <th></th>\n",
       "      <th></th>\n",
       "      <th></th>\n",
       "      <th></th>\n",
       "      <th></th>\n",
       "      <th></th>\n",
       "      <th></th>\n",
       "      <th></th>\n",
       "    </tr>\n",
       "  </thead>\n",
       "  <tbody>\n",
       "    <tr>\n",
       "      <th>0</th>\n",
       "      <td>81147</td>\n",
       "      <td>81147</td>\n",
       "      <td>81147</td>\n",
       "      <td>81147</td>\n",
       "      <td>81147</td>\n",
       "      <td>81147</td>\n",
       "      <td>81147</td>\n",
       "      <td>81147</td>\n",
       "      <td>81147</td>\n",
       "      <td>81147</td>\n",
       "    </tr>\n",
       "    <tr>\n",
       "      <th>1</th>\n",
       "      <td>51650</td>\n",
       "      <td>51650</td>\n",
       "      <td>51650</td>\n",
       "      <td>51650</td>\n",
       "      <td>51650</td>\n",
       "      <td>51650</td>\n",
       "      <td>51650</td>\n",
       "      <td>51650</td>\n",
       "      <td>51650</td>\n",
       "      <td>51650</td>\n",
       "    </tr>\n",
       "    <tr>\n",
       "      <th>2</th>\n",
       "      <td>29142</td>\n",
       "      <td>29142</td>\n",
       "      <td>29142</td>\n",
       "      <td>29142</td>\n",
       "      <td>29142</td>\n",
       "      <td>29142</td>\n",
       "      <td>29142</td>\n",
       "      <td>29142</td>\n",
       "      <td>29142</td>\n",
       "      <td>29142</td>\n",
       "    </tr>\n",
       "    <tr>\n",
       "      <th>3</th>\n",
       "      <td>16510</td>\n",
       "      <td>16510</td>\n",
       "      <td>16510</td>\n",
       "      <td>16510</td>\n",
       "      <td>16510</td>\n",
       "      <td>16510</td>\n",
       "      <td>16510</td>\n",
       "      <td>16510</td>\n",
       "      <td>16510</td>\n",
       "      <td>16510</td>\n",
       "    </tr>\n",
       "    <tr>\n",
       "      <th>4</th>\n",
       "      <td>9946</td>\n",
       "      <td>9946</td>\n",
       "      <td>9946</td>\n",
       "      <td>9946</td>\n",
       "      <td>9946</td>\n",
       "      <td>9946</td>\n",
       "      <td>9946</td>\n",
       "      <td>9946</td>\n",
       "      <td>9946</td>\n",
       "      <td>9946</td>\n",
       "    </tr>\n",
       "    <tr>\n",
       "      <th>...</th>\n",
       "      <td>...</td>\n",
       "      <td>...</td>\n",
       "      <td>...</td>\n",
       "      <td>...</td>\n",
       "      <td>...</td>\n",
       "      <td>...</td>\n",
       "      <td>...</td>\n",
       "      <td>...</td>\n",
       "      <td>...</td>\n",
       "      <td>...</td>\n",
       "    </tr>\n",
       "    <tr>\n",
       "      <th>168</th>\n",
       "      <td>1</td>\n",
       "      <td>1</td>\n",
       "      <td>1</td>\n",
       "      <td>1</td>\n",
       "      <td>1</td>\n",
       "      <td>1</td>\n",
       "      <td>1</td>\n",
       "      <td>1</td>\n",
       "      <td>1</td>\n",
       "      <td>1</td>\n",
       "    </tr>\n",
       "    <tr>\n",
       "      <th>170</th>\n",
       "      <td>1</td>\n",
       "      <td>1</td>\n",
       "      <td>1</td>\n",
       "      <td>1</td>\n",
       "      <td>1</td>\n",
       "      <td>1</td>\n",
       "      <td>1</td>\n",
       "      <td>1</td>\n",
       "      <td>1</td>\n",
       "      <td>1</td>\n",
       "    </tr>\n",
       "    <tr>\n",
       "      <th>173</th>\n",
       "      <td>1</td>\n",
       "      <td>1</td>\n",
       "      <td>1</td>\n",
       "      <td>1</td>\n",
       "      <td>1</td>\n",
       "      <td>1</td>\n",
       "      <td>1</td>\n",
       "      <td>1</td>\n",
       "      <td>1</td>\n",
       "      <td>1</td>\n",
       "    </tr>\n",
       "    <tr>\n",
       "      <th>175</th>\n",
       "      <td>1</td>\n",
       "      <td>1</td>\n",
       "      <td>1</td>\n",
       "      <td>1</td>\n",
       "      <td>1</td>\n",
       "      <td>1</td>\n",
       "      <td>1</td>\n",
       "      <td>1</td>\n",
       "      <td>1</td>\n",
       "      <td>1</td>\n",
       "    </tr>\n",
       "    <tr>\n",
       "      <th>2133</th>\n",
       "      <td>1</td>\n",
       "      <td>1</td>\n",
       "      <td>1</td>\n",
       "      <td>1</td>\n",
       "      <td>1</td>\n",
       "      <td>1</td>\n",
       "      <td>1</td>\n",
       "      <td>1</td>\n",
       "      <td>1</td>\n",
       "      <td>1</td>\n",
       "    </tr>\n",
       "  </tbody>\n",
       "</table>\n",
       "<p>91 rows × 10 columns</p>\n",
       "</div>"
      ],
      "text/plain": [
       "        business   cool   date  funny  review_id  stars   text  user_id  \\\n",
       "useful                                                                    \n",
       "0          81147  81147  81147  81147      81147  81147  81147    81147   \n",
       "1          51650  51650  51650  51650      51650  51650  51650    51650   \n",
       "2          29142  29142  29142  29142      29142  29142  29142    29142   \n",
       "3          16510  16510  16510  16510      16510  16510  16510    16510   \n",
       "4           9946   9946   9946   9946       9946   9946   9946     9946   \n",
       "...          ...    ...    ...    ...        ...    ...    ...      ...   \n",
       "168            1      1      1      1          1      1      1        1   \n",
       "170            1      1      1      1          1      1      1        1   \n",
       "173            1      1      1      1          1      1      1        1   \n",
       "175            1      1      1      1          1      1      1        1   \n",
       "2133           1      1      1      1          1      1      1        1   \n",
       "\n",
       "        business_review_count  attributes_count  \n",
       "useful                                           \n",
       "0                       81147             81147  \n",
       "1                       51650             51650  \n",
       "2                       29142             29142  \n",
       "3                       16510             16510  \n",
       "4                        9946              9946  \n",
       "...                       ...               ...  \n",
       "168                         1                 1  \n",
       "170                         1                 1  \n",
       "173                         1                 1  \n",
       "175                         1                 1  \n",
       "2133                        1                 1  \n",
       "\n",
       "[91 rows x 10 columns]"
      ]
     },
     "execution_count": 12,
     "metadata": {},
     "output_type": "execute_result"
    }
   ],
   "source": [
    "res.groupby('useful').count()"
   ]
  },
  {
   "cell_type": "code",
   "execution_count": 13,
   "metadata": {},
   "outputs": [
    {
     "data": {
      "text/html": [
       "<div>\n",
       "<style scoped>\n",
       "    .dataframe tbody tr th:only-of-type {\n",
       "        vertical-align: middle;\n",
       "    }\n",
       "\n",
       "    .dataframe tbody tr th {\n",
       "        vertical-align: top;\n",
       "    }\n",
       "\n",
       "    .dataframe thead th {\n",
       "        text-align: right;\n",
       "    }\n",
       "</style>\n",
       "<table border=\"1\" class=\"dataframe\">\n",
       "  <thead>\n",
       "    <tr style=\"text-align: right;\">\n",
       "      <th></th>\n",
       "      <th>business</th>\n",
       "      <th>cool</th>\n",
       "      <th>date</th>\n",
       "      <th>review_id</th>\n",
       "      <th>stars</th>\n",
       "      <th>text</th>\n",
       "      <th>useful</th>\n",
       "      <th>user_id</th>\n",
       "      <th>business_review_count</th>\n",
       "      <th>attributes_count</th>\n",
       "    </tr>\n",
       "    <tr>\n",
       "      <th>funny</th>\n",
       "      <th></th>\n",
       "      <th></th>\n",
       "      <th></th>\n",
       "      <th></th>\n",
       "      <th></th>\n",
       "      <th></th>\n",
       "      <th></th>\n",
       "      <th></th>\n",
       "      <th></th>\n",
       "      <th></th>\n",
       "    </tr>\n",
       "  </thead>\n",
       "  <tbody>\n",
       "    <tr>\n",
       "      <th>0</th>\n",
       "      <td>150293</td>\n",
       "      <td>150293</td>\n",
       "      <td>150293</td>\n",
       "      <td>150293</td>\n",
       "      <td>150293</td>\n",
       "      <td>150293</td>\n",
       "      <td>150293</td>\n",
       "      <td>150293</td>\n",
       "      <td>150293</td>\n",
       "      <td>150293</td>\n",
       "    </tr>\n",
       "    <tr>\n",
       "      <th>1</th>\n",
       "      <td>33785</td>\n",
       "      <td>33785</td>\n",
       "      <td>33785</td>\n",
       "      <td>33785</td>\n",
       "      <td>33785</td>\n",
       "      <td>33785</td>\n",
       "      <td>33785</td>\n",
       "      <td>33785</td>\n",
       "      <td>33785</td>\n",
       "      <td>33785</td>\n",
       "    </tr>\n",
       "    <tr>\n",
       "      <th>2</th>\n",
       "      <td>11992</td>\n",
       "      <td>11992</td>\n",
       "      <td>11992</td>\n",
       "      <td>11992</td>\n",
       "      <td>11992</td>\n",
       "      <td>11992</td>\n",
       "      <td>11992</td>\n",
       "      <td>11992</td>\n",
       "      <td>11992</td>\n",
       "      <td>11992</td>\n",
       "    </tr>\n",
       "    <tr>\n",
       "      <th>3</th>\n",
       "      <td>5559</td>\n",
       "      <td>5559</td>\n",
       "      <td>5559</td>\n",
       "      <td>5559</td>\n",
       "      <td>5559</td>\n",
       "      <td>5559</td>\n",
       "      <td>5559</td>\n",
       "      <td>5559</td>\n",
       "      <td>5559</td>\n",
       "      <td>5559</td>\n",
       "    </tr>\n",
       "    <tr>\n",
       "      <th>4</th>\n",
       "      <td>2993</td>\n",
       "      <td>2993</td>\n",
       "      <td>2993</td>\n",
       "      <td>2993</td>\n",
       "      <td>2993</td>\n",
       "      <td>2993</td>\n",
       "      <td>2993</td>\n",
       "      <td>2993</td>\n",
       "      <td>2993</td>\n",
       "      <td>2993</td>\n",
       "    </tr>\n",
       "    <tr>\n",
       "      <th>...</th>\n",
       "      <td>...</td>\n",
       "      <td>...</td>\n",
       "      <td>...</td>\n",
       "      <td>...</td>\n",
       "      <td>...</td>\n",
       "      <td>...</td>\n",
       "      <td>...</td>\n",
       "      <td>...</td>\n",
       "      <td>...</td>\n",
       "      <td>...</td>\n",
       "    </tr>\n",
       "    <tr>\n",
       "      <th>260</th>\n",
       "      <td>1</td>\n",
       "      <td>1</td>\n",
       "      <td>1</td>\n",
       "      <td>1</td>\n",
       "      <td>1</td>\n",
       "      <td>1</td>\n",
       "      <td>1</td>\n",
       "      <td>1</td>\n",
       "      <td>1</td>\n",
       "      <td>1</td>\n",
       "    </tr>\n",
       "    <tr>\n",
       "      <th>414</th>\n",
       "      <td>1</td>\n",
       "      <td>1</td>\n",
       "      <td>1</td>\n",
       "      <td>1</td>\n",
       "      <td>1</td>\n",
       "      <td>1</td>\n",
       "      <td>1</td>\n",
       "      <td>1</td>\n",
       "      <td>1</td>\n",
       "      <td>1</td>\n",
       "    </tr>\n",
       "    <tr>\n",
       "      <th>487</th>\n",
       "      <td>1</td>\n",
       "      <td>1</td>\n",
       "      <td>1</td>\n",
       "      <td>1</td>\n",
       "      <td>1</td>\n",
       "      <td>1</td>\n",
       "      <td>1</td>\n",
       "      <td>1</td>\n",
       "      <td>1</td>\n",
       "      <td>1</td>\n",
       "    </tr>\n",
       "    <tr>\n",
       "      <th>870</th>\n",
       "      <td>1</td>\n",
       "      <td>1</td>\n",
       "      <td>1</td>\n",
       "      <td>1</td>\n",
       "      <td>1</td>\n",
       "      <td>1</td>\n",
       "      <td>1</td>\n",
       "      <td>1</td>\n",
       "      <td>1</td>\n",
       "      <td>1</td>\n",
       "    </tr>\n",
       "    <tr>\n",
       "      <th>932</th>\n",
       "      <td>1</td>\n",
       "      <td>1</td>\n",
       "      <td>1</td>\n",
       "      <td>1</td>\n",
       "      <td>1</td>\n",
       "      <td>1</td>\n",
       "      <td>1</td>\n",
       "      <td>1</td>\n",
       "      <td>1</td>\n",
       "      <td>1</td>\n",
       "    </tr>\n",
       "  </tbody>\n",
       "</table>\n",
       "<p>79 rows × 10 columns</p>\n",
       "</div>"
      ],
      "text/plain": [
       "       business    cool    date  review_id   stars    text  useful  user_id  \\\n",
       "funny                                                                         \n",
       "0        150293  150293  150293     150293  150293  150293  150293   150293   \n",
       "1         33785   33785   33785      33785   33785   33785   33785    33785   \n",
       "2         11992   11992   11992      11992   11992   11992   11992    11992   \n",
       "3          5559    5559    5559       5559    5559    5559    5559     5559   \n",
       "4          2993    2993    2993       2993    2993    2993    2993     2993   \n",
       "...         ...     ...     ...        ...     ...     ...     ...      ...   \n",
       "260           1       1       1          1       1       1       1        1   \n",
       "414           1       1       1          1       1       1       1        1   \n",
       "487           1       1       1          1       1       1       1        1   \n",
       "870           1       1       1          1       1       1       1        1   \n",
       "932           1       1       1          1       1       1       1        1   \n",
       "\n",
       "       business_review_count  attributes_count  \n",
       "funny                                           \n",
       "0                     150293            150293  \n",
       "1                      33785             33785  \n",
       "2                      11992             11992  \n",
       "3                       5559              5559  \n",
       "4                       2993              2993  \n",
       "...                      ...               ...  \n",
       "260                        1                 1  \n",
       "414                        1                 1  \n",
       "487                        1                 1  \n",
       "870                        1                 1  \n",
       "932                        1                 1  \n",
       "\n",
       "[79 rows x 10 columns]"
      ]
     },
     "execution_count": 13,
     "metadata": {},
     "output_type": "execute_result"
    }
   ],
   "source": [
    "res.groupby('funny').count()"
   ]
  },
  {
   "cell_type": "code",
   "execution_count": 14,
   "metadata": {},
   "outputs": [
    {
     "data": {
      "text/plain": [
       "'New restaurant for Vegas.   Food was fresh,a lot of it and delicious.  Staff was friendly and accomendating.   Had one each of the chicken and beef tacos.  Meat was tasty and tender.  For those nonmexican lovers also has falafel, schnitzel, grilled chicken.  Will be back often.'"
      ]
     },
     "execution_count": 14,
     "metadata": {},
     "output_type": "execute_result"
    }
   ],
   "source": [
    "res['text'].loc[2]"
   ]
  },
  {
   "cell_type": "code",
   "execution_count": 15,
   "metadata": {
    "scrolled": false
   },
   "outputs": [],
   "source": [
    "# number of words\n",
    "pd.set_option('display.max_rows', 800)\n",
    "#res.groupby(lambda a: len(res['text'].loc[a].split(' '))).count()"
   ]
  },
  {
   "cell_type": "code",
   "execution_count": 16,
   "metadata": {
    "scrolled": false
   },
   "outputs": [
    {
     "data": {
      "text/plain": [
       "business                 140109\n",
       "cool                     140109\n",
       "date                     140109\n",
       "funny                    140109\n",
       "review_id                140109\n",
       "stars                    140109\n",
       "text                     140109\n",
       "useful                   140109\n",
       "user_id                  140109\n",
       "business_review_count    140109\n",
       "attributes_count         140109\n",
       "dtype: int64"
      ]
     },
     "execution_count": 16,
     "metadata": {},
     "output_type": "execute_result"
    }
   ],
   "source": [
    "# review_counts\n",
    "#res.groupby('business_review_count').count()\n",
    "res[res['business_review_count']>50].count()"
   ]
  },
  {
   "cell_type": "code",
   "execution_count": 17,
   "metadata": {},
   "outputs": [
    {
     "data": {
      "text/plain": [
       "business                 135074\n",
       "cool                     135074\n",
       "date                     135074\n",
       "funny                    135074\n",
       "review_id                135074\n",
       "stars                    135074\n",
       "text                     135074\n",
       "useful                   135074\n",
       "user_id                  135074\n",
       "business_review_count    135074\n",
       "attributes_count         135074\n",
       "dtype: int64"
      ]
     },
     "execution_count": 17,
     "metadata": {},
     "output_type": "execute_result"
    }
   ],
   "source": [
    "res.groupby('attributes_count').count()\n",
    "res[res['attributes_count']>10].count()"
   ]
  },
  {
   "cell_type": "code",
   "execution_count": 18,
   "metadata": {},
   "outputs": [],
   "source": [
    "pd.set_option('display.max_rows', 0)"
   ]
  },
  {
   "cell_type": "code",
   "execution_count": 19,
   "metadata": {},
   "outputs": [
    {
     "data": {
      "text/plain": [
       "5.0"
      ]
     },
     "execution_count": 19,
     "metadata": {},
     "output_type": "execute_result"
    }
   ],
   "source": [
    "res['business'].loc[2]['stars']"
   ]
  },
  {
   "cell_type": "code",
   "execution_count": 20,
   "metadata": {},
   "outputs": [
    {
     "name": "stdout",
     "output_type": "stream",
     "text": [
      "140109\n"
     ]
    }
   ],
   "source": [
    "n=res[res['business_review_count']>50].count()[0]\n",
    "print(n)\n",
    "#print(type(n))\n",
    "#rs=res[res['business_review_count']>50].sample(n=n).copy()\n",
    "#pos=rs[rs[like_type]>2].sample(n=40000).copy()"
   ]
  },
  {
   "cell_type": "code",
   "execution_count": 21,
   "metadata": {},
   "outputs": [],
   "source": [
    "#res[lambda r: True].sample(n=1) #??\n",
    "#res[print(res['business'])]#\n",
    "#res[print(type(res['business']))]\n",
    "#res.apply()\n",
    "#res[res['business'].get('business_id')=='aAbL_y05zPWaIrT1QtDWxw'].sample(n=1)"
   ]
  },
  {
   "cell_type": "code",
   "execution_count": 22,
   "metadata": {},
   "outputs": [],
   "source": [
    "def get_reviews(like_type):\n",
    "    n=res[res['business_review_count']>50].count()[0]\n",
    "    #print(n)\n",
    "    #print(type(n))\n",
    "    tmp=res[res['business_review_count']>50].sample(n=n).copy()\n",
    "    n=tmp[tmp['attributes_count']>10].count()[0]\n",
    "    rs=tmp[tmp['attributes_count']>10].sample(n=n).copy()\n",
    "\n",
    "    pos=rs[rs[like_type]>2].sample(n=10000).copy()\n",
    "    pos['classification']=like_type\n",
    "    neg=rs[rs[like_type]==0].sample(n=10000).copy()\n",
    "    neg['classification']='not-'+like_type\n",
    "    all=pd.concat([pos, neg])\n",
    "    all=all[['text', like_type, 'classification', 'stars', 'business']].reset_index(drop=True)\n",
    "    return all"
   ]
  },
  {
   "cell_type": "markdown",
   "metadata": {},
   "source": [
    "# Classification"
   ]
  },
  {
   "cell_type": "code",
   "execution_count": 23,
   "metadata": {
    "scrolled": false
   },
   "outputs": [],
   "source": [
    "import nltk\n",
    "toker=nltk.tokenize.TweetTokenizer()"
   ]
  },
  {
   "cell_type": "code",
   "execution_count": 24,
   "metadata": {},
   "outputs": [],
   "source": [
    "like_type='useful'\n",
    "#like_type='funny'\n",
    "#like_type='cool'"
   ]
  },
  {
   "cell_type": "code",
   "execution_count": 25,
   "metadata": {},
   "outputs": [],
   "source": [
    "reviews=get_reviews(like_type)"
   ]
  },
  {
   "cell_type": "code",
   "execution_count": 26,
   "metadata": {},
   "outputs": [
    {
     "name": "stdout",
     "output_type": "stream",
     "text": [
      "total number of words: 3512101\n",
      "unique words: 52918\n",
      "words present only once: 26007\n"
     ]
    },
    {
     "data": {
      "text/plain": [
       "<Figure size 640x480 with 1 Axes>"
      ]
     },
     "metadata": {},
     "output_type": "display_data"
    }
   ],
   "source": [
    "texts_tokenized = (toker.tokenize(row.text) for index, row in reviews.iterrows())\n",
    "all_words = nltk.FreqDist(w.lower() for tokens in texts_tokenized for w in tokens)\n",
    "\n",
    "print('total number of words:', sum(all_words.values()))\n",
    "print('unique words:', len(all_words))\n",
    "print('words present only once:', sum(c for c in all_words.values() if c == 1))\n",
    "\n",
    "all_words.plot(30)"
   ]
  },
  {
   "cell_type": "code",
   "execution_count": 27,
   "metadata": {},
   "outputs": [
    {
     "name": "stdout",
     "output_type": "stream",
     "text": [
      "feature words: 26494\n"
     ]
    },
    {
     "data": {
      "image/png": "[encoded data removed]",
      "text/plain": [
       "<Figure size 432x288 with 1 Axes>"
      ]
     },
     "metadata": {},
     "output_type": "display_data"
    }
   ],
   "source": [
    "words = all_words.copy()\n",
    "for w, count in all_words.items():\n",
    "    if count > 1000 or count == 1:\n",
    "        del words[w]\n",
    "\n",
    "print('feature words:', len(words))\n",
    "words.plot(40)"
   ]
  },
  {
   "cell_type": "code",
   "execution_count": 35,
   "metadata": {},
   "outputs": [],
   "source": [
    "word_features = frozenset(words.keys())\n",
    "\n",
    "def features(row):\n",
    "    text=row.text\n",
    "    txt_words = set(toker.tokenize(text.lower()))\n",
    "    features = {}\n",
    "    for w in txt_words & word_features:\n",
    "        #features['contains({})'.format(w)] = 'Yes' # beze slov je to lepsi\n",
    "        pass\n",
    "    \n",
    "    text=toker.tokenize(text.lower())\n",
    "    for w,w2 in zip(text[:-1], text[1:]):\n",
    "        if w in word_features and w2 in word_features:\n",
    "                features['contains({}&&&{})'.format(w,w2)] = 'Yes'\n",
    "                pass\n",
    "            \n",
    "    #features['contains(@@stars{})'.format(row.stars)] = 'Yes'\n",
    "    features['@@@stars'] = row.stars\n",
    "    features['@@@bus_stars']=row['business']['stars']\n",
    "    #features['@@@review_count']= \"A lot\" if row['business']['review_count']  else \"A few\"\n",
    "    l=len(row['text'].split(' '))\n",
    "    features['@@@review_length']= \"short\" if l<50 else \"middle\" if l<150 else \"long\"\n",
    "    \n",
    "    return features"
   ]
  },
  {
   "cell_type": "code",
   "execution_count": null,
   "metadata": {
    "scrolled": false
   },
   "outputs": [],
   "source": [
    "# generate tuples: (features_dict, sentiment)\n",
    "feature_sets = [(features(row), row.classification) for index, row in reviews.iterrows()]"
   ]
  },
  {
   "cell_type": "code",
   "execution_count": null,
   "metadata": {},
   "outputs": [],
   "source": [
    "feature_sets[0]"
   ]
  },
  {
   "cell_type": "markdown",
   "metadata": {},
   "source": [
    "# Model training"
   ]
  },
  {
   "cell_type": "code",
   "execution_count": null,
   "metadata": {},
   "outputs": [],
   "source": [
    "    import random\n",
    "    random.shuffle(feature_sets)\n",
    "    half=int(len(feature_sets)/2)\n",
    "    train_set, test_set = feature_sets[:half], feature_sets[half:]\n",
    "    half"
   ]
  },
  {
   "cell_type": "code",
   "execution_count": null,
   "metadata": {},
   "outputs": [],
   "source": [
    "classifier = nltk.NaiveBayesClassifier.train(train_set)"
   ]
  },
  {
   "cell_type": "code",
   "execution_count": null,
   "metadata": {},
   "outputs": [],
   "source": [
    "print(nltk.classify.accuracy(classifier, test_set))"
   ]
  },
  {
   "cell_type": "code",
   "execution_count": null,
   "metadata": {},
   "outputs": [],
   "source": [
    "classifier.show_most_informative_features(30)"
   ]
  },
  {
   "cell_type": "code",
   "execution_count": null,
   "metadata": {},
   "outputs": [],
   "source": []
  },
  {
   "cell_type": "code",
   "execution_count": null,
   "metadata": {},
   "outputs": [],
   "source": []
  },
  {
   "cell_type": "code",
   "execution_count": null,
   "metadata": {},
   "outputs": [],
   "source": []
  },
  {
   "cell_type": "code",
   "execution_count": null,
   "metadata": {},
   "outputs": [],
   "source": []
  },
  {
   "cell_type": "code",
   "execution_count": null,
   "metadata": {},
   "outputs": [],
   "source": []
  },
  {
   "cell_type": "code",
   "execution_count": null,
   "metadata": {},
   "outputs": [],
   "source": []
  },
  {
   "cell_type": "code",
   "execution_count": null,
   "metadata": {},
   "outputs": [],
   "source": []
  },
  {
   "cell_type": "code",
   "execution_count": null,
   "metadata": {},
   "outputs": [],
   "source": []
  },
  {
   "cell_type": "code",
   "execution_count": null,
   "metadata": {},
   "outputs": [],
   "source": []
  },
  {
   "cell_type": "code",
   "execution_count": 23,
   "metadata": {},
   "outputs": [],
   "source": [
    "# import pickle\n",
    "\n",
    "#with open('sentiment_classifier.pickle', 'wb') as f:\n",
    " #   pickle.dump(classifier, f)"
   ]
  },
  {
   "cell_type": "code",
   "execution_count": 24,
   "metadata": {},
   "outputs": [],
   "source": [
    "#train('useful')"
   ]
  },
  {
   "cell_type": "code",
   "execution_count": null,
   "metadata": {},
   "outputs": [],
   "source": []
  },
  {
   "cell_type": "code",
   "execution_count": 25,
   "metadata": {},
   "outputs": [],
   "source": [
    "classifier = nltk.DecisionTreeClassifier.train(train_set)"
   ]
  },
  {
   "cell_type": "code",
   "execution_count": 26,
   "metadata": {},
   "outputs": [
    {
     "name": "stdout",
     "output_type": "stream",
     "text": [
      "0.532\n"
     ]
    }
   ],
   "source": [
    "print(nltk.classify.accuracy(classifier, test_set))"
   ]
  },
  {
   "cell_type": "code",
   "execution_count": 27,
   "metadata": {},
   "outputs": [
    {
     "ename": "TypeError",
     "evalue": "'<' not supported between instances of 'str' and 'NoneType'",
     "output_type": "error",
     "traceback": [
      "\u001b[0;31m---------------------------------------------------------------------------\u001b[0m",
      "\u001b[0;31mTypeError\u001b[0m                                 Traceback (most recent call last)",
      "\u001b[0;32m<ipython-input-27-bea9c44c6a73>\u001b[0m in \u001b[0;36m<module>\u001b[0;34m()\u001b[0m\n\u001b[0;32m----> 1\u001b[0;31m \u001b[0mclassifier\u001b[0m\u001b[0;34m.\u001b[0m\u001b[0mpseudocode\u001b[0m\u001b[0;34m(\u001b[0m\u001b[0;34m)\u001b[0m \u001b[0;31m#tohle nefunguje --- proc???\u001b[0m\u001b[0;34m\u001b[0m\u001b[0m\n\u001b[0m",
      "\u001b[0;32m~/Dokumenty/mff/NPRG045/lib/python3.6/site-packages/nltk/classify/decisiontree.py\u001b[0m in \u001b[0;36mpseudocode\u001b[0;34m(self, prefix, depth)\u001b[0m\n\u001b[1;32m    109\u001b[0m             \u001b[0ms\u001b[0m \u001b[0;34m+=\u001b[0m \u001b[0;34m'{0}if {1} == {2!r}: '\u001b[0m\u001b[0;34m.\u001b[0m\u001b[0mformat\u001b[0m\u001b[0;34m(\u001b[0m\u001b[0mprefix\u001b[0m\u001b[0;34m,\u001b[0m \u001b[0mself\u001b[0m\u001b[0;34m.\u001b[0m\u001b[0m_fname\u001b[0m\u001b[0;34m,\u001b[0m \u001b[0mfval\u001b[0m\u001b[0;34m)\u001b[0m\u001b[0;34m\u001b[0m\u001b[0m\n\u001b[1;32m    110\u001b[0m             \u001b[0;32mif\u001b[0m \u001b[0mresult\u001b[0m\u001b[0;34m.\u001b[0m\u001b[0m_fname\u001b[0m \u001b[0;32mis\u001b[0m \u001b[0;32mnot\u001b[0m \u001b[0;32mNone\u001b[0m \u001b[0;32mand\u001b[0m \u001b[0mdepth\u001b[0m\u001b[0;34m>\u001b[0m\u001b[0;36m1\u001b[0m\u001b[0;34m:\u001b[0m\u001b[0;34m\u001b[0m\u001b[0m\n\u001b[0;32m--> 111\u001b[0;31m                 \u001b[0ms\u001b[0m \u001b[0;34m+=\u001b[0m \u001b[0;34m'\\n'\u001b[0m\u001b[0;34m+\u001b[0m\u001b[0mresult\u001b[0m\u001b[0;34m.\u001b[0m\u001b[0mpseudocode\u001b[0m\u001b[0;34m(\u001b[0m\u001b[0mprefix\u001b[0m\u001b[0;34m+\u001b[0m\u001b[0;34m'  '\u001b[0m\u001b[0;34m,\u001b[0m \u001b[0mdepth\u001b[0m\u001b[0;34m-\u001b[0m\u001b[0;36m1\u001b[0m\u001b[0;34m)\u001b[0m\u001b[0;34m\u001b[0m\u001b[0m\n\u001b[0m\u001b[1;32m    112\u001b[0m             \u001b[0;32melse\u001b[0m\u001b[0;34m:\u001b[0m\u001b[0;34m\u001b[0m\u001b[0m\n\u001b[1;32m    113\u001b[0m                 \u001b[0ms\u001b[0m \u001b[0;34m+=\u001b[0m \u001b[0;34m'return {0!r}\\n'\u001b[0m\u001b[0;34m.\u001b[0m\u001b[0mformat\u001b[0m\u001b[0;34m(\u001b[0m\u001b[0mresult\u001b[0m\u001b[0;34m.\u001b[0m\u001b[0m_label\u001b[0m\u001b[0;34m)\u001b[0m\u001b[0;34m\u001b[0m\u001b[0m\n",
      "\u001b[0;32m~/Dokumenty/mff/NPRG045/lib/python3.6/site-packages/nltk/classify/decisiontree.py\u001b[0m in \u001b[0;36mpseudocode\u001b[0;34m(self, prefix, depth)\u001b[0m\n\u001b[1;32m    106\u001b[0m             \u001b[0;32mreturn\u001b[0m \u001b[0;34m\"{0}return {1!r}\\n\"\u001b[0m\u001b[0;34m.\u001b[0m\u001b[0mformat\u001b[0m\u001b[0;34m(\u001b[0m\u001b[0mprefix\u001b[0m\u001b[0;34m,\u001b[0m \u001b[0mself\u001b[0m\u001b[0;34m.\u001b[0m\u001b[0m_label\u001b[0m\u001b[0;34m)\u001b[0m\u001b[0;34m\u001b[0m\u001b[0m\n\u001b[1;32m    107\u001b[0m         \u001b[0ms\u001b[0m \u001b[0;34m=\u001b[0m \u001b[0;34m''\u001b[0m\u001b[0;34m\u001b[0m\u001b[0m\n\u001b[0;32m--> 108\u001b[0;31m         \u001b[0;32mfor\u001b[0m \u001b[0;34m(\u001b[0m\u001b[0mfval\u001b[0m\u001b[0;34m,\u001b[0m \u001b[0mresult\u001b[0m\u001b[0;34m)\u001b[0m \u001b[0;32min\u001b[0m \u001b[0msorted\u001b[0m\u001b[0;34m(\u001b[0m\u001b[0mself\u001b[0m\u001b[0;34m.\u001b[0m\u001b[0m_decisions\u001b[0m\u001b[0;34m.\u001b[0m\u001b[0mitems\u001b[0m\u001b[0;34m(\u001b[0m\u001b[0;34m)\u001b[0m\u001b[0;34m)\u001b[0m\u001b[0;34m:\u001b[0m\u001b[0;34m\u001b[0m\u001b[0m\n\u001b[0m\u001b[1;32m    109\u001b[0m             \u001b[0ms\u001b[0m \u001b[0;34m+=\u001b[0m \u001b[0;34m'{0}if {1} == {2!r}: '\u001b[0m\u001b[0;34m.\u001b[0m\u001b[0mformat\u001b[0m\u001b[0;34m(\u001b[0m\u001b[0mprefix\u001b[0m\u001b[0;34m,\u001b[0m \u001b[0mself\u001b[0m\u001b[0;34m.\u001b[0m\u001b[0m_fname\u001b[0m\u001b[0;34m,\u001b[0m \u001b[0mfval\u001b[0m\u001b[0;34m)\u001b[0m\u001b[0;34m\u001b[0m\u001b[0m\n\u001b[1;32m    110\u001b[0m             \u001b[0;32mif\u001b[0m \u001b[0mresult\u001b[0m\u001b[0;34m.\u001b[0m\u001b[0m_fname\u001b[0m \u001b[0;32mis\u001b[0m \u001b[0;32mnot\u001b[0m \u001b[0;32mNone\u001b[0m \u001b[0;32mand\u001b[0m \u001b[0mdepth\u001b[0m\u001b[0;34m>\u001b[0m\u001b[0;36m1\u001b[0m\u001b[0;34m:\u001b[0m\u001b[0;34m\u001b[0m\u001b[0m\n",
      "\u001b[0;31mTypeError\u001b[0m: '<' not supported between instances of 'str' and 'NoneType'"
     ]
    }
   ],
   "source": [
    "classifier.pseudocode() #tohle nefunguje --- proc???"
   ]
  },
  {
   "cell_type": "code",
   "execution_count": null,
   "metadata": {},
   "outputs": [],
   "source": []
  }
 ],
 "metadata": {
  "kernelspec": {
   "display_name": "Python 3",
   "language": "python",
   "name": "python3"
  },
  "language_info": {
   "codemirror_mode": {
    "name": "ipython",
    "version": 3
   },
   "file_extension": ".py",
   "mimetype": "text/x-python",
   "name": "python",
   "nbconvert_exporter": "python",
   "pygments_lexer": "ipython3",
   "version": "3.6.5"
  }
 },
 "nbformat": 4,
 "nbformat_minor": 2
}
