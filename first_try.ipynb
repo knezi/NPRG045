{
 "cells": [
  {
   "cell_type": "markdown",
   "metadata": {},
   "source": [
    "# Prep set"
   ]
  },
  {
   "cell_type": "code",
   "execution_count": 1,
   "metadata": {},
   "outputs": [],
   "source": [
    "import pandas as pd\n",
    "import ast\n",
    "import json\n",
    "import subprocess as sb\n",
    "import numpy as np"
   ]
  },
  {
   "cell_type": "code",
   "execution_count": 2,
   "metadata": {},
   "outputs": [
    {
     "name": "stdout",
     "output_type": "stream",
     "text": [
      "10000\n",
      "20000\n",
      "30000\n",
      "40000\n",
      "50000\n",
      "60000\n",
      "70000\n",
      "80000\n",
      "90000\n",
      "100000\n",
      "110000\n",
      "120000\n",
      "130000\n",
      "140000\n",
      "150000\n",
      "160000\n",
      "170000\n",
      "180000\n",
      "190000\n",
      "200000\n"
     ]
    }
   ],
   "source": [
    "data=\"data.json\"\n",
    "with open(data, 'r') as r:\n",
    "    i=0\n",
    "    lines=[]\n",
    "    for x in r:\n",
    "        lines.append(pd.DataFrame([json.loads(x)]))\n",
    "        i+=1\n",
    "        if i%10000==0:\n",
    "            print(i)\n",
    "    res=pd.concat(lines)"
   ]
  },
  {
   "cell_type": "code",
   "execution_count": null,
   "metadata": {},
   "outputs": [],
   "source": []
  },
  {
   "cell_type": "code",
   "execution_count": 3,
   "metadata": {},
   "outputs": [],
   "source": [
    "res['business_review_count']=res['business_id'].map(lambda x: x['review_count'])"
   ]
  },
  {
   "cell_type": "code",
   "execution_count": 4,
   "metadata": {},
   "outputs": [],
   "source": [
    "res['attributes_count']=res['business_id'].map(lambda x: len(x['attributes']))"
   ]
  },
  {
   "cell_type": "code",
   "execution_count": 5,
   "metadata": {
    "scrolled": false
   },
   "outputs": [
    {
     "name": "stdout",
     "output_type": "stream",
     "text": [
      "0\n",
      "24\n"
     ]
    }
   ],
   "source": [
    "row=(dict(res[['attributes_count']].reset_index().iterrows())[0])\n",
    "for x in row:\n",
    "    print(x)"
   ]
  },
  {
   "cell_type": "code",
   "execution_count": 11,
   "metadata": {},
   "outputs": [
    {
     "data": {
      "text/plain": [
       "24"
      ]
     },
     "execution_count": 11,
     "metadata": {},
     "output_type": "execute_result"
    }
   ],
   "source": [
    "row[1]"
   ]
  },
  {
   "cell_type": "code",
   "execution_count": 12,
   "metadata": {
    "scrolled": false
   },
   "outputs": [],
   "source": [
    "res.index=pd.RangeIndex(len(res))"
   ]
  },
  {
   "cell_type": "code",
   "execution_count": 13,
   "metadata": {},
   "outputs": [
    {
     "data": {
      "text/plain": [
       "business_id              206705\n",
       "cool                     206705\n",
       "date                     206705\n",
       "funny                    206705\n",
       "incorrect_words          206705\n",
       "                          ...  \n",
       "useful                   206705\n",
       "user_id                  206705\n",
       "words                    206705\n",
       "business_review_count    206705\n",
       "attributes_count         206705\n",
       "Length: 13, dtype: int64"
      ]
     },
     "execution_count": 13,
     "metadata": {},
     "output_type": "execute_result"
    }
   ],
   "source": [
    "res.count()"
   ]
  },
  {
   "cell_type": "code",
   "execution_count": 14,
   "metadata": {},
   "outputs": [
    {
     "data": {
      "text/html": [
       "<div>\n",
       "<style scoped>\n",
       "    .dataframe tbody tr th:only-of-type {\n",
       "        vertical-align: middle;\n",
       "    }\n",
       "\n",
       "    .dataframe tbody tr th {\n",
       "        vertical-align: top;\n",
       "    }\n",
       "\n",
       "    .dataframe thead th {\n",
       "        text-align: right;\n",
       "    }\n",
       "</style>\n",
       "<table border=\"1\" class=\"dataframe\">\n",
       "  <thead>\n",
       "    <tr style=\"text-align: right;\">\n",
       "      <th></th>\n",
       "      <th>business_id</th>\n",
       "      <th>date</th>\n",
       "      <th>funny</th>\n",
       "      <th>incorrect_words</th>\n",
       "      <th>review_id</th>\n",
       "      <th>stars</th>\n",
       "      <th>text</th>\n",
       "      <th>useful</th>\n",
       "      <th>user_id</th>\n",
       "      <th>words</th>\n",
       "      <th>business_review_count</th>\n",
       "      <th>attributes_count</th>\n",
       "    </tr>\n",
       "    <tr>\n",
       "      <th>cool</th>\n",
       "      <th></th>\n",
       "      <th></th>\n",
       "      <th></th>\n",
       "      <th></th>\n",
       "      <th></th>\n",
       "      <th></th>\n",
       "      <th></th>\n",
       "      <th></th>\n",
       "      <th></th>\n",
       "      <th></th>\n",
       "      <th></th>\n",
       "      <th></th>\n",
       "    </tr>\n",
       "  </thead>\n",
       "  <tbody>\n",
       "    <tr>\n",
       "      <th>0</th>\n",
       "      <td>137645</td>\n",
       "      <td>137645</td>\n",
       "      <td>137645</td>\n",
       "      <td>137645</td>\n",
       "      <td>137645</td>\n",
       "      <td>137645</td>\n",
       "      <td>137645</td>\n",
       "      <td>137645</td>\n",
       "      <td>137645</td>\n",
       "      <td>137645</td>\n",
       "      <td>137645</td>\n",
       "      <td>137645</td>\n",
       "    </tr>\n",
       "    <tr>\n",
       "      <th>1</th>\n",
       "      <td>40566</td>\n",
       "      <td>40566</td>\n",
       "      <td>40566</td>\n",
       "      <td>40566</td>\n",
       "      <td>40566</td>\n",
       "      <td>40566</td>\n",
       "      <td>40566</td>\n",
       "      <td>40566</td>\n",
       "      <td>40566</td>\n",
       "      <td>40566</td>\n",
       "      <td>40566</td>\n",
       "      <td>40566</td>\n",
       "    </tr>\n",
       "    <tr>\n",
       "      <th>2</th>\n",
       "      <td>13957</td>\n",
       "      <td>13957</td>\n",
       "      <td>13957</td>\n",
       "      <td>13957</td>\n",
       "      <td>13957</td>\n",
       "      <td>13957</td>\n",
       "      <td>13957</td>\n",
       "      <td>13957</td>\n",
       "      <td>13957</td>\n",
       "      <td>13957</td>\n",
       "      <td>13957</td>\n",
       "      <td>13957</td>\n",
       "    </tr>\n",
       "    <tr>\n",
       "      <th>3</th>\n",
       "      <td>6022</td>\n",
       "      <td>6022</td>\n",
       "      <td>6022</td>\n",
       "      <td>6022</td>\n",
       "      <td>6022</td>\n",
       "      <td>6022</td>\n",
       "      <td>6022</td>\n",
       "      <td>6022</td>\n",
       "      <td>6022</td>\n",
       "      <td>6022</td>\n",
       "      <td>6022</td>\n",
       "      <td>6022</td>\n",
       "    </tr>\n",
       "    <tr>\n",
       "      <th>4</th>\n",
       "      <td>2919</td>\n",
       "      <td>2919</td>\n",
       "      <td>2919</td>\n",
       "      <td>2919</td>\n",
       "      <td>2919</td>\n",
       "      <td>2919</td>\n",
       "      <td>2919</td>\n",
       "      <td>2919</td>\n",
       "      <td>2919</td>\n",
       "      <td>2919</td>\n",
       "      <td>2919</td>\n",
       "      <td>2919</td>\n",
       "    </tr>\n",
       "    <tr>\n",
       "      <th>...</th>\n",
       "      <td>...</td>\n",
       "      <td>...</td>\n",
       "      <td>...</td>\n",
       "      <td>...</td>\n",
       "      <td>...</td>\n",
       "      <td>...</td>\n",
       "      <td>...</td>\n",
       "      <td>...</td>\n",
       "      <td>...</td>\n",
       "      <td>...</td>\n",
       "      <td>...</td>\n",
       "      <td>...</td>\n",
       "    </tr>\n",
       "    <tr>\n",
       "      <th>167</th>\n",
       "      <td>1</td>\n",
       "      <td>1</td>\n",
       "      <td>1</td>\n",
       "      <td>1</td>\n",
       "      <td>1</td>\n",
       "      <td>1</td>\n",
       "      <td>1</td>\n",
       "      <td>1</td>\n",
       "      <td>1</td>\n",
       "      <td>1</td>\n",
       "      <td>1</td>\n",
       "      <td>1</td>\n",
       "    </tr>\n",
       "    <tr>\n",
       "      <th>170</th>\n",
       "      <td>1</td>\n",
       "      <td>1</td>\n",
       "      <td>1</td>\n",
       "      <td>1</td>\n",
       "      <td>1</td>\n",
       "      <td>1</td>\n",
       "      <td>1</td>\n",
       "      <td>1</td>\n",
       "      <td>1</td>\n",
       "      <td>1</td>\n",
       "      <td>1</td>\n",
       "      <td>1</td>\n",
       "    </tr>\n",
       "    <tr>\n",
       "      <th>172</th>\n",
       "      <td>1</td>\n",
       "      <td>1</td>\n",
       "      <td>1</td>\n",
       "      <td>1</td>\n",
       "      <td>1</td>\n",
       "      <td>1</td>\n",
       "      <td>1</td>\n",
       "      <td>1</td>\n",
       "      <td>1</td>\n",
       "      <td>1</td>\n",
       "      <td>1</td>\n",
       "      <td>1</td>\n",
       "    </tr>\n",
       "    <tr>\n",
       "      <th>173</th>\n",
       "      <td>1</td>\n",
       "      <td>1</td>\n",
       "      <td>1</td>\n",
       "      <td>1</td>\n",
       "      <td>1</td>\n",
       "      <td>1</td>\n",
       "      <td>1</td>\n",
       "      <td>1</td>\n",
       "      <td>1</td>\n",
       "      <td>1</td>\n",
       "      <td>1</td>\n",
       "      <td>1</td>\n",
       "    </tr>\n",
       "    <tr>\n",
       "      <th>245</th>\n",
       "      <td>1</td>\n",
       "      <td>1</td>\n",
       "      <td>1</td>\n",
       "      <td>1</td>\n",
       "      <td>1</td>\n",
       "      <td>1</td>\n",
       "      <td>1</td>\n",
       "      <td>1</td>\n",
       "      <td>1</td>\n",
       "      <td>1</td>\n",
       "      <td>1</td>\n",
       "      <td>1</td>\n",
       "    </tr>\n",
       "  </tbody>\n",
       "</table>\n",
       "<p>65 rows × 12 columns</p>\n",
       "</div>"
      ],
      "text/plain": [
       "      business_id    date   funny  incorrect_words  review_id   stars    text  \\\n",
       "cool                                                                            \n",
       "0          137645  137645  137645           137645     137645  137645  137645   \n",
       "1           40566   40566   40566            40566      40566   40566   40566   \n",
       "2           13957   13957   13957            13957      13957   13957   13957   \n",
       "3            6022    6022    6022             6022       6022    6022    6022   \n",
       "4            2919    2919    2919             2919       2919    2919    2919   \n",
       "...           ...     ...     ...              ...        ...     ...     ...   \n",
       "167             1       1       1                1          1       1       1   \n",
       "170             1       1       1                1          1       1       1   \n",
       "172             1       1       1                1          1       1       1   \n",
       "173             1       1       1                1          1       1       1   \n",
       "245             1       1       1                1          1       1       1   \n",
       "\n",
       "      useful  user_id   words  business_review_count  attributes_count  \n",
       "cool                                                                    \n",
       "0     137645   137645  137645                 137645            137645  \n",
       "1      40566    40566   40566                  40566             40566  \n",
       "2      13957    13957   13957                  13957             13957  \n",
       "3       6022     6022    6022                   6022              6022  \n",
       "4       2919     2919    2919                   2919              2919  \n",
       "...      ...      ...     ...                    ...               ...  \n",
       "167        1        1       1                      1                 1  \n",
       "170        1        1       1                      1                 1  \n",
       "172        1        1       1                      1                 1  \n",
       "173        1        1       1                      1                 1  \n",
       "245        1        1       1                      1                 1  \n",
       "\n",
       "[65 rows x 12 columns]"
      ]
     },
     "execution_count": 14,
     "metadata": {},
     "output_type": "execute_result"
    }
   ],
   "source": [
    "pd.set_option('display.max_rows', 10)\n",
    "res.groupby('cool').count()"
   ]
  },
  {
   "cell_type": "code",
   "execution_count": 15,
   "metadata": {},
   "outputs": [
    {
     "data": {
      "text/html": [
       "<div>\n",
       "<style scoped>\n",
       "    .dataframe tbody tr th:only-of-type {\n",
       "        vertical-align: middle;\n",
       "    }\n",
       "\n",
       "    .dataframe tbody tr th {\n",
       "        vertical-align: top;\n",
       "    }\n",
       "\n",
       "    .dataframe thead th {\n",
       "        text-align: right;\n",
       "    }\n",
       "</style>\n",
       "<table border=\"1\" class=\"dataframe\">\n",
       "  <thead>\n",
       "    <tr style=\"text-align: right;\">\n",
       "      <th></th>\n",
       "      <th>business_id</th>\n",
       "      <th>cool</th>\n",
       "      <th>date</th>\n",
       "      <th>funny</th>\n",
       "      <th>incorrect_words</th>\n",
       "      <th>review_id</th>\n",
       "      <th>stars</th>\n",
       "      <th>text</th>\n",
       "      <th>user_id</th>\n",
       "      <th>words</th>\n",
       "      <th>business_review_count</th>\n",
       "      <th>attributes_count</th>\n",
       "    </tr>\n",
       "    <tr>\n",
       "      <th>useful</th>\n",
       "      <th></th>\n",
       "      <th></th>\n",
       "      <th></th>\n",
       "      <th></th>\n",
       "      <th></th>\n",
       "      <th></th>\n",
       "      <th></th>\n",
       "      <th></th>\n",
       "      <th></th>\n",
       "      <th></th>\n",
       "      <th></th>\n",
       "      <th></th>\n",
       "    </tr>\n",
       "  </thead>\n",
       "  <tbody>\n",
       "    <tr>\n",
       "      <th>0</th>\n",
       "      <td>78021</td>\n",
       "      <td>78021</td>\n",
       "      <td>78021</td>\n",
       "      <td>78021</td>\n",
       "      <td>78021</td>\n",
       "      <td>78021</td>\n",
       "      <td>78021</td>\n",
       "      <td>78021</td>\n",
       "      <td>78021</td>\n",
       "      <td>78021</td>\n",
       "      <td>78021</td>\n",
       "      <td>78021</td>\n",
       "    </tr>\n",
       "    <tr>\n",
       "      <th>1</th>\n",
       "      <td>51087</td>\n",
       "      <td>51087</td>\n",
       "      <td>51087</td>\n",
       "      <td>51087</td>\n",
       "      <td>51087</td>\n",
       "      <td>51087</td>\n",
       "      <td>51087</td>\n",
       "      <td>51087</td>\n",
       "      <td>51087</td>\n",
       "      <td>51087</td>\n",
       "      <td>51087</td>\n",
       "      <td>51087</td>\n",
       "    </tr>\n",
       "    <tr>\n",
       "      <th>2</th>\n",
       "      <td>28837</td>\n",
       "      <td>28837</td>\n",
       "      <td>28837</td>\n",
       "      <td>28837</td>\n",
       "      <td>28837</td>\n",
       "      <td>28837</td>\n",
       "      <td>28837</td>\n",
       "      <td>28837</td>\n",
       "      <td>28837</td>\n",
       "      <td>28837</td>\n",
       "      <td>28837</td>\n",
       "      <td>28837</td>\n",
       "    </tr>\n",
       "    <tr>\n",
       "      <th>3</th>\n",
       "      <td>16355</td>\n",
       "      <td>16355</td>\n",
       "      <td>16355</td>\n",
       "      <td>16355</td>\n",
       "      <td>16355</td>\n",
       "      <td>16355</td>\n",
       "      <td>16355</td>\n",
       "      <td>16355</td>\n",
       "      <td>16355</td>\n",
       "      <td>16355</td>\n",
       "      <td>16355</td>\n",
       "      <td>16355</td>\n",
       "    </tr>\n",
       "    <tr>\n",
       "      <th>4</th>\n",
       "      <td>9858</td>\n",
       "      <td>9858</td>\n",
       "      <td>9858</td>\n",
       "      <td>9858</td>\n",
       "      <td>9858</td>\n",
       "      <td>9858</td>\n",
       "      <td>9858</td>\n",
       "      <td>9858</td>\n",
       "      <td>9858</td>\n",
       "      <td>9858</td>\n",
       "      <td>9858</td>\n",
       "      <td>9858</td>\n",
       "    </tr>\n",
       "    <tr>\n",
       "      <th>...</th>\n",
       "      <td>...</td>\n",
       "      <td>...</td>\n",
       "      <td>...</td>\n",
       "      <td>...</td>\n",
       "      <td>...</td>\n",
       "      <td>...</td>\n",
       "      <td>...</td>\n",
       "      <td>...</td>\n",
       "      <td>...</td>\n",
       "      <td>...</td>\n",
       "      <td>...</td>\n",
       "      <td>...</td>\n",
       "    </tr>\n",
       "    <tr>\n",
       "      <th>168</th>\n",
       "      <td>1</td>\n",
       "      <td>1</td>\n",
       "      <td>1</td>\n",
       "      <td>1</td>\n",
       "      <td>1</td>\n",
       "      <td>1</td>\n",
       "      <td>1</td>\n",
       "      <td>1</td>\n",
       "      <td>1</td>\n",
       "      <td>1</td>\n",
       "      <td>1</td>\n",
       "      <td>1</td>\n",
       "    </tr>\n",
       "    <tr>\n",
       "      <th>170</th>\n",
       "      <td>1</td>\n",
       "      <td>1</td>\n",
       "      <td>1</td>\n",
       "      <td>1</td>\n",
       "      <td>1</td>\n",
       "      <td>1</td>\n",
       "      <td>1</td>\n",
       "      <td>1</td>\n",
       "      <td>1</td>\n",
       "      <td>1</td>\n",
       "      <td>1</td>\n",
       "      <td>1</td>\n",
       "    </tr>\n",
       "    <tr>\n",
       "      <th>173</th>\n",
       "      <td>1</td>\n",
       "      <td>1</td>\n",
       "      <td>1</td>\n",
       "      <td>1</td>\n",
       "      <td>1</td>\n",
       "      <td>1</td>\n",
       "      <td>1</td>\n",
       "      <td>1</td>\n",
       "      <td>1</td>\n",
       "      <td>1</td>\n",
       "      <td>1</td>\n",
       "      <td>1</td>\n",
       "    </tr>\n",
       "    <tr>\n",
       "      <th>175</th>\n",
       "      <td>1</td>\n",
       "      <td>1</td>\n",
       "      <td>1</td>\n",
       "      <td>1</td>\n",
       "      <td>1</td>\n",
       "      <td>1</td>\n",
       "      <td>1</td>\n",
       "      <td>1</td>\n",
       "      <td>1</td>\n",
       "      <td>1</td>\n",
       "      <td>1</td>\n",
       "      <td>1</td>\n",
       "    </tr>\n",
       "    <tr>\n",
       "      <th>2133</th>\n",
       "      <td>1</td>\n",
       "      <td>1</td>\n",
       "      <td>1</td>\n",
       "      <td>1</td>\n",
       "      <td>1</td>\n",
       "      <td>1</td>\n",
       "      <td>1</td>\n",
       "      <td>1</td>\n",
       "      <td>1</td>\n",
       "      <td>1</td>\n",
       "      <td>1</td>\n",
       "      <td>1</td>\n",
       "    </tr>\n",
       "  </tbody>\n",
       "</table>\n",
       "<p>91 rows × 12 columns</p>\n",
       "</div>"
      ],
      "text/plain": [
       "        business_id   cool   date  funny  incorrect_words  review_id  stars  \\\n",
       "useful                                                                        \n",
       "0             78021  78021  78021  78021            78021      78021  78021   \n",
       "1             51087  51087  51087  51087            51087      51087  51087   \n",
       "2             28837  28837  28837  28837            28837      28837  28837   \n",
       "3             16355  16355  16355  16355            16355      16355  16355   \n",
       "4              9858   9858   9858   9858             9858       9858   9858   \n",
       "...             ...    ...    ...    ...              ...        ...    ...   \n",
       "168               1      1      1      1                1          1      1   \n",
       "170               1      1      1      1                1          1      1   \n",
       "173               1      1      1      1                1          1      1   \n",
       "175               1      1      1      1                1          1      1   \n",
       "2133              1      1      1      1                1          1      1   \n",
       "\n",
       "         text  user_id  words  business_review_count  attributes_count  \n",
       "useful                                                                  \n",
       "0       78021    78021  78021                  78021             78021  \n",
       "1       51087    51087  51087                  51087             51087  \n",
       "2       28837    28837  28837                  28837             28837  \n",
       "3       16355    16355  16355                  16355             16355  \n",
       "4        9858     9858   9858                   9858              9858  \n",
       "...       ...      ...    ...                    ...               ...  \n",
       "168         1        1      1                      1                 1  \n",
       "170         1        1      1                      1                 1  \n",
       "173         1        1      1                      1                 1  \n",
       "175         1        1      1                      1                 1  \n",
       "2133        1        1      1                      1                 1  \n",
       "\n",
       "[91 rows x 12 columns]"
      ]
     },
     "execution_count": 15,
     "metadata": {},
     "output_type": "execute_result"
    }
   ],
   "source": [
    "res.groupby('useful').count()"
   ]
  },
  {
   "cell_type": "code",
   "execution_count": 16,
   "metadata": {},
   "outputs": [
    {
     "data": {
      "text/html": [
       "<div>\n",
       "<style scoped>\n",
       "    .dataframe tbody tr th:only-of-type {\n",
       "        vertical-align: middle;\n",
       "    }\n",
       "\n",
       "    .dataframe tbody tr th {\n",
       "        vertical-align: top;\n",
       "    }\n",
       "\n",
       "    .dataframe thead th {\n",
       "        text-align: right;\n",
       "    }\n",
       "</style>\n",
       "<table border=\"1\" class=\"dataframe\">\n",
       "  <thead>\n",
       "    <tr style=\"text-align: right;\">\n",
       "      <th></th>\n",
       "      <th>business_id</th>\n",
       "      <th>cool</th>\n",
       "      <th>date</th>\n",
       "      <th>incorrect_words</th>\n",
       "      <th>review_id</th>\n",
       "      <th>stars</th>\n",
       "      <th>text</th>\n",
       "      <th>useful</th>\n",
       "      <th>user_id</th>\n",
       "      <th>words</th>\n",
       "      <th>business_review_count</th>\n",
       "      <th>attributes_count</th>\n",
       "    </tr>\n",
       "    <tr>\n",
       "      <th>funny</th>\n",
       "      <th></th>\n",
       "      <th></th>\n",
       "      <th></th>\n",
       "      <th></th>\n",
       "      <th></th>\n",
       "      <th></th>\n",
       "      <th></th>\n",
       "      <th></th>\n",
       "      <th></th>\n",
       "      <th></th>\n",
       "      <th></th>\n",
       "      <th></th>\n",
       "    </tr>\n",
       "  </thead>\n",
       "  <tbody>\n",
       "    <tr>\n",
       "      <th>0</th>\n",
       "      <td>146281</td>\n",
       "      <td>146281</td>\n",
       "      <td>146281</td>\n",
       "      <td>146281</td>\n",
       "      <td>146281</td>\n",
       "      <td>146281</td>\n",
       "      <td>146281</td>\n",
       "      <td>146281</td>\n",
       "      <td>146281</td>\n",
       "      <td>146281</td>\n",
       "      <td>146281</td>\n",
       "      <td>146281</td>\n",
       "    </tr>\n",
       "    <tr>\n",
       "      <th>1</th>\n",
       "      <td>33556</td>\n",
       "      <td>33556</td>\n",
       "      <td>33556</td>\n",
       "      <td>33556</td>\n",
       "      <td>33556</td>\n",
       "      <td>33556</td>\n",
       "      <td>33556</td>\n",
       "      <td>33556</td>\n",
       "      <td>33556</td>\n",
       "      <td>33556</td>\n",
       "      <td>33556</td>\n",
       "      <td>33556</td>\n",
       "    </tr>\n",
       "    <tr>\n",
       "      <th>2</th>\n",
       "      <td>11938</td>\n",
       "      <td>11938</td>\n",
       "      <td>11938</td>\n",
       "      <td>11938</td>\n",
       "      <td>11938</td>\n",
       "      <td>11938</td>\n",
       "      <td>11938</td>\n",
       "      <td>11938</td>\n",
       "      <td>11938</td>\n",
       "      <td>11938</td>\n",
       "      <td>11938</td>\n",
       "      <td>11938</td>\n",
       "    </tr>\n",
       "    <tr>\n",
       "      <th>3</th>\n",
       "      <td>5537</td>\n",
       "      <td>5537</td>\n",
       "      <td>5537</td>\n",
       "      <td>5537</td>\n",
       "      <td>5537</td>\n",
       "      <td>5537</td>\n",
       "      <td>5537</td>\n",
       "      <td>5537</td>\n",
       "      <td>5537</td>\n",
       "      <td>5537</td>\n",
       "      <td>5537</td>\n",
       "      <td>5537</td>\n",
       "    </tr>\n",
       "    <tr>\n",
       "      <th>4</th>\n",
       "      <td>2982</td>\n",
       "      <td>2982</td>\n",
       "      <td>2982</td>\n",
       "      <td>2982</td>\n",
       "      <td>2982</td>\n",
       "      <td>2982</td>\n",
       "      <td>2982</td>\n",
       "      <td>2982</td>\n",
       "      <td>2982</td>\n",
       "      <td>2982</td>\n",
       "      <td>2982</td>\n",
       "      <td>2982</td>\n",
       "    </tr>\n",
       "    <tr>\n",
       "      <th>...</th>\n",
       "      <td>...</td>\n",
       "      <td>...</td>\n",
       "      <td>...</td>\n",
       "      <td>...</td>\n",
       "      <td>...</td>\n",
       "      <td>...</td>\n",
       "      <td>...</td>\n",
       "      <td>...</td>\n",
       "      <td>...</td>\n",
       "      <td>...</td>\n",
       "      <td>...</td>\n",
       "      <td>...</td>\n",
       "    </tr>\n",
       "    <tr>\n",
       "      <th>260</th>\n",
       "      <td>1</td>\n",
       "      <td>1</td>\n",
       "      <td>1</td>\n",
       "      <td>1</td>\n",
       "      <td>1</td>\n",
       "      <td>1</td>\n",
       "      <td>1</td>\n",
       "      <td>1</td>\n",
       "      <td>1</td>\n",
       "      <td>1</td>\n",
       "      <td>1</td>\n",
       "      <td>1</td>\n",
       "    </tr>\n",
       "    <tr>\n",
       "      <th>414</th>\n",
       "      <td>1</td>\n",
       "      <td>1</td>\n",
       "      <td>1</td>\n",
       "      <td>1</td>\n",
       "      <td>1</td>\n",
       "      <td>1</td>\n",
       "      <td>1</td>\n",
       "      <td>1</td>\n",
       "      <td>1</td>\n",
       "      <td>1</td>\n",
       "      <td>1</td>\n",
       "      <td>1</td>\n",
       "    </tr>\n",
       "    <tr>\n",
       "      <th>487</th>\n",
       "      <td>1</td>\n",
       "      <td>1</td>\n",
       "      <td>1</td>\n",
       "      <td>1</td>\n",
       "      <td>1</td>\n",
       "      <td>1</td>\n",
       "      <td>1</td>\n",
       "      <td>1</td>\n",
       "      <td>1</td>\n",
       "      <td>1</td>\n",
       "      <td>1</td>\n",
       "      <td>1</td>\n",
       "    </tr>\n",
       "    <tr>\n",
       "      <th>870</th>\n",
       "      <td>1</td>\n",
       "      <td>1</td>\n",
       "      <td>1</td>\n",
       "      <td>1</td>\n",
       "      <td>1</td>\n",
       "      <td>1</td>\n",
       "      <td>1</td>\n",
       "      <td>1</td>\n",
       "      <td>1</td>\n",
       "      <td>1</td>\n",
       "      <td>1</td>\n",
       "      <td>1</td>\n",
       "    </tr>\n",
       "    <tr>\n",
       "      <th>932</th>\n",
       "      <td>1</td>\n",
       "      <td>1</td>\n",
       "      <td>1</td>\n",
       "      <td>1</td>\n",
       "      <td>1</td>\n",
       "      <td>1</td>\n",
       "      <td>1</td>\n",
       "      <td>1</td>\n",
       "      <td>1</td>\n",
       "      <td>1</td>\n",
       "      <td>1</td>\n",
       "      <td>1</td>\n",
       "    </tr>\n",
       "  </tbody>\n",
       "</table>\n",
       "<p>79 rows × 12 columns</p>\n",
       "</div>"
      ],
      "text/plain": [
       "       business_id    cool    date  incorrect_words  review_id   stars  \\\n",
       "funny                                                                    \n",
       "0           146281  146281  146281           146281     146281  146281   \n",
       "1            33556   33556   33556            33556      33556   33556   \n",
       "2            11938   11938   11938            11938      11938   11938   \n",
       "3             5537    5537    5537             5537       5537    5537   \n",
       "4             2982    2982    2982             2982       2982    2982   \n",
       "...            ...     ...     ...              ...        ...     ...   \n",
       "260              1       1       1                1          1       1   \n",
       "414              1       1       1                1          1       1   \n",
       "487              1       1       1                1          1       1   \n",
       "870              1       1       1                1          1       1   \n",
       "932              1       1       1                1          1       1   \n",
       "\n",
       "         text  useful  user_id   words  business_review_count  \\\n",
       "funny                                                           \n",
       "0      146281  146281   146281  146281                 146281   \n",
       "1       33556   33556    33556   33556                  33556   \n",
       "2       11938   11938    11938   11938                  11938   \n",
       "3        5537    5537     5537    5537                   5537   \n",
       "4        2982    2982     2982    2982                   2982   \n",
       "...       ...     ...      ...     ...                    ...   \n",
       "260         1       1        1       1                      1   \n",
       "414         1       1        1       1                      1   \n",
       "487         1       1        1       1                      1   \n",
       "870         1       1        1       1                      1   \n",
       "932         1       1        1       1                      1   \n",
       "\n",
       "       attributes_count  \n",
       "funny                    \n",
       "0                146281  \n",
       "1                 33556  \n",
       "2                 11938  \n",
       "3                  5537  \n",
       "4                  2982  \n",
       "...                 ...  \n",
       "260                   1  \n",
       "414                   1  \n",
       "487                   1  \n",
       "870                   1  \n",
       "932                   1  \n",
       "\n",
       "[79 rows x 12 columns]"
      ]
     },
     "execution_count": 16,
     "metadata": {},
     "output_type": "execute_result"
    }
   ],
   "source": [
    "res.groupby('funny').count()"
   ]
  },
  {
   "cell_type": "code",
   "execution_count": 17,
   "metadata": {},
   "outputs": [
    {
     "data": {
      "text/plain": [
       "'interesting cave like setting.  busy, but way overpriced for what it is.  nothing special or memorable about the steaks or sides. average quality food. average service, nothing special to stand out from any other restaurant. hyped name.  professional host greeting.'"
      ]
     },
     "execution_count": 17,
     "metadata": {},
     "output_type": "execute_result"
    }
   ],
   "source": [
    "res['text'].loc[2]"
   ]
  },
  {
   "cell_type": "code",
   "execution_count": 18,
   "metadata": {},
   "outputs": [
    {
     "data": {
      "text/html": [
       "<div>\n",
       "<style scoped>\n",
       "    .dataframe tbody tr th:only-of-type {\n",
       "        vertical-align: middle;\n",
       "    }\n",
       "\n",
       "    .dataframe tbody tr th {\n",
       "        vertical-align: top;\n",
       "    }\n",
       "\n",
       "    .dataframe thead th {\n",
       "        text-align: right;\n",
       "    }\n",
       "</style>\n",
       "<table border=\"1\" class=\"dataframe\">\n",
       "  <thead>\n",
       "    <tr style=\"text-align: right;\">\n",
       "      <th></th>\n",
       "      <th>business_id</th>\n",
       "      <th>cool</th>\n",
       "      <th>date</th>\n",
       "      <th>funny</th>\n",
       "      <th>incorrect_words</th>\n",
       "      <th>review_id</th>\n",
       "      <th>stars</th>\n",
       "      <th>text</th>\n",
       "      <th>useful</th>\n",
       "      <th>user_id</th>\n",
       "      <th>words</th>\n",
       "      <th>business_review_count</th>\n",
       "      <th>attributes_count</th>\n",
       "    </tr>\n",
       "  </thead>\n",
       "  <tbody>\n",
       "  </tbody>\n",
       "</table>\n",
       "</div>"
      ],
      "text/plain": [
       "Empty DataFrame\n",
       "Columns: [business_id, cool, date, funny, incorrect_words, review_id, stars, text, useful, user_id, words, business_review_count, attributes_count]\n",
       "Index: []"
      ]
     },
     "execution_count": 18,
     "metadata": {},
     "output_type": "execute_result"
    }
   ],
   "source": [
    "res[res['text'].isnull()]"
   ]
  },
  {
   "cell_type": "code",
   "execution_count": 19,
   "metadata": {
    "scrolled": false
   },
   "outputs": [],
   "source": [
    "# number of words\n",
    "#pd.set_option('display.max_rows', 800)\n",
    "#res.groupby(lambda a: len(res['text'].loc[a].split(' '))).count()"
   ]
  },
  {
   "cell_type": "code",
   "execution_count": 20,
   "metadata": {
    "scrolled": false
   },
   "outputs": [
    {
     "data": {
      "text/plain": [
       "business_id              139075\n",
       "cool                     139075\n",
       "date                     139075\n",
       "funny                    139075\n",
       "incorrect_words          139075\n",
       "                          ...  \n",
       "useful                   139075\n",
       "user_id                  139075\n",
       "words                    139075\n",
       "business_review_count    139075\n",
       "attributes_count         139075\n",
       "Length: 13, dtype: int64"
      ]
     },
     "execution_count": 20,
     "metadata": {},
     "output_type": "execute_result"
    }
   ],
   "source": [
    "# review_counts\n",
    "#res.groupby('business_review_count').count()\n",
    "res[res['business_review_count']>50].count()"
   ]
  },
  {
   "cell_type": "code",
   "execution_count": 21,
   "metadata": {},
   "outputs": [
    {
     "data": {
      "text/plain": [
       "business_id              132341\n",
       "cool                     132341\n",
       "date                     132341\n",
       "funny                    132341\n",
       "incorrect_words          132341\n",
       "                          ...  \n",
       "useful                   132341\n",
       "user_id                  132341\n",
       "words                    132341\n",
       "business_review_count    132341\n",
       "attributes_count         132341\n",
       "Length: 13, dtype: int64"
      ]
     },
     "execution_count": 21,
     "metadata": {},
     "output_type": "execute_result"
    }
   ],
   "source": [
    "res.groupby('attributes_count').count()\n",
    "res[res['attributes_count']>10].count()"
   ]
  },
  {
   "cell_type": "code",
   "execution_count": 22,
   "metadata": {},
   "outputs": [],
   "source": [
    "pd.set_option('display.max_rows', 0)"
   ]
  },
  {
   "cell_type": "code",
   "execution_count": 23,
   "metadata": {},
   "outputs": [
    {
     "data": {
      "text/plain": [
       "4.0"
      ]
     },
     "execution_count": 23,
     "metadata": {},
     "output_type": "execute_result"
    }
   ],
   "source": [
    "res['business_id'].loc[2]['stars']"
   ]
  },
  {
   "cell_type": "code",
   "execution_count": 24,
   "metadata": {},
   "outputs": [
    {
     "name": "stdout",
     "output_type": "stream",
     "text": [
      "139075\n"
     ]
    }
   ],
   "source": [
    "n=res[res['business_review_count']>50].count()[0]\n",
    "print(n)\n",
    "#print(type(n))\n",
    "#rs=res[res['business_review_count']>50].sample(n=n).copy()\n",
    "#pos=rs[rs[like_type]>2].sample(n=40000).copy()"
   ]
  },
  {
   "cell_type": "code",
   "execution_count": 25,
   "metadata": {},
   "outputs": [],
   "source": [
    "#res[lambda r: True].sample(n=1) #??\n",
    "#res[print(res['business'])]#\n",
    "#res[print(type(res['business']))]\n",
    "#res.apply()\n",
    "#res[res['business'].get('business_id')=='aAbL_y05zPWaIrT1QtDWxw'].sample(n=1)"
   ]
  },
  {
   "cell_type": "code",
   "execution_count": 26,
   "metadata": {},
   "outputs": [],
   "source": [
    "def get_reviews(like_type):\n",
    "    n=res[res['business_review_count']>50].count()[0]\n",
    "    #print(n)\n",
    "    #print(type(n))\n",
    "    tmp=res[res['business_review_count']>50].sample(n=n).copy()\n",
    "    n=tmp[tmp['attributes_count']>10].count()[0]\n",
    "    rs=tmp[tmp['attributes_count']>10].sample(n=n).copy()\n",
    "\n",
    "    pos=rs[rs[like_type]>2].sample(n=10000).copy()\n",
    "    pos['classification']=like_type\n",
    "    neg=rs[rs[like_type]==0].sample(n=10000).copy()\n",
    "    neg['classification']='not-'+like_type\n",
    "    all=pd.concat([pos, neg])\n",
    "    all=all[['text', like_type, 'classification', 'stars', 'business_id', 'words', 'incorrect_words']].reset_index(drop=True)\n",
    "    return all"
   ]
  },
  {
   "cell_type": "markdown",
   "metadata": {},
   "source": [
    "# Classification"
   ]
  },
  {
   "cell_type": "code",
   "execution_count": 27,
   "metadata": {
    "scrolled": false
   },
   "outputs": [],
   "source": [
    "import nltk\n",
    "toker=nltk.tokenize.TweetTokenizer()"
   ]
  },
  {
   "cell_type": "code",
   "execution_count": 28,
   "metadata": {},
   "outputs": [],
   "source": [
    "like_type='useful'\n",
    "#like_type='funny'\n",
    "#like_type='cool'"
   ]
  },
  {
   "cell_type": "code",
   "execution_count": 29,
   "metadata": {},
   "outputs": [],
   "source": [
    "reviews=get_reviews(like_type)"
   ]
  },
  {
   "cell_type": "code",
   "execution_count": 30,
   "metadata": {},
   "outputs": [
    {
     "name": "stdout",
     "output_type": "stream",
     "text": [
      "total number of words: 3515992\n",
      "unique words: 49529\n",
      "words present only once: 23848\n"
     ]
    },
    {
     "data": {
      "text/plain": [
       "<Figure size 640x480 with 1 Axes>"
      ]
     },
     "metadata": {},
     "output_type": "display_data"
    }
   ],
   "source": [
    "texts_tokenized = (toker.tokenize(row.text) for index, row in reviews.iterrows())\n",
    "all_words = nltk.FreqDist(w.lower() for tokens in texts_tokenized for w in tokens)\n",
    "\n",
    "print('total number of words:', sum(all_words.values()))\n",
    "print('unique words:', len(all_words))\n",
    "print('words present only once:', sum(c for c in all_words.values() if c == 1))\n",
    "\n",
    "all_words.plot(30)"
   ]
  },
  {
   "cell_type": "code",
   "execution_count": 31,
   "metadata": {},
   "outputs": [
    {
     "name": "stdout",
     "output_type": "stream",
     "text": [
      "feature words: 25261\n"
     ]
    },
    {
     "data": {
      "image/png": "[encoded data removed]",
      "text/plain": [
       "<Figure size 432x288 with 1 Axes>"
      ]
     },
     "metadata": {},
     "output_type": "display_data"
    }
   ],
   "source": [
    "words = all_words.copy()\n",
    "for w, count in all_words.items():\n",
    "    if count > 1000 or count == 1:\n",
    "        del words[w]\n",
    "\n",
    "print('feature words:', len(words))\n",
    "words.plot(40)"
   ]
  },
  {
   "cell_type": "code",
   "execution_count": 106,
   "metadata": {},
   "outputs": [],
   "source": [
    "word_features = frozenset(words.keys())\n",
    "i=0\n",
    "words_numbered=dict()\n",
    "for w in word_features:\n",
    "    words_numbered[w]=i\n",
    "    i+=1"
   ]
  },
  {
   "cell_type": "code",
   "execution_count": null,
   "metadata": {},
   "outputs": [],
   "source": []
  },
  {
   "cell_type": "code",
   "execution_count": 142,
   "metadata": {},
   "outputs": [],
   "source": [
    "def doc2vec(text):\n",
    "    return [ (i,words_numbered[w]) for i,w in enumerate(toker.tokenize(text.lower())) if w in words_numbered ]"
   ]
  },
  {
   "cell_type": "code",
   "execution_count": null,
   "metadata": {
    "scrolled": false
   },
   "outputs": [],
   "source": []
  },
  {
   "cell_type": "code",
   "execution_count": 143,
   "metadata": {},
   "outputs": [],
   "source": [
    "#cosine similarity\n",
    "corpus = [ doc2vec(t) for t in random.sample(list(reviews[reviews['classification']=='useful']['text']), 10)]\n"
   ]
  },
  {
   "cell_type": "code",
   "execution_count": 144,
   "metadata": {},
   "outputs": [],
   "source": [
    "from gensim.similarities.docsim import Similarity\n",
    "from gensim.test.utils import get_tmpfile"
   ]
  },
  {
   "cell_type": "code",
   "execution_count": null,
   "metadata": {},
   "outputs": [],
   "source": []
  },
  {
   "cell_type": "code",
   "execution_count": 145,
   "metadata": {},
   "outputs": [
    {
     "name": "stderr",
     "output_type": "stream",
     "text": [
      "/home/big_files/NPRG045/lib/python3.7/site-packages/gensim/matutils.py:718: FutureWarning: Conversion of the second argument of issubdtype from `int` to `np.signedinteger` is deprecated. In future, it will be treated as `np.int64 == np.dtype(int).type`.\n",
      "  if np.issubdtype(vec.dtype, np.int):\n"
     ]
    }
   ],
   "source": [
    "index = Similarity(None, corpus, num_features=len(words_numbered))  # create index"
   ]
  },
  {
   "cell_type": "code",
   "execution_count": null,
   "metadata": {},
   "outputs": [],
   "source": []
  },
  {
   "cell_type": "code",
   "execution_count": null,
   "metadata": {},
   "outputs": [],
   "source": []
  },
  {
   "cell_type": "code",
   "execution_count": null,
   "metadata": {},
   "outputs": [],
   "source": []
  },
  {
   "cell_type": "code",
   "execution_count": 162,
   "metadata": {},
   "outputs": [],
   "source": [
    "def features(row):\n",
    "    text=row.text\n",
    "    txt_words = set(toker.tokenize(text.lower()))\n",
    "    features = {}\n",
    "    for w in txt_words & word_features:\n",
    "        #features['contains({})'.format(w)] = 'Yes' # beze slov je to lepsi\n",
    "        pass\n",
    "    \n",
    "    text_tok=toker.tokenize(text.lower())\n",
    "    for w,w2 in zip(text_tok[:-1], text_tok[1:]):\n",
    "        if w in word_features and w2 in word_features:\n",
    "                features['contains({}&&&{})'.format(w,w2)] = 'Yes'\n",
    "                pass\n",
    "            \n",
    "    #features['contains(@@stars{})'.format(row.stars)] = 'Yes'\n",
    "    features['@@@stars'] = row.stars\n",
    "    features['@@@bus_stars']=row['business_id']['stars']\n",
    "    #features['@@@review_count']= \"A lot\" if row['business']['review_count']  else \"A few\"\n",
    "    l=row['words']\n",
    "    features['@@@review_length']= \"short\" if l<50 else \"middle\" if l<150 else \"long\"\n",
    "    features['@@@review_length50']= \"short\" if l<50 else \"middle\"\n",
    "    features['@@@review_length100']= \"short\" if l<100 else \"middle\"\n",
    "    features['@@@review_length150']= \"short\" if l<150 else \"middle\"\n",
    "    features['@@@review_length35']= \"short\" if l<35 else \"middle\"\n",
    "    features['@@@review_length75']= \"short\" if l<75 else \"middle\"\n",
    "    \n",
    "    rate=row['incorrect_words']/row['words']\n",
    "    \n",
    "    features['@@@error_rate0.02'] = \"good\" if rate<0.02 else \"bad\"\n",
    "    features['@@@error_rate0.05'] = \"good\" if rate<0.05 else \"bad\"\n",
    "    features['@@@error_rate0.1'] = \"good\" if rate<0.1 else \"bad\"\n",
    "    features['@@@error_rate0.15'] = \"good\" if rate<0.15 else \"bad\"\n",
    "    features['@@@error_rate0.2'] = \"good\" if rate<0.2 else \"bad\"\n",
    "    \n",
    "    # not 100% haha\n",
    "    #features['aaa'] = 'a' if row.useful > 0 else 'b'\n",
    "    cos_sims = index[doc2vec(text)]\n",
    "    for i,x in enumerate(cos_sims):\n",
    "        features['@@@cos_sim4_{}'.format(i)]=1 if x>0.4 else 0\n",
    "        features['@@@cos_sim6_{}'.format(i)]=1 if x>0.6 else 0\n",
    "        features['@@@cos_sim8_{}'.format(i)]=1 if x>0.8 else 0\n",
    "        features['@@@cos_sim9_{}'.format(i)]=1 if x>0.9 else 0\n",
    "        features['@@@cos_sim95_{}'.format(i)]=1 if x>0.95 else 0\n",
    "    \n",
    "    return features"
   ]
  },
  {
   "cell_type": "code",
   "execution_count": 163,
   "metadata": {
    "scrolled": false
   },
   "outputs": [],
   "source": [
    "# generate tuples: (features_dict, sentiment)\n",
    "feature_sets = [(features(row), row.classification) for index, row in reviews.iterrows()]"
   ]
  },
  {
   "cell_type": "code",
   "execution_count": 164,
   "metadata": {},
   "outputs": [
    {
     "data": {
      "text/plain": [
       "({'contains(until&&&noon)': 'Yes',\n",
       "  'contains(sadly&&&mistaken)': 'Yes',\n",
       "  'contains(1lb&&&pulled)': 'Yes',\n",
       "  'contains(arrived&&&lukewarm)': 'Yes',\n",
       "  'contains(nearly&&&tasteless)': 'Yes',\n",
       "  \"contains(opening&&&isn't)\": 'Yes',\n",
       "  \"contains(isn't&&&paying)\": 'Yes',\n",
       "  '@@@stars': 1,\n",
       "  '@@@bus_stars': 2.0,\n",
       "  '@@@review_length': 'long',\n",
       "  '@@@review_length50': 'middle',\n",
       "  '@@@review_length100': 'middle',\n",
       "  '@@@review_length150': 'middle',\n",
       "  '@@@review_length35': 'middle',\n",
       "  '@@@review_length75': 'middle',\n",
       "  '@@@error_rate0.02': 'good',\n",
       "  '@@@error_rate0.05': 'good',\n",
       "  '@@@error_rate0.1': 'good',\n",
       "  '@@@error_rate0.15': 'good',\n",
       "  '@@@error_rate0.2': 'good',\n",
       "  '@@@cos_sim4_0': 0,\n",
       "  '@@@cos_sim6_0': 0,\n",
       "  '@@@cos_sim8_0': 0,\n",
       "  '@@@cos_sim9_0': 0,\n",
       "  '@@@cos_sim95_0': 0,\n",
       "  '@@@cos_sim4_1': 0,\n",
       "  '@@@cos_sim6_1': 0,\n",
       "  '@@@cos_sim8_1': 0,\n",
       "  '@@@cos_sim9_1': 0,\n",
       "  '@@@cos_sim95_1': 0,\n",
       "  '@@@cos_sim4_2': 0,\n",
       "  '@@@cos_sim6_2': 0,\n",
       "  '@@@cos_sim8_2': 0,\n",
       "  '@@@cos_sim9_2': 0,\n",
       "  '@@@cos_sim95_2': 0,\n",
       "  '@@@cos_sim4_3': 0,\n",
       "  '@@@cos_sim6_3': 0,\n",
       "  '@@@cos_sim8_3': 0,\n",
       "  '@@@cos_sim9_3': 0,\n",
       "  '@@@cos_sim95_3': 0,\n",
       "  '@@@cos_sim4_4': 0,\n",
       "  '@@@cos_sim6_4': 0,\n",
       "  '@@@cos_sim8_4': 0,\n",
       "  '@@@cos_sim9_4': 0,\n",
       "  '@@@cos_sim95_4': 0,\n",
       "  '@@@cos_sim4_5': 0,\n",
       "  '@@@cos_sim6_5': 0,\n",
       "  '@@@cos_sim8_5': 0,\n",
       "  '@@@cos_sim9_5': 0,\n",
       "  '@@@cos_sim95_5': 0,\n",
       "  '@@@cos_sim4_6': 0,\n",
       "  '@@@cos_sim6_6': 0,\n",
       "  '@@@cos_sim8_6': 0,\n",
       "  '@@@cos_sim9_6': 0,\n",
       "  '@@@cos_sim95_6': 0,\n",
       "  '@@@cos_sim4_7': 0,\n",
       "  '@@@cos_sim6_7': 0,\n",
       "  '@@@cos_sim8_7': 0,\n",
       "  '@@@cos_sim9_7': 0,\n",
       "  '@@@cos_sim95_7': 0,\n",
       "  '@@@cos_sim4_8': 0,\n",
       "  '@@@cos_sim6_8': 0,\n",
       "  '@@@cos_sim8_8': 0,\n",
       "  '@@@cos_sim9_8': 0,\n",
       "  '@@@cos_sim95_8': 0,\n",
       "  '@@@cos_sim4_9': 0,\n",
       "  '@@@cos_sim6_9': 0,\n",
       "  '@@@cos_sim8_9': 0,\n",
       "  '@@@cos_sim9_9': 0,\n",
       "  '@@@cos_sim95_9': 0},\n",
       " 'useful')"
      ]
     },
     "execution_count": 164,
     "metadata": {},
     "output_type": "execute_result"
    }
   ],
   "source": [
    "feature_sets[0]"
   ]
  },
  {
   "cell_type": "code",
   "execution_count": null,
   "metadata": {},
   "outputs": [],
   "source": []
  },
  {
   "cell_type": "markdown",
   "metadata": {},
   "source": [
    "# Model training"
   ]
  },
  {
   "cell_type": "code",
   "execution_count": 165,
   "metadata": {},
   "outputs": [
    {
     "data": {
      "text/plain": [
       "10000"
      ]
     },
     "execution_count": 165,
     "metadata": {},
     "output_type": "execute_result"
    }
   ],
   "source": [
    "    import random\n",
    "    random.shuffle(feature_sets)\n",
    "    half=int(len(feature_sets)/2)\n",
    "    train_set, test_set = feature_sets[:half], feature_sets[half:]\n",
    "    half"
   ]
  },
  {
   "cell_type": "code",
   "execution_count": 166,
   "metadata": {},
   "outputs": [
    {
     "name": "stdout",
     "output_type": "stream",
     "text": [
      "0.6901\n"
     ]
    }
   ],
   "source": [
    "classifier = nltk.NaiveBayesClassifier.train(train_set)\n",
    "print(nltk.classify.accuracy(classifier, test_set))"
   ]
  },
  {
   "cell_type": "code",
   "execution_count": 167,
   "metadata": {},
   "outputs": [
    {
     "name": "stdout",
     "output_type": "stream",
     "text": [
      "Most Informative Features\n",
      "    contains(de&&&gallo) = 'Yes'          useful : not-us =     13.8 : 1.0\n",
      "     contains(pico&&&de) = 'Yes'          useful : not-us =     13.8 : 1.0\n",
      "contains(fellow&&&yelpers) = 'Yes'          useful : not-us =     12.5 : 1.0\n",
      "contains(vegetarian&&&options) = 'Yes'          useful : not-us =     10.3 : 1.0\n",
      "contains(grand&&&opening) = 'Yes'          useful : not-us =      8.4 : 1.0\n",
      "contains(amuse&&&bouche) = 'Yes'          useful : not-us =      7.7 : 1.0\n",
      "contains(facebook&&&page) = 'Yes'          useful : not-us =      7.7 : 1.0\n",
      "contains(halfway&&&through) = 'Yes'          useful : not-us =      7.7 : 1.0\n",
      "contains(saving&&&grace) = 'Yes'          useful : not-us =      7.5 : 1.0\n",
      "           @@@cos_sim6_9 = 1              not-us : useful =      7.3 : 1.0\n",
      "    contains(yelp&&&app) = 'Yes'          useful : not-us =      7.1 : 1.0\n",
      "contains(lightly&&&breaded) = 'Yes'          useful : not-us =      7.1 : 1.0\n",
      "contains(recently&&&opened) = 'Yes'          useful : not-us =      7.1 : 1.0\n",
      "  contains(salmon&&&roe) = 'Yes'          useful : not-us =      7.1 : 1.0\n",
      "contains(honey&&&mustard) = 'Yes'          useful : not-us =      7.1 : 1.0\n",
      "contains(bean&&&sprouts) = 'Yes'          useful : not-us =      7.1 : 1.0\n",
      "contains(limited&&&seating) = 'Yes'          useful : not-us =      7.1 : 1.0\n",
      "    contains(bok&&&choy) = 'Yes'          useful : not-us =      6.7 : 1.0\n",
      "contains(fremont&&&street) = 'Yes'          useful : not-us =      6.7 : 1.0\n",
      "   contains(blah&&&blah) = 'Yes'          useful : not-us =      6.4 : 1.0\n",
      "contains(green&&&peppers) = 'Yes'          useful : not-us =      6.4 : 1.0\n",
      " contains(entire&&&life) = 'Yes'          useful : not-us =      6.3 : 1.0\n",
      " contains(let's&&&start) = 'Yes'          useful : not-us =      6.3 : 1.0\n",
      " contains(near&&&future) = 'Yes'          useful : not-us =      5.7 : 1.0\n",
      "contains(deviled&&&eggs) = 'Yes'          useful : not-us =      5.7 : 1.0\n",
      "contains(chinese&&&cuisine) = 'Yes'          useful : not-us =      5.7 : 1.0\n",
      "contains(pickled&&&vegetables) = 'Yes'          useful : not-us =      5.7 : 1.0\n",
      " contains(pepper&&&jack) = 'Yes'          useful : not-us =      5.7 : 1.0\n",
      "  contains(angel&&&hair) = 'Yes'          useful : not-us =      5.7 : 1.0\n",
      "  contains(sea&&&urchin) = 'Yes'          useful : not-us =      5.7 : 1.0\n"
     ]
    }
   ],
   "source": [
    "classifier.show_most_informative_features(30)"
   ]
  },
  {
   "cell_type": "code",
   "execution_count": null,
   "metadata": {},
   "outputs": [],
   "source": [
    "\n",
    "\n"
   ]
  },
  {
   "cell_type": "code",
   "execution_count": null,
   "metadata": {},
   "outputs": [],
   "source": []
  },
  {
   "cell_type": "code",
   "execution_count": null,
   "metadata": {},
   "outputs": [],
   "source": []
  },
  {
   "cell_type": "code",
   "execution_count": null,
   "metadata": {},
   "outputs": [],
   "source": []
  },
  {
   "cell_type": "code",
   "execution_count": null,
   "metadata": {},
   "outputs": [],
   "source": []
  },
  {
   "cell_type": "code",
   "execution_count": null,
   "metadata": {},
   "outputs": [],
   "source": []
  },
  {
   "cell_type": "code",
   "execution_count": null,
   "metadata": {},
   "outputs": [],
   "source": []
  },
  {
   "cell_type": "code",
   "execution_count": null,
   "metadata": {},
   "outputs": [],
   "source": []
  },
  {
   "cell_type": "markdown",
   "metadata": {},
   "source": [
    "# get feature matrix"
   ]
  },
  {
   "cell_type": "code",
   "execution_count": 168,
   "metadata": {},
   "outputs": [],
   "source": [
    "\n",
    "X, Y = [x[0] for x in feature_sets], [x[1] for x in feature_sets]"
   ]
  },
  {
   "cell_type": "code",
   "execution_count": null,
   "metadata": {
    "scrolled": false
   },
   "outputs": [],
   "source": []
  },
  {
   "cell_type": "code",
   "execution_count": 169,
   "metadata": {},
   "outputs": [],
   "source": [
    "from sklearn.datasets import fetch_20newsgroups\n",
    "from sklearn.feature_selection import mutual_info_classif\n",
    "from sklearn.feature_extraction.text import CountVectorizer"
   ]
  },
  {
   "cell_type": "code",
   "execution_count": 170,
   "metadata": {},
   "outputs": [
    {
     "data": {
      "text/plain": [
       "{'contains(dim&&&sum)': 'Yes',\n",
       " 'contains(sesame&&&balls)': 'Yes',\n",
       " 'contains(creme&&&bun)': 'Yes',\n",
       " 'contains(bamboo&&&leaf)': 'Yes',\n",
       " 'contains(sum&&&anytime)': 'Yes',\n",
       " '@@@stars': 4,\n",
       " '@@@bus_stars': 3.5,\n",
       " '@@@review_length': 'middle',\n",
       " '@@@review_length50': 'middle',\n",
       " '@@@review_length100': 'middle',\n",
       " '@@@review_length150': 'short',\n",
       " '@@@review_length35': 'middle',\n",
       " '@@@review_length75': 'middle',\n",
       " '@@@error_rate0.02': 'good',\n",
       " '@@@error_rate0.05': 'good',\n",
       " '@@@error_rate0.1': 'good',\n",
       " '@@@error_rate0.15': 'good',\n",
       " '@@@error_rate0.2': 'good',\n",
       " '@@@cos_sim4_0': 0,\n",
       " '@@@cos_sim6_0': 0,\n",
       " '@@@cos_sim8_0': 0,\n",
       " '@@@cos_sim9_0': 0,\n",
       " '@@@cos_sim95_0': 0,\n",
       " '@@@cos_sim4_1': 0,\n",
       " '@@@cos_sim6_1': 0,\n",
       " '@@@cos_sim8_1': 0,\n",
       " '@@@cos_sim9_1': 0,\n",
       " '@@@cos_sim95_1': 0,\n",
       " '@@@cos_sim4_2': 0,\n",
       " '@@@cos_sim6_2': 0,\n",
       " '@@@cos_sim8_2': 0,\n",
       " '@@@cos_sim9_2': 0,\n",
       " '@@@cos_sim95_2': 0,\n",
       " '@@@cos_sim4_3': 0,\n",
       " '@@@cos_sim6_3': 0,\n",
       " '@@@cos_sim8_3': 0,\n",
       " '@@@cos_sim9_3': 0,\n",
       " '@@@cos_sim95_3': 0,\n",
       " '@@@cos_sim4_4': 0,\n",
       " '@@@cos_sim6_4': 0,\n",
       " '@@@cos_sim8_4': 0,\n",
       " '@@@cos_sim9_4': 0,\n",
       " '@@@cos_sim95_4': 0,\n",
       " '@@@cos_sim4_5': 0,\n",
       " '@@@cos_sim6_5': 0,\n",
       " '@@@cos_sim8_5': 0,\n",
       " '@@@cos_sim9_5': 0,\n",
       " '@@@cos_sim95_5': 0,\n",
       " '@@@cos_sim4_6': 0,\n",
       " '@@@cos_sim6_6': 0,\n",
       " '@@@cos_sim8_6': 0,\n",
       " '@@@cos_sim9_6': 0,\n",
       " '@@@cos_sim95_6': 0,\n",
       " '@@@cos_sim4_7': 0,\n",
       " '@@@cos_sim6_7': 0,\n",
       " '@@@cos_sim8_7': 0,\n",
       " '@@@cos_sim9_7': 0,\n",
       " '@@@cos_sim95_7': 0,\n",
       " '@@@cos_sim4_8': 0,\n",
       " '@@@cos_sim6_8': 0,\n",
       " '@@@cos_sim8_8': 0,\n",
       " '@@@cos_sim9_8': 0,\n",
       " '@@@cos_sim95_8': 0,\n",
       " '@@@cos_sim4_9': 0,\n",
       " '@@@cos_sim6_9': 0,\n",
       " '@@@cos_sim8_9': 0,\n",
       " '@@@cos_sim9_9': 0,\n",
       " '@@@cos_sim95_9': 0}"
      ]
     },
     "execution_count": 170,
     "metadata": {},
     "output_type": "execute_result"
    }
   ],
   "source": [
    "X[0]"
   ]
  },
  {
   "cell_type": "code",
   "execution_count": 171,
   "metadata": {},
   "outputs": [],
   "source": [
    "cv_gain = CountVectorizer(max_df=0.95, min_df=2,\n",
    "                                     max_features=10000)"
   ]
  },
  {
   "cell_type": "code",
   "execution_count": 172,
   "metadata": {},
   "outputs": [],
   "source": [
    "all_keys=[set(x.keys()) for x in X]"
   ]
  },
  {
   "cell_type": "code",
   "execution_count": 173,
   "metadata": {},
   "outputs": [],
   "source": [
    "import functools\n",
    "all_fs=functools.reduce(lambda a,b: a.union(b), all_keys)\n",
    "all_fs=list(all_fs)"
   ]
  },
  {
   "cell_type": "code",
   "execution_count": 174,
   "metadata": {
    "scrolled": false
   },
   "outputs": [
    {
     "data": {
      "text/plain": [
       "113648"
      ]
     },
     "execution_count": 174,
     "metadata": {},
     "output_type": "execute_result"
    }
   ],
   "source": [
    "len(all_fs)"
   ]
  },
  {
   "cell_type": "code",
   "execution_count": 175,
   "metadata": {},
   "outputs": [],
   "source": [
    "def get_int(val):\n",
    "    if isinstance(val, int):\n",
    "        return val\n",
    "    if isinstance(val, float):\n",
    "        return val\n",
    "    vals={\"Yes\":1, \"No\":0, \"middle\":1, \"long\":2, \"short\":0, \"good\":1, \"bad\":0}\n",
    "    return vals[val]"
   ]
  },
  {
   "cell_type": "code",
   "execution_count": 176,
   "metadata": {},
   "outputs": [],
   "source": [
    "#X_matrix=[]\n",
    "#\n",
    "#for x in X:\n",
    "#    row=[]\n",
    "#    for key in all_fs:\n",
    "#        if key in x:\n",
    "#            row.append(get_int(x[key]))\n",
    "#        else:\n",
    "#            row.append(0)\n",
    "#    X_matrix.append(row)"
   ]
  },
  {
   "cell_type": "code",
   "execution_count": 177,
   "metadata": {},
   "outputs": [],
   "source": [
    "import scipy"
   ]
  },
  {
   "cell_type": "code",
   "execution_count": 178,
   "metadata": {},
   "outputs": [],
   "source": [
    "row=[]\n",
    "x=X[0]\n",
    "\n",
    "for key in all_fs:\n",
    "    if key in x:\n",
    "        row.append(get_int(x[key]))\n",
    "    else:\n",
    "        row.append(0)\n",
    "        \n",
    "X_matrix=scipy.sparse.lil_matrix([row])\n",
    "\n",
    "i=0\n",
    "for x in X[1:]:\n",
    "    row=[]\n",
    "    for key in all_fs:\n",
    "        if key in x:\n",
    "            row.append(get_int(x[key]))\n",
    "        else:\n",
    "            row.append(0)\n",
    "    X_matrix=scipy.sparse.vstack((X_matrix, scipy.sparse.lil_matrix([row])))\n",
    "    i+=1\n",
    "    #if i==1000:\n",
    "       #break"
   ]
  },
  {
   "cell_type": "code",
   "execution_count": 179,
   "metadata": {},
   "outputs": [
    {
     "data": {
      "text/plain": [
       "20000"
      ]
     },
     "execution_count": 179,
     "metadata": {},
     "output_type": "execute_result"
    }
   ],
   "source": [
    "len(X)"
   ]
  },
  {
   "cell_type": "code",
   "execution_count": 180,
   "metadata": {},
   "outputs": [
    {
     "data": {
      "text/plain": [
       "<20000x113648 sparse matrix of type '<class 'numpy.float64'>'\n",
       "\twith 380942 stored elements in COOrdinate format>"
      ]
     },
     "execution_count": 180,
     "metadata": {},
     "output_type": "execute_result"
    }
   ],
   "source": [
    "X_matrix"
   ]
  },
  {
   "cell_type": "code",
   "execution_count": null,
   "metadata": {},
   "outputs": [],
   "source": []
  },
  {
   "cell_type": "markdown",
   "metadata": {},
   "source": [
    "## Dimension reduction - LSA - SVD"
   ]
  },
  {
   "cell_type": "code",
   "execution_count": 181,
   "metadata": {},
   "outputs": [],
   "source": [
    "from sklearn.decomposition import TruncatedSVD\n",
    "from sklearn.preprocessing import scale"
   ]
  },
  {
   "cell_type": "code",
   "execution_count": 182,
   "metadata": {},
   "outputs": [],
   "source": [
    "svd = TruncatedSVD(n_components = 100)\n",
    "#scale(X_matrix.tocsc())\n",
    "svdMatrix = svd.fit_transform(X_matrix)"
   ]
  },
  {
   "cell_type": "code",
   "execution_count": 183,
   "metadata": {},
   "outputs": [],
   "source": [
    "feature_set_reduced = [ (dict(enumerate(x)),y) for (x,y) in zip(svdMatrix, Y)]"
   ]
  },
  {
   "cell_type": "code",
   "execution_count": 184,
   "metadata": {},
   "outputs": [
    {
     "data": {
      "text/plain": [
       "10000"
      ]
     },
     "execution_count": 184,
     "metadata": {},
     "output_type": "execute_result"
    }
   ],
   "source": [
    "random.shuffle(feature_set_reduced)\n",
    "half=int(len(feature_sets)/2)\n",
    "train_set, test_set = feature_sets[:half], feature_sets[half:]\n",
    "half"
   ]
  },
  {
   "cell_type": "code",
   "execution_count": null,
   "metadata": {},
   "outputs": [],
   "source": []
  },
  {
   "cell_type": "code",
   "execution_count": null,
   "metadata": {},
   "outputs": [],
   "source": []
  },
  {
   "cell_type": "code",
   "execution_count": null,
   "metadata": {},
   "outputs": [],
   "source": []
  },
  {
   "cell_type": "code",
   "execution_count": null,
   "metadata": {},
   "outputs": [],
   "source": []
  },
  {
   "cell_type": "code",
   "execution_count": null,
   "metadata": {},
   "outputs": [],
   "source": []
  },
  {
   "cell_type": "markdown",
   "metadata": {},
   "source": [
    "# training"
   ]
  },
  {
   "cell_type": "code",
   "execution_count": 185,
   "metadata": {
    "scrolled": false
   },
   "outputs": [
    {
     "name": "stdout",
     "output_type": "stream",
     "text": [
      "0.6901\n"
     ]
    }
   ],
   "source": [
    "classifier = nltk.NaiveBayesClassifier.train(train_set)\n",
    "print(nltk.classify.accuracy(classifier, test_set))"
   ]
  },
  {
   "cell_type": "code",
   "execution_count": null,
   "metadata": {},
   "outputs": [],
   "source": []
  },
  {
   "cell_type": "code",
   "execution_count": null,
   "metadata": {},
   "outputs": [],
   "source": []
  },
  {
   "cell_type": "code",
   "execution_count": null,
   "metadata": {},
   "outputs": [],
   "source": []
  },
  {
   "cell_type": "code",
   "execution_count": null,
   "metadata": {},
   "outputs": [],
   "source": []
  },
  {
   "cell_type": "code",
   "execution_count": null,
   "metadata": {},
   "outputs": [],
   "source": []
  },
  {
   "cell_type": "code",
   "execution_count": null,
   "metadata": {},
   "outputs": [],
   "source": []
  },
  {
   "cell_type": "code",
   "execution_count": null,
   "metadata": {},
   "outputs": [],
   "source": []
  },
  {
   "cell_type": "code",
   "execution_count": null,
   "metadata": {},
   "outputs": [],
   "source": []
  },
  {
   "cell_type": "markdown",
   "metadata": {},
   "source": [
    "# get feature matrix"
   ]
  },
  {
   "cell_type": "code",
   "execution_count": 186,
   "metadata": {},
   "outputs": [],
   "source": [
    "\n",
    "X, Y = [x[0] for x in test_set], [x[1] for x in test_set]"
   ]
  },
  {
   "cell_type": "code",
   "execution_count": null,
   "metadata": {
    "scrolled": false
   },
   "outputs": [],
   "source": []
  },
  {
   "cell_type": "code",
   "execution_count": 187,
   "metadata": {},
   "outputs": [],
   "source": [
    "from sklearn.datasets import fetch_20newsgroups\n",
    "from sklearn.feature_selection import mutual_info_classif\n",
    "from sklearn.feature_extraction.text import CountVectorizer"
   ]
  },
  {
   "cell_type": "code",
   "execution_count": 188,
   "metadata": {},
   "outputs": [
    {
     "data": {
      "text/plain": [
       "{'contains(american&&&comfort)': 'Yes',\n",
       " 'contains(imaginative&&&salads)': 'Yes',\n",
       " 'contains(250&&&selections)': 'Yes',\n",
       " 'contains(heavy&&&100)': 'Yes',\n",
       " 'contains(100&&&degree)': 'Yes',\n",
       " 'contains(degree&&&heat)': 'Yes',\n",
       " 'contains(worked&&&fine)': 'Yes',\n",
       " 'contains(baby&&&lettuce)': 'Yes',\n",
       " 'contains(fennel&&&blue)': 'Yes',\n",
       " 'contains(citrus&&&balsamic)': 'Yes',\n",
       " 'contains(balsamic&&&vinaigrette)': 'Yes',\n",
       " 'contains(bone-in&&&ribeye)': 'Yes',\n",
       " 'contains(popular&&&cut)': 'Yes',\n",
       " 'contains(18&&&oz)': 'Yes',\n",
       " \"contains(chef's&&&butter)\": 'Yes',\n",
       " 'contains(sins&&&behind)': 'Yes',\n",
       " 'contains(behind&&&butter)': 'Yes',\n",
       " 'contains(creek&&&farms)': 'Yes',\n",
       " 'contains(farms&&&natural)': 'Yes',\n",
       " 'contains(natural&&&black)': 'Yes',\n",
       " 'contains(black&&&angus)': 'Yes',\n",
       " 'contains(vegetarian&&&fed)': 'Yes',\n",
       " 'contains(n&&&waffles)': 'Yes',\n",
       " 'contains(slight&&&mix-up)': 'Yes',\n",
       " \"contains(they're&&&washing)\": 'Yes',\n",
       " 'contains(alexander&&&valley)': 'Yes',\n",
       " 'contains(solid&&&choice)': 'Yes',\n",
       " '@@@stars': 4,\n",
       " '@@@bus_stars': 3.5,\n",
       " '@@@review_length': 'long',\n",
       " '@@@review_length50': 'middle',\n",
       " '@@@review_length100': 'middle',\n",
       " '@@@review_length150': 'middle',\n",
       " '@@@review_length35': 'middle',\n",
       " '@@@review_length75': 'middle',\n",
       " '@@@error_rate0.02': 'good',\n",
       " '@@@error_rate0.05': 'good',\n",
       " '@@@error_rate0.1': 'good',\n",
       " '@@@error_rate0.15': 'good',\n",
       " '@@@error_rate0.2': 'good',\n",
       " '@@@cos_sim4_0': 0,\n",
       " '@@@cos_sim6_0': 0,\n",
       " '@@@cos_sim8_0': 0,\n",
       " '@@@cos_sim9_0': 0,\n",
       " '@@@cos_sim95_0': 0,\n",
       " '@@@cos_sim4_1': 0,\n",
       " '@@@cos_sim6_1': 0,\n",
       " '@@@cos_sim8_1': 0,\n",
       " '@@@cos_sim9_1': 0,\n",
       " '@@@cos_sim95_1': 0,\n",
       " '@@@cos_sim4_2': 0,\n",
       " '@@@cos_sim6_2': 0,\n",
       " '@@@cos_sim8_2': 0,\n",
       " '@@@cos_sim9_2': 0,\n",
       " '@@@cos_sim95_2': 0,\n",
       " '@@@cos_sim4_3': 0,\n",
       " '@@@cos_sim6_3': 0,\n",
       " '@@@cos_sim8_3': 0,\n",
       " '@@@cos_sim9_3': 0,\n",
       " '@@@cos_sim95_3': 0,\n",
       " '@@@cos_sim4_4': 0,\n",
       " '@@@cos_sim6_4': 0,\n",
       " '@@@cos_sim8_4': 0,\n",
       " '@@@cos_sim9_4': 0,\n",
       " '@@@cos_sim95_4': 0,\n",
       " '@@@cos_sim4_5': 0,\n",
       " '@@@cos_sim6_5': 0,\n",
       " '@@@cos_sim8_5': 0,\n",
       " '@@@cos_sim9_5': 0,\n",
       " '@@@cos_sim95_5': 0,\n",
       " '@@@cos_sim4_6': 0,\n",
       " '@@@cos_sim6_6': 0,\n",
       " '@@@cos_sim8_6': 0,\n",
       " '@@@cos_sim9_6': 0,\n",
       " '@@@cos_sim95_6': 0,\n",
       " '@@@cos_sim4_7': 0,\n",
       " '@@@cos_sim6_7': 0,\n",
       " '@@@cos_sim8_7': 0,\n",
       " '@@@cos_sim9_7': 0,\n",
       " '@@@cos_sim95_7': 0,\n",
       " '@@@cos_sim4_8': 0,\n",
       " '@@@cos_sim6_8': 0,\n",
       " '@@@cos_sim8_8': 0,\n",
       " '@@@cos_sim9_8': 0,\n",
       " '@@@cos_sim95_8': 0,\n",
       " '@@@cos_sim4_9': 0,\n",
       " '@@@cos_sim6_9': 0,\n",
       " '@@@cos_sim8_9': 0,\n",
       " '@@@cos_sim9_9': 0,\n",
       " '@@@cos_sim95_9': 0}"
      ]
     },
     "execution_count": 188,
     "metadata": {},
     "output_type": "execute_result"
    }
   ],
   "source": [
    "X[0]"
   ]
  },
  {
   "cell_type": "code",
   "execution_count": 189,
   "metadata": {},
   "outputs": [],
   "source": [
    "cv_gain = CountVectorizer(max_df=0.95, min_df=2,\n",
    "                                     max_features=10000)"
   ]
  },
  {
   "cell_type": "code",
   "execution_count": 190,
   "metadata": {},
   "outputs": [],
   "source": [
    "all_keys=[set(x.keys()) for x in X]"
   ]
  },
  {
   "cell_type": "code",
   "execution_count": 191,
   "metadata": {},
   "outputs": [],
   "source": [
    "import functools\n",
    "all_fs=functools.reduce(lambda a,b: a.union(b), all_keys)\n",
    "all_fs=list(all_fs)"
   ]
  },
  {
   "cell_type": "code",
   "execution_count": 192,
   "metadata": {
    "scrolled": false
   },
   "outputs": [
    {
     "data": {
      "text/plain": [
       "63212"
      ]
     },
     "execution_count": 192,
     "metadata": {},
     "output_type": "execute_result"
    }
   ],
   "source": [
    "len(all_fs)"
   ]
  },
  {
   "cell_type": "code",
   "execution_count": 193,
   "metadata": {},
   "outputs": [],
   "source": [
    "def get_int(val):\n",
    "    if isinstance(val, int):\n",
    "        return val\n",
    "    if isinstance(val, float):\n",
    "        return val\n",
    "    vals={\"Yes\":1, \"No\":0, \"middle\":1, \"long\":2, \"short\":0, \"good\":1, \"bad\":0}\n",
    "    return vals[val]"
   ]
  },
  {
   "cell_type": "code",
   "execution_count": 194,
   "metadata": {},
   "outputs": [],
   "source": [
    "#X_matrix=[]\n",
    "#\n",
    "#for x in X:\n",
    "#    row=[]\n",
    "#    for key in all_fs:\n",
    "#        if key in x:\n",
    "#            row.append(get_int(x[key]))\n",
    "#        else:\n",
    "#            row.append(0)\n",
    "#    X_matrix.append(row)"
   ]
  },
  {
   "cell_type": "code",
   "execution_count": 195,
   "metadata": {},
   "outputs": [],
   "source": [
    "import scipy"
   ]
  },
  {
   "cell_type": "code",
   "execution_count": 196,
   "metadata": {},
   "outputs": [],
   "source": [
    "row=[]\n",
    "x=X[0]\n",
    "\n",
    "for key in all_fs:\n",
    "    if key in x:\n",
    "        row.append(get_int(x[key]))\n",
    "    else:\n",
    "        row.append(0)\n",
    "        \n",
    "X_matrix=scipy.sparse.lil_matrix([row])\n",
    "\n",
    "i=0\n",
    "for x in X[1:]:\n",
    "    row=[]\n",
    "    for key in all_fs:\n",
    "        if key in x:\n",
    "            row.append(get_int(x[key]))\n",
    "        else:\n",
    "            row.append(0)\n",
    "    X_matrix=scipy.sparse.vstack((X_matrix, scipy.sparse.lil_matrix([row])))\n",
    "    i+=1\n",
    "    #if i==1000:\n",
    "       #break"
   ]
  },
  {
   "cell_type": "code",
   "execution_count": 197,
   "metadata": {},
   "outputs": [
    {
     "data": {
      "text/plain": [
       "10000"
      ]
     },
     "execution_count": 197,
     "metadata": {},
     "output_type": "execute_result"
    }
   ],
   "source": [
    "len(X)"
   ]
  },
  {
   "cell_type": "code",
   "execution_count": 198,
   "metadata": {},
   "outputs": [
    {
     "data": {
      "text/plain": [
       "<10000x63212 sparse matrix of type '<class 'numpy.float64'>'\n",
       "\twith 191096 stored elements in COOrdinate format>"
      ]
     },
     "execution_count": 198,
     "metadata": {},
     "output_type": "execute_result"
    }
   ],
   "source": [
    "X_matrix"
   ]
  },
  {
   "cell_type": "markdown",
   "metadata": {},
   "source": [
    "# information gaion"
   ]
  },
  {
   "cell_type": "code",
   "execution_count": null,
   "metadata": {},
   "outputs": [],
   "source": []
  },
  {
   "cell_type": "code",
   "execution_count": 199,
   "metadata": {},
   "outputs": [],
   "source": [
    "res_gain = list(zip(all_fs, mutual_info_classif(X_matrix, Y, discrete_features=True)))"
   ]
  },
  {
   "cell_type": "code",
   "execution_count": 200,
   "metadata": {},
   "outputs": [],
   "source": [
    "#res_gain"
   ]
  },
  {
   "cell_type": "code",
   "execution_count": 201,
   "metadata": {},
   "outputs": [
    {
     "data": {
      "text/plain": [
       "[('contains(baked&&&potato)', 0.0006199877278830249),\n",
       " ('@@@cos_sim4_9', 0.0034275782093818284),\n",
       " ('contains(stir&&&fry)', 0.0006140375422115719),\n",
       " ('contains(dark&&&wood)', 0.0005572076583861886),\n",
       " ('contains(players&&&card)', 0.0005510041267192045),\n",
       " ('contains(months&&&ago)', 0.0006667444121236715),\n",
       " ('contains(7th&&&street)', 0.0006888543809776462),\n",
       " ('@@@review_length35', 0.0353567247913978),\n",
       " ('contains(yelp&&&deal)', 0.000619924288264702),\n",
       " ('contains(positive&&&note)', 0.0006888543809776462),\n",
       " ('contains(corn&&&tortillas)', 0.000501173585328935),\n",
       " ('contains(365&&&challenge)', 0.000619924288264702),\n",
       " ('contains(gordon&&&ramsay)', 0.000619924288264702),\n",
       " ('contains(bring&&&cash)', 0.000619924288264702),\n",
       " (\"contains(friend's&&&birthday)\", 0.0005438790313004719),\n",
       " ('contains(extra&&&crispy)', 0.0005438790313004719),\n",
       " ('@@@review_length75', 0.07334312233540027),\n",
       " ('contains(iced&&&tea)', 0.001035158920946723),\n",
       " ('contains(thinly&&&sliced)', 0.0007848973821103712),\n",
       " ('@@@error_rate0.1', 0.002798921586535129),\n",
       " ('contains(wild&&&mushrooms)', 0.0005510041267192045),\n",
       " ('contains(second&&&floor)', 0.0006669399002764274),\n",
       " ('contains(entire&&&life)', 0.0009185088572427304),\n",
       " ('contains(upon&&&entering)', 0.000838811784755832),\n",
       " ('contains(green&&&beans)', 0.0005793239314745109),\n",
       " ('contains(pay&&&attention)', 0.0008957042759108625),\n",
       " ('contains(olive&&&oil)', 0.0006954116100073467),\n",
       " ('contains(mac&&&n)', 0.0006954116100073467),\n",
       " ('contains(grand&&&opening)', 0.0006969460928481601),\n",
       " ('contains(15&&&%)', 0.000501173585328935),\n",
       " ('contains(real&&&estate)', 0.0005510041267192045),\n",
       " ('contains(stop&&&reading)', 0.0005510041267192045),\n",
       " ('contains(pot&&&stickers)', 0.0007297386394115527),\n",
       " ('@@@review_length50', 0.05222510337226674),\n",
       " (\"contains(let's&&&start)\", 0.000619924288264702),\n",
       " ('@@@stars', 0.015477931467260106),\n",
       " ('@@@review_length150', 0.07475263641279895),\n",
       " ('contains(black&&&truffle)', 0.0009646741230753125),\n",
       " ('contains(braised&&&short)', 0.0005510041267192045),\n",
       " ('@@@bus_stars', 0.001927710835748127),\n",
       " ('contains(hip&&&hop)', 0.0009217855571085989),\n",
       " ('contains(call&&&ahead)', 0.0005758186141915805),\n",
       " ('@@@cos_sim4_6', 0.0009799378024624404),\n",
       " ('contains(front&&&door)', 0.0006203846071669338),\n",
       " ('contains(%&&&gratuity)', 0.0006140375422115719),\n",
       " ('contains(dance&&&floor)', 0.0005949526140865136),\n",
       " (\"contains(won't&&&leave)\", 0.0005510041267192045),\n",
       " ('contains(green&&&onions)', 0.0007522956348721931),\n",
       " ('contains(salmon&&&roe)', 0.0005510041267192045),\n",
       " ('@@@review_length', 0.09310700900951199),\n",
       " ('contains(alaskan&&&king)', 0.0005510041267192045),\n",
       " ('@@@error_rate0.05', 0.0028686314948416225),\n",
       " ('contains(parking&&&spots)', 0.0005510041267192045),\n",
       " ('contains(wicked&&&spoon)', 0.0006250979284217091),\n",
       " ('contains(authentic&&&italian)', 0.0006140375422115719),\n",
       " ('@@@error_rate0.15', 0.0009547665406199985),\n",
       " ('contains(foie&&&gras)', 0.0006036711275984111),\n",
       " ('contains(generous&&&portion)', 0.0005351477356403214),\n",
       " ('contains(holy&&&crap)', 0.0006669399002764274),\n",
       " ('contains(overly&&&salty)', 0.0006140375422115719),\n",
       " ('contains(fellow&&&yelpers)', 0.0005572076583861886),\n",
       " ('contains(yelp&&&spring)', 0.000619924288264702),\n",
       " ('contains(credit&&&card)', 0.0007656366629671613),\n",
       " ('contains(yelp&&&365)', 0.0007577944078420336),\n",
       " ('@@@review_length100', 0.07851208762784664)]"
      ]
     },
     "execution_count": 201,
     "metadata": {},
     "output_type": "execute_result"
    }
   ],
   "source": [
    "[(x,y) for (x,y) in res_gain if y>0.0005]"
   ]
  },
  {
   "cell_type": "code",
   "execution_count": 202,
   "metadata": {},
   "outputs": [
    {
     "data": {
      "text/plain": [
       "[('@@@cos_sim4_9', 0.0034275782093818284),\n",
       " ('@@@review_length35', 0.0353567247913978),\n",
       " ('@@@review_length75', 0.07334312233540027),\n",
       " ('contains(iced&&&tea)', 0.001035158920946723),\n",
       " ('@@@error_rate0.1', 0.002798921586535129),\n",
       " ('@@@review_length50', 0.05222510337226674),\n",
       " ('@@@stars', 0.015477931467260106),\n",
       " ('@@@review_length150', 0.07475263641279895),\n",
       " ('@@@bus_stars', 0.001927710835748127),\n",
       " ('@@@review_length', 0.09310700900951199),\n",
       " ('@@@error_rate0.05', 0.0028686314948416225),\n",
       " ('@@@review_length100', 0.07851208762784664)]"
      ]
     },
     "execution_count": 202,
     "metadata": {},
     "output_type": "execute_result"
    }
   ],
   "source": [
    "[(x,y) for (x,y) in res_gain if y>0.001]"
   ]
  },
  {
   "cell_type": "code",
   "execution_count": null,
   "metadata": {},
   "outputs": [],
   "source": []
  },
  {
   "cell_type": "code",
   "execution_count": 203,
   "metadata": {},
   "outputs": [
    {
     "data": {
      "text/plain": [
       "[('@@@bus_stars', 0.001927710835748127),\n",
       " ('@@@cos_sim4_0', 0.00011261140604302113),\n",
       " ('@@@cos_sim4_1', 6.88408191077118e-05),\n",
       " ('@@@cos_sim4_2', 6.88408191077118e-05),\n",
       " ('@@@cos_sim4_3', 9.097929397882017e-06),\n",
       " ('@@@cos_sim4_4', 8.881784197001252e-16),\n",
       " ('@@@cos_sim4_5', 8.881784197001252e-16),\n",
       " ('@@@cos_sim4_6', 0.0009799378024624404),\n",
       " ('@@@cos_sim4_7', 8.881784197001252e-16),\n",
       " ('@@@cos_sim4_8', 2.529338507001235e-05),\n",
       " ('@@@cos_sim4_9', 0.0034275782093818284),\n",
       " ('@@@cos_sim6_0', 6.88408191077118e-05),\n",
       " ('@@@cos_sim6_1', 6.88408191077118e-05),\n",
       " ('@@@cos_sim6_2', 8.881784197001252e-16),\n",
       " ('@@@cos_sim6_3', 6.88408191077118e-05),\n",
       " ('@@@cos_sim6_4', 8.881784197001252e-16),\n",
       " ('@@@cos_sim6_5', 8.881784197001252e-16),\n",
       " ('@@@cos_sim6_6', 6.88408191077118e-05),\n",
       " ('@@@cos_sim6_7', 8.881784197001252e-16),\n",
       " ('@@@cos_sim6_8', 8.881784197001252e-16),\n",
       " ('@@@cos_sim6_9', 0.0001883371947693285),\n",
       " ('@@@cos_sim8_0', 6.88408191077118e-05),\n",
       " ('@@@cos_sim8_1', 6.88408191077118e-05),\n",
       " ('@@@cos_sim8_2', 8.881784197001252e-16),\n",
       " ('@@@cos_sim8_3', 6.88408191077118e-05),\n",
       " ('@@@cos_sim8_4', 8.881784197001252e-16),\n",
       " ('@@@cos_sim8_5', 8.881784197001252e-16),\n",
       " ('@@@cos_sim8_6', 6.88408191077118e-05),\n",
       " ('@@@cos_sim8_7', 8.881784197001252e-16),\n",
       " ('@@@cos_sim8_8', 8.881784197001252e-16),\n",
       " ('@@@cos_sim8_9', 0.00013769154563264357),\n",
       " ('@@@cos_sim95_0', 6.88408191077118e-05),\n",
       " ('@@@cos_sim95_1', 6.88408191077118e-05),\n",
       " ('@@@cos_sim95_2', 8.881784197001252e-16),\n",
       " ('@@@cos_sim95_3', 6.88408191077118e-05),\n",
       " ('@@@cos_sim95_4', 8.881784197001252e-16),\n",
       " ('@@@cos_sim95_5', 8.881784197001252e-16),\n",
       " ('@@@cos_sim95_6', 6.88408191077118e-05),\n",
       " ('@@@cos_sim95_7', 8.881784197001252e-16),\n",
       " ('@@@cos_sim95_8', 8.881784197001252e-16),\n",
       " ('@@@cos_sim95_9', 6.88408191077118e-05),\n",
       " ('@@@cos_sim9_0', 6.88408191077118e-05),\n",
       " ('@@@cos_sim9_1', 6.88408191077118e-05),\n",
       " ('@@@cos_sim9_2', 8.881784197001252e-16),\n",
       " ('@@@cos_sim9_3', 6.88408191077118e-05),\n",
       " ('@@@cos_sim9_4', 8.881784197001252e-16),\n",
       " ('@@@cos_sim9_5', 8.881784197001252e-16),\n",
       " ('@@@cos_sim9_6', 6.88408191077118e-05),\n",
       " ('@@@cos_sim9_7', 8.881784197001252e-16),\n",
       " ('@@@cos_sim9_8', 8.881784197001252e-16),\n",
       " ('@@@cos_sim9_9', 6.88408191077118e-05),\n",
       " ('@@@error_rate0.02', 1.1553191092805726e-05),\n",
       " ('@@@error_rate0.05', 0.0028686314948416225),\n",
       " ('@@@error_rate0.1', 0.002798921586535129),\n",
       " ('@@@error_rate0.15', 0.0009547665406199985),\n",
       " ('@@@error_rate0.2', 0.0003422383902631182),\n",
       " ('@@@review_length', 0.09310700900951199),\n",
       " ('@@@review_length100', 0.07851208762784664),\n",
       " ('@@@review_length150', 0.07475263641279895),\n",
       " ('@@@review_length35', 0.0353567247913978),\n",
       " ('@@@review_length50', 0.05222510337226674),\n",
       " ('@@@review_length75', 0.07334312233540027),\n",
       " ('@@@stars', 0.015477931467260106)]"
      ]
     },
     "execution_count": 203,
     "metadata": {},
     "output_type": "execute_result"
    }
   ],
   "source": [
    "sorted([(x,y) for (x,y) in res_gain if x[:3]==\"@@@\"])"
   ]
  },
  {
   "cell_type": "code",
   "execution_count": null,
   "metadata": {},
   "outputs": [],
   "source": []
  },
  {
   "cell_type": "code",
   "execution_count": null,
   "metadata": {},
   "outputs": [],
   "source": []
  },
  {
   "cell_type": "code",
   "execution_count": null,
   "metadata": {},
   "outputs": [],
   "source": []
  },
  {
   "cell_type": "code",
   "execution_count": null,
   "metadata": {},
   "outputs": [],
   "source": []
  },
  {
   "cell_type": "code",
   "execution_count": null,
   "metadata": {},
   "outputs": [],
   "source": []
  },
  {
   "cell_type": "code",
   "execution_count": null,
   "metadata": {},
   "outputs": [],
   "source": []
  },
  {
   "cell_type": "code",
   "execution_count": null,
   "metadata": {},
   "outputs": [],
   "source": []
  },
  {
   "cell_type": "code",
   "execution_count": null,
   "metadata": {},
   "outputs": [],
   "source": []
  },
  {
   "cell_type": "code",
   "execution_count": null,
   "metadata": {},
   "outputs": [],
   "source": []
  },
  {
   "cell_type": "code",
   "execution_count": null,
   "metadata": {},
   "outputs": [],
   "source": []
  },
  {
   "cell_type": "code",
   "execution_count": null,
   "metadata": {},
   "outputs": [],
   "source": []
  }
 ],
 "metadata": {
  "kernelspec": {
   "display_name": "Python 3",
   "language": "python",
   "name": "python3"
  },
  "language_info": {
   "codemirror_mode": {
    "name": "ipython",
    "version": 3
   },
   "file_extension": ".py",
   "mimetype": "text/x-python",
   "name": "python",
   "nbconvert_exporter": "python",
   "pygments_lexer": "ipython3",
   "version": "3.7.0"
  }
 },
 "nbformat": 4,
 "nbformat_minor": 2
}
